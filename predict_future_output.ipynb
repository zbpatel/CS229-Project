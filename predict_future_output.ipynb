{
 "cells": [
  {
   "cell_type": "markdown",
   "metadata": {
    "collapsed": true,
    "pycharm": {
     "name": "#%% md\n"
    }
   },
   "source": [
    "# predict_future_output \n",
    "\n",
    "## Goal: predict future outputs of the various electron gun beams\n"
   ]
  },
  {
   "cell_type": "code",
   "execution_count": null,
   "outputs": [],
   "source": [
    "input_file = \"dataset1_clean.csv\""
   ],
   "metadata": {
    "collapsed": false,
    "pycharm": {
     "name": "#%% \n",
     "is_executing": true
    }
   }
  },
  {
   "cell_type": "code",
   "execution_count": 2,
   "outputs": [],
   "source": [
    "# imports:\n",
    "import pandas as pd\n",
    "import matplotlib.pyplot as plt\n",
    "import numpy as np\n",
    "import time\n",
    "# import helpers from sklearn\n",
    "from sklearn.metrics import mean_squared_error\n",
    "from sklearn.model_selection import train_test_split\n",
    "from sklearn.decomposition import PCA\n",
    "\n",
    "# import utils and other models\n",
    "import utils\n",
    "import bla_avg_model\n",
    "import bla_constant_model\n",
    "import bla_linear_model\n",
    "import bla_lasso_model\n",
    "import bla_kernel_lr_model\n"
   ],
   "metadata": {
    "collapsed": false,
    "pycharm": {
     "name": "#%%\n",
     "is_executing": false
    }
   }
  },
  {
   "cell_type": "code",
   "execution_count": 3,
   "outputs": [],
   "source": [
    "# load in cleaned dataset\n",
    "data = pd.read_csv(input_file, index_col=[0], skipinitialspace=True)\n",
    "\n",
    "# add in integer index\n",
    "data = data.reset_index().reset_index().set_index([\"Time\"])\n",
    "#print(data.head())"
   ],
   "metadata": {
    "collapsed": false,
    "pycharm": {
     "name": "#%%\n",
     "is_executing": false
    }
   }
  },
  {
   "cell_type": "code",
   "execution_count": 4,
   "outputs": [],
   "source": [
    "# (year set to 1900 since that is the base for datetime objects)\n",
    "# note date ranges are not inclusive\n",
    "train_date_range = [\"1900-01-01\", \"1900-01-08\"]\n",
    "test_date_range = [\"1900-01-08\", \"1900-01-10\"]\n",
    "\n",
    "full_train, test = utils.split_by_day(data, train_date_range, test_date_range)\n",
    "\n",
    "#print(full_train.info())\n",
    "#print(test.info())"
   ],
   "metadata": {
    "collapsed": false,
    "pycharm": {
     "name": "#%%\n",
     "is_executing": false
    }
   }
  },
  {
   "cell_type": "code",
   "execution_count": 5,
   "outputs": [],
   "source": [
    "# split full_train into a train and valdiation set\n",
    "validation_frac = .1\n",
    "train, validation = train_test_split(full_train, test_size=validation_frac)\n",
    "#print(validation.info())\n",
    "#print(train.info())"
   ],
   "metadata": {
    "collapsed": false,
    "pycharm": {
     "name": "#%%\n",
     "is_executing": false
    }
   }
  },
  {
   "cell_type": "code",
   "execution_count": 6,
   "outputs": [],
   "source": [
    "# convert the train and validation dataframes into a set of np arrays that can be more readily used to train models\n",
    "train_X_95th, train_X_median, train_X_5th = utils.split_X_into_quantiles(train, accept_index=True)\n",
    "train_Y_95th, train_Y_median, train_Y_5th = utils.split_Y_into_beams_and_quantiles(train)\n",
    "\n",
    "validation_X_95th, validation_X_median, validation_X_5th = utils.split_X_into_quantiles(validation, accept_index=True)\n",
    "validation_Y_95th, validation_Y_median, validation_Y_5th = utils.split_Y_into_beams_and_quantiles(validation)"
   ],
   "metadata": {
    "collapsed": false,
    "pycharm": {
     "name": "#%%\n",
     "is_executing": false
    }
   }
  },
  {
   "cell_type": "code",
   "execution_count": 7,
   "outputs": [],
   "source": [
    "# Create versions of our training set wihtout an index column, and then conduct PCA to get dimension reduced versions\n",
    "# of our dataset\n",
    "\n",
    "# create training and validation X sets without the index column\n",
    "train_X_95th_ni, train_X_median_ni, train_X_5th_ni = utils.split_X_into_quantiles(train, accept_index=False)\n",
    "validation_X_95th_ni, validation_X_median_ni, validation_X_5th_ni = utils.split_X_into_quantiles(validation, accept_index=False)\n",
    "\n",
    "# compute the PCA, using n=10 (learned from EDA.ipynb)\n",
    "model_pca = PCA(n_components=10)\n",
    "model_pca.fit(train_X_median_ni)\n",
    "\n",
    "# apply PCA to the train and test median sets\n",
    "train_X_median_ni = model_pca.transform(train_X_median_ni)\n",
    "validation_X_median_ni = model_pca.transform(validation_X_median_ni)"
   ],
   "metadata": {
    "collapsed": false,
    "pycharm": {
     "name": "#%%\n",
     "is_executing": false
    }
   }
  },
  {
   "cell_type": "markdown",
   "source": [
    "### Evaluation Metrics\n",
    "\n",
    "Mean Squared Error (MSE) computed using sklearn.metrics.mean_squared_error"
   ],
   "metadata": {
    "collapsed": false,
    "pycharm": {
     "name": "#%% md\n"
    }
   }
  },
  {
   "cell_type": "code",
   "execution_count": 8,
   "outputs": [],
   "source": [
    "def prop_within_bounds(actual, pred_95th, pred_5th):\n",
    "    # return the proportion of points in actual that fall between the predicted 5th and 95th quantiles\n",
    "    num_points = actual.shape[0]\n",
    "    within_upper = actual > pred_95th\n",
    "    within_lower = actual < pred_5th\n",
    "    within_range = np.logical_and(within_upper, within_lower)\n",
    "    return np.count_nonzero(within_range) / num_points"
   ],
   "metadata": {
    "collapsed": false,
    "pycharm": {
     "name": "#%%\n",
     "is_executing": false
    }
   }
  },
  {
   "cell_type": "code",
   "execution_count": 9,
   "outputs": [],
   "source": [
    "def plot_single_test_mse(mses, probs, title):\n",
    "    beams = list(range(1, 7))\n",
    "    mse_95 = [mse[0] for mse in mses]\n",
    "    mse_median = [mse[1] for mse in mses]\n",
    "    mse_5 = [mse[2] for mse in mses]\n",
    "    \n",
    "    # See: https://matplotlib.org/gallery/api/two_scales.html\n",
    "    fig, ax1 = plt.subplots()\n",
    "    ax1.set_xlabel('Beam (BLA#)')\n",
    "    ax1.set_ylabel('Mean Squared Error', color=\"Red\")\n",
    "    ax1.plot(beams, mse_median, 'o', color=\"Red\")\n",
    "    ax1.tick_params(axis='y', labelcolor=\"Red\")\n",
    "    ax1.set_title(title)\n",
    "    \n",
    "    ax2 = ax1.twinx()\n",
    "    \n",
    "    ax2.set_ylabel('Proportion of Samples within 5-95 range', color=\"Blue\")\n",
    "    ax2.plot(beams, probs, 'o', color=\"Blue\")\n",
    "    ax2.tick_params(axis='y', labelcolor=\"Blue\")\n",
    "    ax2.set_ylim((0, 1))\n",
    "    \n",
    "    fig.tight_layout()\n",
    "    plt.show()"
   ],
   "metadata": {
    "collapsed": false,
    "pycharm": {
     "name": "#%%\n",
     "is_executing": false
    }
   }
  },
  {
   "cell_type": "markdown",
   "source": [
    "## Baseline 1: BlaConstantModel\n",
    "\n",
    "This model averages the input for each beam over the training period and predicts that value as constant for each beam.\n",
    "\n",
    "This represents the most naive model, since it assumes independence from the features and labels, and no change in the \n",
    "labels over time.\n",
    "\n",
    "### Train Baseline 1"
   ],
   "metadata": {
    "collapsed": false,
    "pycharm": {
     "name": "#%% md\n"
    }
   }
  },
  {
   "cell_type": "code",
   "execution_count": 10,
   "outputs": [],
   "source": [
    "baseline_1_95 = bla_constant_model.BlaConstantModel()\n",
    "baseline_1_median = bla_constant_model.BlaConstantModel()\n",
    "baseline_1_5 = bla_constant_model.BlaConstantModel()\n",
    "\n",
    "baseline_1_95.train(train_X_median, train_Y_95th)\n",
    "baseline_1_median.train(train_X_median, train_Y_median)\n",
    "baseline_1_5.train(train_X_median, train_Y_5th)\n",
    "\n",
    "baseline_1_pred_95 = [baseline_1_95.predict(validation_X_median, i) for i in range(6)]\n",
    "baseline_1_pred_median = [baseline_1_median.predict(validation_X_median, i) for i in range(6)]\n",
    "baseline_1_pred_5 = [baseline_1_5.predict(validation_X_median, i) for i in range(6)]\n"
   ],
   "metadata": {
    "collapsed": false,
    "pycharm": {
     "name": "#%%\n",
     "is_executing": false
    }
   }
  },
  {
   "cell_type": "markdown",
   "source": [
    "### Validate Baseline 1"
   ],
   "metadata": {
    "collapsed": false,
    "pycharm": {
     "name": "#%% md\n"
    }
   }
  },
  {
   "cell_type": "code",
   "execution_count": 11,
   "outputs": [
    {
     "name": "stdout",
     "text": [
      "[0.29365079365079366, 0.5168650793650794, 0.19047619047619047, 0.4712301587301587, 0.19543650793650794, 0.38392857142857145]\n[[0.03881444843593016, 0.03836069425198058, 0.03820901863440688], [0.031264502926810864, 0.030537234933339368, 0.031578038260506584], [0.18643221646203476, 0.18046862173483422, 0.17763315095386709], [0.022319377073442063, 0.021979932858560033, 0.022436237840442224], [0.11739009120230882, 0.1166594228219122, 0.11593382139194958], [0.05981894029865659, 0.05661918302991841, 0.055819357903092205]]\n"
     ],
     "output_type": "stream"
    }
   ],
   "source": [
    "baseline_1_valid_props = []\n",
    "for i in range(6):\n",
    "    p = prop_within_bounds(validation_Y_median[i], baseline_1_pred_95[i], baseline_1_pred_5[i])\n",
    "    baseline_1_valid_props.append(p)\n",
    "    \n",
    "print(baseline_1_valid_props)\n",
    "\n",
    "baseline_1_valid_mses = []\n",
    "for i in range(6):\n",
    "    mse_95 = mean_squared_error(validation_Y_95th[i], baseline_1_pred_95[i])\n",
    "    mse_median = mean_squared_error(validation_Y_median[i], baseline_1_pred_median[i])\n",
    "    mse_5 = mean_squared_error(validation_Y_5th[i], baseline_1_pred_5[i])\n",
    "    baseline_1_valid_mses.append([mse_95, mse_median, mse_5])\n",
    "    \n",
    "print(baseline_1_valid_mses)"
   ],
   "metadata": {
    "collapsed": false,
    "pycharm": {
     "name": "#%%\n",
     "is_executing": false
    }
   }
  },
  {
   "cell_type": "code",
   "execution_count": 12,
   "outputs": [
    {
     "data": {
      "text/plain": "<Figure size 432x288 with 2 Axes>",
      "image/png": "[encoded data removed]"
     },
     "metadata": {
      "needs_background": "light"
     },
     "output_type": "display_data"
    }
   ],
   "source": [
    "plot_single_test_mse(baseline_1_valid_mses, baseline_1_valid_props, \"Baseline 1: BlaConstantModel\")"
   ],
   "metadata": {
    "collapsed": false,
    "pycharm": {
     "name": "#%%\n",
     "is_executing": false
    }
   }
  },
  {
   "cell_type": "markdown",
   "source": [
    "## Baseline 2: BlaAvgModel\n",
    "This model ignores differences in beams and tries to fit a single model for all beams by averaging the output from all\n",
    "beams into a single \"y\" before fitting.\n",
    "\n",
    "### Train Baseline 2"
   ],
   "metadata": {
    "collapsed": false,
    "pycharm": {
     "name": "#%% md\n"
    }
   }
  },
  {
   "cell_type": "code",
   "execution_count": 13,
   "outputs": [],
   "source": [
    "baseline_2_95 = bla_avg_model.BlaAvgModel()\n",
    "baseline_2_median = bla_avg_model.BlaAvgModel()\n",
    "baseline_2_5 = bla_avg_model.BlaAvgModel()\n",
    "\n",
    "baseline_2_95.train(train_X_median, train_Y_95th)\n",
    "baseline_2_median.train(train_X_median, train_Y_median)\n",
    "baseline_2_5.train(train_X_median, train_Y_5th)\n",
    "\n",
    "baseline_2_pred_95 = baseline_2_95.predict(validation_X_median)\n",
    "baseline_2_pred_median = baseline_2_median.predict(validation_X_median)\n",
    "baseline_2_pred_5 = baseline_2_5.predict(validation_X_median)"
   ],
   "metadata": {
    "collapsed": false,
    "pycharm": {
     "name": "#%%\n",
     "is_executing": false
    }
   }
  },
  {
   "cell_type": "markdown",
   "source": [
    "### Validate Baseline 2"
   ],
   "metadata": {
    "collapsed": false,
    "pycharm": {
     "name": "#%% md\n"
    }
   }
  },
  {
   "cell_type": "code",
   "execution_count": 14,
   "outputs": [
    {
     "name": "stdout",
     "text": [
      "[0.0, 0.000992063492063492, 0.0, 0.0, 0.4851190476190476, 0.0]\n[[17.820791023082357, 17.801131386168496, 17.796493415011305], [0.36307415421012085, 0.32385585129296923, 0.2853313098316162], [0.8017616065231017, 0.7729211718121978, 0.755382680441127], [13.079522258444783, 13.310894032022672, 13.534446832999212], [0.056346135931115336, 0.060935659554061335, 0.06625258011737604], [0.8669209144749359, 0.8855290441048339, 0.9030791754857679]]\n"
     ],
     "output_type": "stream"
    }
   ],
   "source": [
    "baseline_2_valid_props = []\n",
    "for i in range(6):\n",
    "    p = prop_within_bounds(validation_Y_median[i], baseline_2_pred_95, baseline_2_pred_5)\n",
    "    baseline_2_valid_props.append(p)\n",
    "    \n",
    "print(baseline_2_valid_props)\n",
    "\n",
    "baseline_2_valid_mses = []\n",
    "for i in range(6):\n",
    "    mse_95 = mean_squared_error(validation_Y_95th[i], baseline_2_pred_95)\n",
    "    mse_median = mean_squared_error(validation_Y_median[i], baseline_2_pred_median)\n",
    "    mse_5 = mean_squared_error(validation_Y_5th[i], baseline_2_pred_5)\n",
    "    baseline_2_valid_mses.append([mse_95, mse_median, mse_5])\n",
    "    \n",
    "print(baseline_2_valid_mses)"
   ],
   "metadata": {
    "collapsed": false,
    "pycharm": {
     "name": "#%%\n",
     "is_executing": false
    }
   }
  },
  {
   "cell_type": "code",
   "execution_count": 15,
   "outputs": [
    {
     "data": {
      "text/plain": "<Figure size 432x288 with 2 Axes>",
      "image/png": "[encoded data removed]"
     },
     "metadata": {
      "needs_background": "light"
     },
     "output_type": "display_data"
    }
   ],
   "source": [
    "plot_single_test_mse(baseline_2_valid_mses, baseline_2_valid_props, \"Baseline 2: BlaAvgModel\")"
   ],
   "metadata": {
    "collapsed": false,
    "pycharm": {
     "name": "#%%\n",
     "is_executing": false
    }
   }
  },
  {
   "cell_type": "markdown",
   "source": [
    "## Model 1: Regular Least Squares Regression for Each Beam\n",
    "This model trains a regular least squares model for each beam independently. Parameters for the least squares model are\n",
    "standard, and an intercept is added.\n",
    "\n",
    "### Train Model 1"
   ],
   "metadata": {
    "collapsed": false,
    "pycharm": {
     "name": "#%% md\n"
    }
   }
  },
  {
   "cell_type": "code",
   "execution_count": 16,
   "outputs": [],
   "source": [
    "model_1_95 = bla_linear_model.BlaLinearModel()\n",
    "model_1_median = bla_linear_model.BlaLinearModel()\n",
    "model_1_5 = bla_linear_model.BlaLinearModel()\n",
    "\n",
    "model_1_95.train(train_X_median, train_Y_95th)\n",
    "model_1_median.train(train_X_median, train_Y_median)\n",
    "model_1_5.train(train_X_median, train_Y_5th)\n",
    "\n",
    "model_1_pred_95 = [model_1_95.predict(validation_X_median, i) for i in range(6)]\n",
    "model_1_pred_median = [model_1_median.predict(validation_X_median, i) for i in range(6)]\n",
    "model_1_pred_5 = [model_1_5.predict(validation_X_median, i) for i in range(6)]"
   ],
   "metadata": {
    "collapsed": false,
    "pycharm": {
     "name": "#%%\n",
     "is_executing": false
    }
   }
  },
  {
   "cell_type": "markdown",
   "source": [
    "### Validate Model 1\n"
   ],
   "metadata": {
    "collapsed": false,
    "pycharm": {
     "name": "#%% md\n"
    }
   }
  },
  {
   "cell_type": "code",
   "execution_count": 17,
   "outputs": [
    {
     "name": "stdout",
     "text": [
      "0.8038406765317125\n0.8358762358511805\n0.9275130790160722\n0.8636988159069147\n0.975086782770991\n0.6856281816427485\n[0.7718253968253969, 0.9424603174603174, 0.7232142857142857, 0.7757936507936508, 0.8353174603174603, 0.5922619047619048]\n[[0.007892770124251521, 0.007521628152931096, 0.007828131102976265], [0.005541866740139503, 0.005010587190471643, 0.005835650113921562], [0.015256298630844807, 0.013077857392976575, 0.013124586436575577], [0.0031118178308035442, 0.002991205400973402, 0.003255418594894833], [0.003291749455999616, 0.0029058440909848805, 0.003013599212019164], [0.019594661666822093, 0.017789411304621267, 0.017170612056893467]]\n"
     ],
     "output_type": "stream"
    }
   ],
   "source": [
    "model_1_valid_props = []\n",
    "for i in range(6):\n",
    "    p = prop_within_bounds(validation_Y_median[i], model_1_pred_95[i], model_1_pred_5[i])\n",
    "    model_1_valid_props.append(p)\n",
    "    print(model_1_median.models[i].score(validation_X_median, validation_Y_median[i]))\n",
    "    \n",
    "print(model_1_valid_props)\n",
    "\n",
    "model_1_valid_mses = []\n",
    "for i in range(6):\n",
    "    mse_95 = mean_squared_error(validation_Y_95th[i], model_1_pred_95[i])\n",
    "    mse_median = mean_squared_error(validation_Y_median[i], model_1_pred_median[i])\n",
    "    mse_5 = mean_squared_error(validation_Y_5th[i], model_1_pred_5[i])\n",
    "    model_1_valid_mses.append([mse_95, mse_median, mse_5])\n",
    "    \n",
    "print(model_1_valid_mses)"
   ],
   "metadata": {
    "collapsed": false,
    "pycharm": {
     "name": "#%%\n",
     "is_executing": false
    }
   }
  },
  {
   "cell_type": "code",
   "execution_count": 18,
   "outputs": [
    {
     "data": {
      "text/plain": "<Figure size 432x288 with 2 Axes>",
      "image/png": "[encoded data removed]"
     },
     "metadata": {
      "needs_background": "light"
     },
     "output_type": "display_data"
    }
   ],
   "source": [
    "plot_single_test_mse(model_1_valid_mses, model_1_valid_props, \"Model 1: Linear\")"
   ],
   "metadata": {
    "collapsed": false,
    "pycharm": {
     "name": "#%%\n",
     "is_executing": false
    }
   }
  },
  {
   "cell_type": "markdown",
   "source": [
    "## Model 2: Lasso (Linear Regression with L1 Regularization)\n",
    "This model adds a l1 regularization term to the objective function. This has the effect of penalizing nonzero coefficients,\n",
    "which in turn minimizes the number of nonzero coefficients. \n",
    "\n",
    "### Train Model 2"
   ],
   "metadata": {
    "collapsed": false,
    "pycharm": {
     "name": "#%% md\n"
    }
   }
  },
  {
   "cell_type": "code",
   "execution_count": 19,
   "outputs": [],
   "source": [
    "model_2_95 = bla_lasso_model.BlaLassoModel(alpha=1)\n",
    "model_2_median = bla_lasso_model.BlaLassoModel(alpha=1)\n",
    "model_2_5 = bla_lasso_model.BlaLassoModel(alpha=1)\n",
    "\n",
    "model_2_95.train(train_X_median, train_Y_95th)\n",
    "model_2_median.train(train_X_median, train_Y_median)\n",
    "model_2_5.train(train_X_median, train_Y_5th)\n",
    "\n",
    "model_2_pred_95 = [model_2_95.predict(validation_X_median, i) for i in range(6)]\n",
    "model_2_pred_median = [model_2_median.predict(validation_X_median, i) for i in range(6)]\n",
    "model_2_pred_5 = [model_2_5.predict(validation_X_median, i) for i in range(6)]"
   ],
   "metadata": {
    "collapsed": false,
    "pycharm": {
     "name": "#%%\n",
     "is_executing": false
    }
   }
  },
  {
   "cell_type": "markdown",
   "source": [
    "### Validate Model 2"
   ],
   "metadata": {
    "collapsed": false,
    "pycharm": {
     "name": "#%% md\n"
    }
   }
  },
  {
   "cell_type": "code",
   "execution_count": 20,
   "outputs": [
    {
     "name": "stdout",
     "text": [
      "[0.30257936507936506, 0.8611111111111112, 0.30158730158730157, 0.5803571428571429, 0.6785714285714286, 0.4097222222222222]\n[[0.03621639760143002, 0.03557128107518537, 0.03513280036762333], [0.009931509135863803, 0.009692560691682405, 0.010278847671841907], [0.1563478044352561, 0.1507108700405029, 0.1484228532752506], [0.01479337748643168, 0.01451226169618181, 0.014732349738564634], [0.006370292679700139, 0.005990803472183965, 0.005998197588482294], [0.056348937134022295, 0.053450520257641486, 0.052636812361060346]]\n"
     ],
     "output_type": "stream"
    }
   ],
   "source": [
    "model_2_valid_props = []\n",
    "for i in range(6):\n",
    "    p = prop_within_bounds(validation_Y_median[i], model_2_pred_95[i], model_2_pred_5[i])\n",
    "    model_2_valid_props.append(p)\n",
    "    #print(model_2_median.models[i].coef_, model_2_median.models[i].intercept_)\n",
    "    #print(model_2_median.models[i].score(validation_X_median, validation_Y_median[i]))\n",
    "    \n",
    "print(model_2_valid_props)\n",
    "\n",
    "model_2_valid_mses = []\n",
    "for i in range(6):\n",
    "    mse_95 = mean_squared_error(validation_Y_95th[i], model_2_pred_95[i])\n",
    "    mse_median = mean_squared_error(validation_Y_median[i], model_2_pred_median[i])\n",
    "    mse_5 = mean_squared_error(validation_Y_5th[i], model_2_pred_5[i])\n",
    "    model_2_valid_mses.append([mse_95, mse_median, mse_5])\n",
    "    \n",
    "print(model_2_valid_mses)"
   ],
   "metadata": {
    "collapsed": false,
    "pycharm": {
     "name": "#%%\n",
     "is_executing": false
    }
   }
  },
  {
   "cell_type": "code",
   "execution_count": 21,
   "outputs": [
    {
     "data": {
      "text/plain": "<Figure size 432x288 with 2 Axes>",
      "image/png": "[encoded data removed]"
     },
     "metadata": {
      "needs_background": "light"
     },
     "output_type": "display_data"
    }
   ],
   "source": [
    "plot_single_test_mse(model_2_valid_mses, model_2_valid_props, \"Model 2: Lasso\")"
   ],
   "metadata": {
    "collapsed": false,
    "pycharm": {
     "name": "#%%\n",
     "is_executing": false
    }
   }
  },
  {
   "cell_type": "markdown",
   "source": [
    "## Model 3: Kernelized Linear Regression (l2 reg)\n",
    "\n",
    "### Train Model 3"
   ],
   "metadata": {
    "collapsed": false,
    "pycharm": {
     "name": "#%% md\n",
     "is_executing": false
    }
   }
  },
  {
   "cell_type": "code",
   "execution_count": 22,
   "outputs": [],
   "source": [
    "# Configure the kernel:\n",
    "model_3_kernel = 'polynomial'\n",
    "model_3_poly_degree = 3"
   ],
   "metadata": {
    "collapsed": false,
    "pycharm": {
     "name": "#%% \n",
     "is_executing": false
    }
   }
  },
  {
   "cell_type": "code",
   "source": [
    "model_3_95 = bla_kernel_lr_model.BlaKernelLRModel(kernel=model_3_kernel, degree=model_3_poly_degree, alpha=1)\n",
    "model_3_median = bla_kernel_lr_model.BlaKernelLRModel(kernel=model_3_kernel, degree=model_3_poly_degree, alpha=1)\n",
    "model_3_5 = bla_kernel_lr_model.BlaKernelLRModel(kernel=model_3_kernel, degree=model_3_poly_degree, alpha=1)\n",
    "\n",
    "m1_start = time.time()\n",
    "model_3_95.train(train_X_median_ni, train_Y_95th)\n",
    "m2_start = time.time()\n",
    "print(\"Finished Training Model 3 95th in %d seconds\" % (m2_start - m1_start))\n",
    "\n",
    "model_3_median.train(train_X_median_ni, train_Y_median)\n",
    "m3_start = time.time()\n",
    "print(\"Finished Training Model 3 median in %d seconds\" % (m3_start - m2_start))\n",
    "\n",
    "model_3_5.train(train_X_median_ni, train_Y_5th)\n",
    "m3_finish = time.time()\n",
    "print(\"Finished Training Model 3 5th in %d seconds\" % (m3_finish - m3_start))\n",
    "\n",
    "model_3_train_times = [m2_start - m1_start, m3_start - m2_start, m3_finish - m3_start]"
   ],
   "metadata": {
    "collapsed": false,
    "pycharm": {
     "name": "#%%\n",
     "is_executing": false
    }
   },
   "execution_count": 23,
   "outputs": [
    {
     "name": "stdout",
     "text": [
      "Finished Training Model 3 95th in 92 seconds\n",
      "Finished Training Model 3 median in 93 seconds\n",
      "Finished Training Model 3 5th in 90 seconds\n"
     ],
     "output_type": "stream"
    }
   ]
  },
  {
   "cell_type": "code",
   "source": [
    "# split predictions into another cell because train time is so long\n",
    "model_3_pred_95 = [model_3_95.predict(validation_X_median_ni, i) for i in range(6)]\n",
    "model_3_pred_median = [model_3_median.predict(validation_X_median_ni, i) for i in range(6)]\n",
    "model_3_pred_5 = [model_3_5.predict(validation_X_median_ni, i) for i in range(6)]"
   ],
   "metadata": {
    "collapsed": false,
    "pycharm": {
     "name": "#%%\n",
     "is_executing": false
    }
   },
   "execution_count": 24,
   "outputs": []
  },
  {
   "cell_type": "markdown",
   "source": [
    "### Validate Model 3"
   ],
   "metadata": {
    "collapsed": false,
    "pycharm": {
     "name": "#%% md\n",
     "is_executing": true
    }
   }
  },
  {
   "cell_type": "code",
   "source": [
    "model_3_valid_props = []\n",
    "for i in range(6):\n",
    "    p = prop_within_bounds(validation_Y_median[i], model_3_pred_95[i], model_3_pred_5[i])\n",
    "    model_3_valid_props.append(p)\n",
    "    #print(model_2_median.models[i].coef_, model_2_median.models[i].intercept_)\n",
    "    #print(model_2_median.models[i].score(validation_X_median, validation_Y_median[i]))\n",
    "    \n",
    "print(model_3_valid_props)\n",
    "\n",
    "model_3_valid_mses = []\n",
    "for i in range(6):\n",
    "    mse_95 = mean_squared_error(validation_Y_95th[i], model_3_pred_95[i])\n",
    "    mse_median = mean_squared_error(validation_Y_median[i], model_3_pred_median[i])\n",
    "    mse_5 = mean_squared_error(validation_Y_5th[i], model_3_pred_5[i])\n",
    "    model_3_valid_mses.append([mse_95, mse_median, mse_5])\n",
    "    \n",
    "print(model_3_valid_mses)"
   ],
   "metadata": {
    "collapsed": false,
    "pycharm": {
     "name": "#%%\n",
     "is_executing": false
    }
   },
   "execution_count": 25,
   "outputs": [
    {
     "name": "stdout",
     "text": [
      "[0.8204365079365079, 0.9156746031746031, 0.8244047619047619, 0.7757936507936508, 0.7619047619047619, 0.7192460317460317]\n[[0.005815658768411818, 0.00535916192416616, 0.005749586749912014], [0.006041005506670653, 0.005677330316175431, 0.006460543314909121], [0.00969989689800234, 0.008187352390911751, 0.00839478216334223], [0.0032012894508505604, 0.003001129938437768, 0.0032675770178416117], [0.004548950175061635, 0.004151289089960605, 0.004339236053927863], [0.012373923243336955, 0.010958562422864344, 0.010726611936629608]]\n"
     ],
     "output_type": "stream"
    }
   ]
  },
  {
   "cell_type": "code",
   "source": [
    "plot_single_test_mse(model_3_valid_mses, model_3_valid_props, \"Model 3: KLR (l2 reg)\")"
   ],
   "metadata": {
    "collapsed": false,
    "pycharm": {
     "name": "#%%\n",
     "is_executing": false
    }
   },
   "execution_count": 26,
   "outputs": [
    {
     "data": {
      "text/plain": "<Figure size 432x288 with 2 Axes>",
      "image/png": "[encoded data removed]"
     },
     "metadata": {
      "needs_background": "light"
     },
     "output_type": "display_data"
    }
   ]
  },
  {
   "cell_type": "markdown",
   "source": [
    "## Model 4: Kernelized Linear Regression (with L2 reg)\n",
    "\n",
    "### Train Model 4"
   ],
   "metadata": {
    "collapsed": false,
    "pycharm": {
     "name": "#%% md\n"
    }
   }
  },
  {
   "cell_type": "code",
   "execution_count": 27,
   "outputs": [],
   "source": [
    "# Configure the kernel:\n",
    "model_4_kernel = 'polynomial'\n",
    "model_4_poly_degree = 5"
   ],
   "metadata": {
    "collapsed": false,
    "pycharm": {
     "name": "#%% \n",
     "is_executing": false
    }
   }
  },
  {
   "cell_type": "code",
   "execution_count": 28,
   "outputs": [
    {
     "name": "stdout",
     "text": [
      "Finished Training Model 4 95th in 85 seconds\n",
      "Finished Training Model 4 median in 89 seconds\n",
      "Finished Training Model 4 5th in 103 seconds\n"
     ],
     "output_type": "stream"
    }
   ],
   "source": [
    "model_4_95 = bla_kernel_lr_model.BlaKernelLRModel(kernel=model_4_kernel, degree=model_4_poly_degree, alpha=1)\n",
    "model_4_median = bla_kernel_lr_model.BlaKernelLRModel(kernel=model_4_kernel, degree=model_4_poly_degree, alpha=1)\n",
    "model_4_5 = bla_kernel_lr_model.BlaKernelLRModel(kernel=model_4_kernel, degree=model_4_poly_degree, alpha=1)\n",
    "\n",
    "m1_start = time.time()\n",
    "model_4_95.train(train_X_median_ni, train_Y_95th)\n",
    "m2_start = time.time()\n",
    "print(\"Finished Training Model 4 95th in %d seconds\" % (m2_start - m1_start))\n",
    "\n",
    "model_4_median.train(train_X_median_ni, train_Y_median)\n",
    "m3_start = time.time()\n",
    "print(\"Finished Training Model 4 median in %d seconds\" % (m3_start - m2_start))\n",
    "\n",
    "model_4_5.train(train_X_median_ni, train_Y_5th)\n",
    "m3_finish = time.time()\n",
    "print(\"Finished Training Model 4 5th in %d seconds\" % (m3_finish - m3_start))\n",
    "\n",
    "model_3_train_times = [m2_start - m1_start, m3_start - m2_start, m3_finish - m3_start]"
   ],
   "metadata": {
    "collapsed": false,
    "pycharm": {
     "name": "#%%\n",
     "is_executing": false
    }
   }
  },
  {
   "cell_type": "code",
   "execution_count": 29,
   "outputs": [],
   "source": [
    "# split predictions into another cell because train time is so long\n",
    "model_4_pred_95 = [model_4_95.predict(validation_X_median_ni, i) for i in range(6)]\n",
    "model_4_pred_median = [model_4_median.predict(validation_X_median_ni, i) for i in range(6)]\n",
    "model_4_pred_5 = [model_4_5.predict(validation_X_median_ni, i) for i in range(6)]"
   ],
   "metadata": {
    "collapsed": false,
    "pycharm": {
     "name": "#%%\n",
     "is_executing": false
    }
   }
  },
  {
   "cell_type": "markdown",
   "source": [
    "### Validate Model 4"
   ],
   "metadata": {
    "collapsed": false
   }
  },
  {
   "cell_type": "code",
   "execution_count": 30,
   "outputs": [
    {
     "name": "stdout",
     "text": [
      "[0.878968253968254, 0.9484126984126984, 0.878968253968254, 0.7847222222222222, 0.8015873015873016, 0.8333333333333334]\n[[0.004498522832861129, 0.004164341727919861, 0.004586400437718942], [0.005485596678228862, 0.00470329175510276, 0.005501052919857128], [0.006573530016320181, 0.005189711438953258, 0.005683412231770249], [0.003395215948593933, 0.003099854496184509, 0.0033341405524495962], [0.0036468010196611406, 0.0033260717423231664, 0.0035743292895096274], [0.008025561691333312, 0.006411367658256655, 0.006749355539858973]]\n"
     ],
     "output_type": "stream"
    }
   ],
   "source": [
    "model_4_valid_props = []\n",
    "for i in range(6):\n",
    "    p = prop_within_bounds(validation_Y_median[i], model_4_pred_95[i], model_4_pred_5[i])\n",
    "    model_4_valid_props.append(p)\n",
    "    #print(model_2_median.models[i].coef_, model_2_median.models[i].intercept_)\n",
    "    #print(model_2_median.models[i].score(validation_X_median, validation_Y_median[i]))\n",
    "    \n",
    "print(model_4_valid_props)\n",
    "\n",
    "model_4_valid_mses = []\n",
    "for i in range(6):\n",
    "    mse_95 = mean_squared_error(validation_Y_95th[i], model_4_pred_95[i])\n",
    "    mse_median = mean_squared_error(validation_Y_median[i], model_4_pred_median[i])\n",
    "    mse_5 = mean_squared_error(validation_Y_5th[i], model_4_pred_5[i])\n",
    "    model_4_valid_mses.append([mse_95, mse_median, mse_5])\n",
    "    \n",
    "print(model_4_valid_mses)"
   ],
   "metadata": {
    "collapsed": false,
    "pycharm": {
     "name": "#%%\n",
     "is_executing": false
    }
   }
  },
  {
   "cell_type": "code",
   "execution_count": 31,
   "outputs": [
    {
     "data": {
      "text/plain": "<Figure size 432x288 with 2 Axes>",
      "image/png": "[encoded data removed]"
     },
     "metadata": {
      "needs_background": "light"
     },
     "output_type": "display_data"
    }
   ],
   "source": [
    "plot_single_test_mse(model_4_valid_mses, model_4_valid_props, \"Model 4: KLR (l2 reg)\")"
   ],
   "metadata": {
    "collapsed": false,
    "pycharm": {
     "name": "#%%\n",
     "is_executing": false
    }
   }
  },
  {
   "cell_type": "markdown",
   "source": [
    "## Evaluate Models on Test Set\n",
    "\n",
    "### Configure Test Set"
   ],
   "metadata": {
    "collapsed": false,
    "pycharm": {
     "name": "#%% md\n",
     "is_executing": true
    }
   }
  },
  {
   "cell_type": "code",
   "execution_count": 32,
   "outputs": [],
   "source": [
    "# split test set into a set of np arrays that can be more readily used to generate model predictions\n",
    "test_X_95th, test_X_median, test_X_5th = utils.split_X_into_quantiles(test, accept_index=True)\n",
    "test_Y_95th, test_Y_median, test_Y_5th = utils.split_Y_into_beams_and_quantiles(test)\n"
   ],
   "metadata": {
    "collapsed": false,
    "pycharm": {
     "name": "#%%\n",
     "is_executing": false
    }
   }
  },
  {
   "cell_type": "code",
   "execution_count": 33,
   "outputs": [],
   "source": [
    "test_X_95th_ni, test_X_median_ni, test_X_5th_ni = utils.split_X_into_quantiles(test, accept_index=False)\n",
    "\n",
    "# apply PCA to the test X set\n",
    "test_X_median_ni = model_pca.transform(test_X_median_ni)"
   ],
   "metadata": {
    "collapsed": false,
    "pycharm": {
     "name": "#%% create a test set without an index column and run PCA on it for our kernelized ridge regression models\n",
     "is_executing": false
    }
   }
  },
  {
   "cell_type": "markdown",
   "source": [
    "### Generate Test Predictions for Each Model"
   ],
   "metadata": {
    "collapsed": false,
    "pycharm": {
     "name": "#%% md\n"
    }
   }
  },
  {
   "cell_type": "markdown",
   "source": [
    "#### Baseline 1"
   ],
   "metadata": {
    "collapsed": false,
    "pycharm": {
     "name": "#%% md\n"
    }
   }
  },
  {
   "cell_type": "code",
   "execution_count": 34,
   "outputs": [
    {
     "name": "stdout",
     "text": [
      "[0.030975008799718408, 0.6092925026399155, 0.0, 0.11967617036254839, 0.0, 0.5550862372404083]\n[[0.12437990675257615, 0.1257526797685201, 0.1242102662671934], [0.019404337911563967, 0.019976437864603677, 0.020933034913827184], [0.302984045224298, 0.30341575744907395, 0.3008402017262894], [0.05276960219432846, 0.05234605244613763, 0.05195418742538297], [0.5233903863867283, 0.5194946921091149, 0.5173659446783228], [0.02521159677592999, 0.02273196272816944, 0.022020730707103135]]\n"
     ],
     "output_type": "stream"
    }
   ],
   "source": [
    "baseline_1_test_95 = [baseline_1_95.predict(test_X_median, i) for i in range(6)]\n",
    "baseline_1_test_median = [baseline_1_median.predict(test_X_median, i) for i in range(6)]\n",
    "baseline_1_test_5 = [baseline_1_5.predict(test_X_median, i) for i in range(6)]\n",
    "\n",
    "baseline_1_test_props = []\n",
    "for i in range(6):\n",
    "    p = prop_within_bounds(test_Y_median[i], baseline_1_test_95[i], baseline_1_test_5[i])\n",
    "    baseline_1_test_props.append(p)\n",
    "    \n",
    "print(baseline_1_test_props)\n",
    "\n",
    "baseline_1_test_mses = []\n",
    "for i in range(6):\n",
    "    mse_95 = mean_squared_error(test_Y_95th[i], baseline_1_test_95[i])\n",
    "    mse_median = mean_squared_error(test_Y_median[i], baseline_1_test_median[i])\n",
    "    mse_5 = mean_squared_error(test_Y_5th[i], baseline_1_test_5[i])\n",
    "    baseline_1_test_mses.append([mse_95, mse_median, mse_5])\n",
    "    \n",
    "print(baseline_1_test_mses)"
   ],
   "metadata": {
    "collapsed": false,
    "pycharm": {
     "name": "#%%\n",
     "is_executing": false
    }
   }
  },
  {
   "cell_type": "markdown",
   "source": [
    "#### Baseline 2"
   ],
   "metadata": {
    "collapsed": false,
    "pycharm": {
     "name": "#%% md\n"
    }
   }
  },
  {
   "cell_type": "code",
   "execution_count": 35,
   "outputs": [
    {
     "name": "stdout",
     "text": [
      "[0.0, 0.0, 0.0, 0.0, 0.09503695881731784, 0.00035198873636043646]\n[[17.21208291260981, 17.287072742637736, 17.27833998937429], [0.9743055354657643, 0.8968697454761824, 0.8309753774833722], [0.5378191176829326, 0.5008063122287584, 0.4874713595931971], [14.632810290292774, 14.822997300147424, 15.057258012145391], [0.05990411518919329, 0.05026703302300362, 0.04073827786589599], [0.3495870759486188, 0.3633312193050633, 0.37069877605108686]]\n"
     ],
     "output_type": "stream"
    }
   ],
   "source": [
    "baseline_2_test_95 = baseline_2_95.predict(test_X_median)\n",
    "baseline_2_test_median = baseline_2_median.predict(test_X_median)\n",
    "baseline_2_test_5 = baseline_2_5.predict(test_X_median)\n",
    "\n",
    "baseline_2_test_props = []\n",
    "for i in range(6):\n",
    "    p = prop_within_bounds(test_Y_median[i], baseline_2_test_95, baseline_2_test_5)\n",
    "    baseline_2_test_props.append(p)\n",
    "    \n",
    "print(baseline_2_test_props)\n",
    "\n",
    "baseline_2_test_mses = []\n",
    "for i in range(6):\n",
    "    mse_95 = mean_squared_error(test_Y_95th[i], baseline_2_test_95)\n",
    "    mse_median = mean_squared_error(test_Y_median[i], baseline_2_test_median)\n",
    "    mse_5 = mean_squared_error(test_Y_5th[i], baseline_2_test_5)\n",
    "    baseline_2_test_mses.append([mse_95, mse_median, mse_5])\n",
    "    \n",
    "print(baseline_2_test_mses)"
   ],
   "metadata": {
    "collapsed": false,
    "pycharm": {
     "name": "#%%\n",
     "is_executing": false
    }
   }
  },
  {
   "cell_type": "markdown",
   "source": [
    "#### Model 1"
   ],
   "metadata": {
    "collapsed": false,
    "pycharm": {
     "name": "#%% md\n"
    }
   }
  },
  {
   "cell_type": "code",
   "execution_count": 36,
   "outputs": [
    {
     "name": "stdout",
     "text": [
      "[0.13481168602604718, 0.4625131995776135, 0.14889123548046462, 0.21752903907074975, 0.5068637803590285, 0.08729320661738825]\n[[0.05687280498252841, 0.05652008478470185, 0.05710333653343533], [0.03710522992436191, 0.03163598842410403, 0.03414926667236127], [0.060501930049500885, 0.051702104687386376, 0.04900910757618665], [0.01801408304660914, 0.017767299443122858, 0.017644110963629177], [0.007558740916079849, 0.006774161052899581, 0.006916347850287738], [0.08339466490746802, 0.08165052146347976, 0.08321321536018397]]\n"
     ],
     "output_type": "stream"
    }
   ],
   "source": [
    "model_1_test_95 = [model_1_95.predict(test_X_median, i) for i in range(6)]\n",
    "model_1_test_median = [model_1_median.predict(test_X_median, i) for i in range(6)]\n",
    "model_1_test_5 = [model_1_5.predict(test_X_median, i) for i in range(6)]\n",
    "\n",
    "model_1_test_props = []\n",
    "for i in range(6):\n",
    "    p = prop_within_bounds(test_Y_median[i], model_1_test_95[i], model_1_test_5[i])\n",
    "    model_1_test_props.append(p)\n",
    "    \n",
    "print(model_1_test_props)\n",
    "\n",
    "model_1_test_mses = []\n",
    "for i in range(6):\n",
    "    mse_95 = mean_squared_error(test_Y_95th[i], model_1_test_95[i])\n",
    "    mse_median = mean_squared_error(test_Y_median[i], model_1_test_median[i])\n",
    "    mse_5 = mean_squared_error(test_Y_5th[i], model_1_test_5[i])\n",
    "    model_1_test_mses.append([mse_95, mse_median, mse_5])\n",
    "    \n",
    "print(model_1_test_mses)"
   ],
   "metadata": {
    "collapsed": false,
    "pycharm": {
     "name": "#%%\n",
     "is_executing": false
    }
   }
  },
  {
   "cell_type": "markdown",
   "source": [
    "#### Model 2"
   ],
   "metadata": {
    "collapsed": false
   }
  },
  {
   "cell_type": "code",
   "execution_count": 37,
   "outputs": [
    {
     "name": "stdout",
     "text": [
      "[0.14607532558958114, 0.23196057726152763, 0.26997536078845474, 0.49665610700457585, 0.5976768743400211, 0.3833157338965153]\n[[0.054656263037935915, 0.05508394223819902, 0.052555719294375226], [0.11332541941590776, 0.11417859469075425, 0.11429463816522765], [0.04458813908844979, 0.0432905866920743, 0.04381850924879541], [0.007715280299429559, 0.007580340896402321, 0.007588623870259485], [0.006410771941942311, 0.006160679880059287, 0.006395879449648734], [0.029002878642995958, 0.027546358377993165, 0.027890281129308907]]\n"
     ],
     "output_type": "stream"
    }
   ],
   "source": [
    "model_2_test_95 = [model_2_95.predict(test_X_median, i) for i in range(6)]\n",
    "model_2_test_median = [model_2_median.predict(test_X_median, i) for i in range(6)]\n",
    "model_2_test_5 = [model_2_5.predict(test_X_median, i) for i in range(6)]\n",
    "\n",
    "model_2_test_props = []\n",
    "for i in range(6):\n",
    "    p = prop_within_bounds(test_Y_median[i], model_2_test_95[i], model_2_test_5[i])\n",
    "    model_2_test_props.append(p)\n",
    "    # note to reader - the last item in each cofficient vector is the time index\n",
    "    #print(model_2_median.models[i].coef_, model_2_median.models[i].intercept_)\n",
    "    #print(model_2_median.models[i].score(validation_X_median, validation_Y_median[i]))\n",
    "    \n",
    "print(model_2_test_props)\n",
    "\n",
    "model_2_test_mses = []\n",
    "for i in range(6):\n",
    "    mse_95 = mean_squared_error(test_Y_95th[i], model_2_test_95[i])\n",
    "    mse_median = mean_squared_error(test_Y_median[i], model_2_test_median[i])\n",
    "    mse_5 = mean_squared_error(test_Y_5th[i], model_2_test_5[i])\n",
    "    model_2_test_mses.append([mse_95, mse_median, mse_5])\n",
    "    \n",
    "print(model_2_test_mses)"
   ],
   "metadata": {
    "collapsed": false,
    "pycharm": {
     "name": "#%%\n",
     "is_executing": false
    }
   }
  },
  {
   "cell_type": "markdown",
   "source": [
    "#### Model 3"
   ],
   "metadata": {
    "collapsed": false
   }
  },
  {
   "cell_type": "code",
   "execution_count": 38,
   "outputs": [
    {
     "name": "stdout",
     "text": [
      "[0.16437873988032384, 0.4449137627595917, 0.3136219640971489, 0.3639563533966913, 0.04505455825413587, 0.2682154171066526]\n[[0.07891271403667656, 0.0786967040141137, 0.07842874111146811], [0.045167698178483755, 0.04688384911522175, 0.050263929961834215], [0.07705465347229978, 0.07405572374392014, 0.07238210132030257], [0.013892338947925196, 0.013879128439596355, 0.013703335777552408], [0.15223123967020566, 0.14895125727595374, 0.14291752317103654], [0.17741057569148871, 0.18695937398665613, 0.18319672039889603]]\n"
     ],
     "output_type": "stream"
    }
   ],
   "source": [
    "# split predictions into another cell because train time is so long\n",
    "model_3_test_95 = [model_3_95.predict(test_X_median_ni, i) for i in range(6)]\n",
    "model_3_test_median = [model_3_median.predict(test_X_median_ni, i) for i in range(6)]\n",
    "model_3_test_5 = [model_3_5.predict(test_X_median_ni, i) for i in range(6)]\n",
    "\n",
    "model_3_test_props = []\n",
    "for i in range(6):\n",
    "    p = prop_within_bounds(test_Y_median[i], model_3_test_95[i], model_3_test_5[i])\n",
    "    model_3_test_props.append(p)\n",
    "    #print(model_2_median.models[i].coef_, model_2_median.models[i].intercept_)\n",
    "    #print(model_2_median.models[i].score(validation_X_median, validation_Y_median[i]))\n",
    "    \n",
    "print(model_3_test_props)\n",
    "\n",
    "model_3_test_mses = []\n",
    "for i in range(6):\n",
    "    mse_95 = mean_squared_error(test_Y_95th[i], model_3_test_95[i])\n",
    "    mse_median = mean_squared_error(test_Y_median[i], model_3_test_median[i])\n",
    "    mse_5 = mean_squared_error(test_Y_5th[i], model_3_test_5[i])\n",
    "    model_3_test_mses.append([mse_95, mse_median, mse_5])\n",
    "    \n",
    "print(model_3_test_mses)"
   ],
   "metadata": {
    "collapsed": false,
    "pycharm": {
     "name": "#%%\n",
     "is_executing": false
    }
   }
  },
  {
   "cell_type": "markdown",
   "source": [
    "#### Model 4"
   ],
   "metadata": {
    "collapsed": false,
    "pycharm": {
     "name": "#%% md\n",
     "is_executing": true
    }
   }
  },
  {
   "cell_type": "code",
   "execution_count": 39,
   "outputs": [
    {
     "name": "stdout",
     "text": [
      "[0.07849348820837733, 0.3892995424146427, 0.19570573741640268, 0.17388243576205561, 0.12002815909890883, 0.25906370996128125]\n[[0.09931422518316234, 0.08968470729018191, 0.09059011138543072], [0.31083229617288277, 0.24362923890939547, 0.24694029782349217], [0.23871556173330472, 0.2185328665297711, 0.1626734532395546], [0.11012662970365944, 0.1079385923147143, 0.10166956313781675], [0.18826109617269235, 0.18208363937475955, 0.1636798942775065], [0.13248498969045344, 0.14916498117449034, 0.14515882170474448]]\n"
     ],
     "output_type": "stream"
    }
   ],
   "source": [
    "model_4_test_95 = [model_4_95.predict(test_X_median_ni, i) for i in range(6)]\n",
    "model_4_test_median = [model_4_median.predict(test_X_median_ni, i) for i in range(6)]\n",
    "model_4_test_5 = [model_4_5.predict(test_X_median_ni, i) for i in range(6)]\n",
    "\n",
    "model_4_test_props = []\n",
    "for i in range(6):\n",
    "    p = prop_within_bounds(test_Y_median[i], model_4_test_95[i], model_4_test_5[i])\n",
    "    model_4_test_props.append(p)\n",
    "    #print(model_2_median.models[i].coef_, model_2_median.models[i].intercept_)\n",
    "    #print(model_2_median.models[i].score(validation_X_median, validation_Y_median[i]))\n",
    "    \n",
    "print(model_4_test_props)\n",
    "\n",
    "model_4_test_mses = []\n",
    "for i in range(6):\n",
    "    mse_95 = mean_squared_error(test_Y_95th[i], model_4_test_95[i])\n",
    "    mse_median = mean_squared_error(test_Y_median[i], model_4_test_median[i])\n",
    "    mse_5 = mean_squared_error(test_Y_5th[i], model_4_test_5[i])\n",
    "    model_4_test_mses.append([mse_95, mse_median, mse_5])\n",
    "    \n",
    "print(model_4_test_mses)"
   ],
   "metadata": {
    "collapsed": false,
    "pycharm": {
     "name": "#%%\n",
     "is_executing": false
    }
   }
  },
  {
   "cell_type": "code",
   "execution_count": null,
   "outputs": [],
   "source": [
    "# plot 95th percentile mses\n",
    "baseline_1_test_95_mse = [mse[0] for mse in baseline_1_test_mses]\n",
    "baseline_2_test_95_mse = [mse[0] for mse in baseline_2_test_mses]\n",
    "model_1_test_95_mse = [mse[0] for mse in model_1_test_mses]\n",
    "model_2_test_95_mse = [mse[0] for mse in model_2_test_mses]\n",
    "model_3_test_95_mse = [mse[0] for mse in model_3_test_mses]\n",
    "model_4_test_95_mse = [mse[0] for mse in model_4_test_mses]\n",
    "\n",
    "# median mses\n",
    "baseline_1_test_median_mse = [mse[1] for mse in baseline_1_test_mses]\n",
    "baseline_2_test_median_mse = [mse[1] for mse in baseline_2_test_mses]\n",
    "model_1_test_median_mse = [mse[1] for mse in model_1_test_mses]\n",
    "model_2_test_median_mse = [mse[1] for mse in model_2_test_mses]\n",
    "model_3_test_median_mse = [mse[1] for mse in model_3_test_mses]\n",
    "model_4_test_median_mse = [mse[1] for mse in model_4_test_mses]\n",
    "\n",
    "# 5th percentile mses\n",
    "baseline_1_test_5_mse = [mse[2] for mse in baseline_1_test_mses]\n",
    "baseline_2_test_5_mse = [mse[2] for mse in baseline_2_test_mses]\n",
    "model_1_test_5_mse = [mse[2] for mse in model_1_test_mses]\n",
    "model_2_test_5_mse = [mse[2] for mse in model_2_test_mses]\n",
    "model_3_test_5_mse = [mse[2] for mse in model_3_test_mses]\n",
    "model_4_test_5_mse = [mse[2] for mse in model_4_test_mses]"
   ],
   "metadata": {
    "collapsed": false,
    "pycharm": {
     "name": "#%%\n"
    }
   }
  },
  {
   "cell_type": "code",
   "execution_count": null,
   "outputs": [],
   "source": [
    "beams = list(range(1, 7))\n",
    "\n",
    "fig, (ax1, ax2, ax3) = plt.subplots((3, 1))\n",
    "ax1.set_xlabel('Beam Output (BLA#)')\n",
    "ax1.set_ylabel('Mean Squared Error', color=\"Red\")\n",
    "ax1.plot(beams, baseline_1_test_95_mse, 'o', color=\"Red\", label=\"Baseline 1\")\n",
    "ax1.plot(beams, baseline_2_test_95_mse, 'o', color=\"Orange\", label=\"Baseline 2\")\n",
    "ax1.plot(beams, model_1_test_95_mse, 'o', color=\"Yellow\", label=\"Model 1\")\n",
    "ax1.plot(beams, model_2_test_95_mse, 'o', color=\"Green\", label=\"Model 2\")\n",
    "ax1.plot(beams, model_3_test_95_mse, 'o', color=\"Blue\", label=\"Model 3\")\n",
    "ax1.plot(beams, model_4_test_95_mse, 'o', color=\"Purple\", label=\"Model 4\")\n",
    "ax1.tick_params(axis='y', labelcolor=\"Red\")\n",
    "ax1.set_title(\"MSE in 95th Percentile Predictions\")\n",
    "\n",
    "ax2.set_xlabel('Beam Output (BLA#)')\n",
    "ax2.set_ylabel('Mean Squared Error', color=\"Red\")\n",
    "ax2.plot(beams, baseline_1_test_median_mse, 'o', color=\"Red\", label=\"Baseline 2\")\n",
    "ax2.plot(beams, baseline_2_test_median_mse, 'o', color=\"Orange\", label=\"Baseline 2\")\n",
    "ax2.plot(beams, model_1_test_median_mse, 'o', color=\"Yellow\", label=\"Model 1\")\n",
    "ax2.plot(beams, model_2_test_median_mse, 'o', color=\"Green\", label=\"Model 2\")\n",
    "ax2.plot(beams, model_3_test_median_mse, 'o', color=\"Blue\", label=\"Model 3\")\n",
    "ax2.plot(beams, model_4_test_median_mse, 'o', color=\"Purple\", label=\"Model 4\")\n",
    "ax2.tick_params(axis='y', labelcolor=\"Red\")\n",
    "ax2.set_title(\"MSE in Median Predictions\")\n",
    "\n",
    "ax3.set_xlabel('Beam Output (BLA#)')\n",
    "ax3.set_ylabel('Mean Squared Error', color=\"Red\")\n",
    "ax3.plot(beams, baseline_1_test_5_mse, 'o', color=\"Red\", label=\"Baseline 2\")\n",
    "ax3.plot(beams, baseline_2_test_5_mse, 'o', color=\"Orange\", label=\"Baseline 2\")\n",
    "ax3.plot(beams, model_1_test_5_mse, 'o', color=\"Yellow\", label=\"Model 1\")\n",
    "ax3.plot(beams, model_2_test_5_mse, 'o', color=\"Green\", label=\"Model 2\")\n",
    "ax3.plot(beams, model_3_test_5_mse, 'o', color=\"Blue\", label=\"Model 3\")\n",
    "ax3.plot(beams, model_4_test_5_mse, 'o', color=\"Purple\", label=\"Model 4\")\n",
    "ax3.tick_params(axis='y', labelcolor=\"Red\")\n",
    "ax3.set_title(\"MSE in 5th Percentile Predictions\")\n",
    "\n",
    "fig.tight_layout()\n",
    "plt.show()"
   ],
   "metadata": {
    "collapsed": false,
    "pycharm": {
     "name": "#%%\n"
    }
   }
  }
 ],
 "metadata": {
  "kernelspec": {
   "display_name": "Python 3",
   "language": "python",
   "name": "python3"
  },
  "language_info": {
   "codemirror_mode": {
    "name": "ipython",
    "version": 2
   },
   "file_extension": ".py",
   "mimetype": "text/x-python",
   "name": "python",
   "nbconvert_exporter": "python",
   "pygments_lexer": "ipython2",
   "version": "2.7.6"
  },
  "pycharm": {
   "stem_cell": {
    "cell_type": "raw",
    "source": [],
    "metadata": {
     "collapsed": false
    }
   }
  }
 },
 "nbformat": 4,
 "nbformat_minor": 0
}