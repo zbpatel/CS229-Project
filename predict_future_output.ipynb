{
 "cells": [
  {
   "cell_type": "markdown",
   "metadata": {
    "collapsed": true,
    "pycharm": {
     "name": "#%% md\n"
    }
   },
   "source": [
    "# predict_future_output \n",
    "\n",
    "## Goal: predict future outputs of the various electron gun beams\n"
   ]
  },
  {
   "cell_type": "code",
   "execution_count": 31,
   "outputs": [],
   "source": [
    "input_file = \"dataset1_clean.csv\""
   ],
   "metadata": {
    "collapsed": false,
    "pycharm": {
     "name": "#%% \n",
     "is_executing": false
    }
   }
  },
  {
   "cell_type": "code",
   "execution_count": 32,
   "outputs": [],
   "source": [
    "# imports:\n",
    "import pandas as pd\n",
    "import matplotlib.pyplot as plt\n",
    "import numpy as np\n",
    "from sklearn.metrics import mean_squared_error\n",
    "from sklearn.model_selection import train_test_split\n",
    "from sklearn.decomposition import PCA\n",
    "# import utils and other models\n",
    "import utils\n",
    "import bla_avg_model\n",
    "import bla_constant_model\n",
    "import bla_linear_model\n",
    "import bla_lasso_model"
   ],
   "metadata": {
    "collapsed": false,
    "pycharm": {
     "name": "#%%\n",
     "is_executing": false
    }
   }
  },
  {
   "cell_type": "code",
   "execution_count": 33,
   "outputs": [
    {
     "name": "stdout",
     "text": [
      "                     index  DAC_S0_95th_quantile  DAC_S0_median  \\\nTime                                                              \n1900-01-01 00:00:00      0                   2.0            2.0   \n1900-01-01 00:01:00      1                   2.0            2.0   \n1900-01-01 00:02:00      2                   2.0            2.0   \n1900-01-01 00:03:00      3                   2.0            2.0   \n1900-01-01 00:04:00      4                   2.0            2.0   \n\n                     DAC_S0_5th_quantile  SO_(volts)_95th_quantile  \\\nTime                                                                 \n1900-01-01 00:00:00                  2.0                       2.0   \n1900-01-01 00:01:00                  2.0                       2.0   \n1900-01-01 00:02:00                  2.0                       2.0   \n1900-01-01 00:03:00                  2.0                       2.0   \n1900-01-01 00:04:00                  2.0                       2.0   \n\n                     SO_(volts)_median  SO_(volts)_5th_quantile  \\\nTime                                                              \n1900-01-01 00:00:00                2.0                      2.0   \n1900-01-01 00:01:00                2.0                      2.0   \n1900-01-01 00:02:00                2.0                      2.0   \n1900-01-01 00:03:00                2.0                      2.0   \n1900-01-01 00:04:00                2.0                      2.0   \n\n                     DAC_S1_95th_quantile  DAC_S1_median  DAC_S1_5th_quantile  \\\nTime                                                                            \n1900-01-01 00:00:00                 0.499          0.499                0.499   \n1900-01-01 00:01:00                 0.499          0.499                0.499   \n1900-01-01 00:02:00                 0.499          0.499                0.499   \n1900-01-01 00:03:00                 0.499          0.499                0.499   \n1900-01-01 00:04:00                 0.499          0.499                0.499   \n\n                     ...  BLA_3_5th_quantile  BLA_4_95th_quantile  \\\nTime                 ...                                            \n1900-01-01 00:00:00  ...            -35.1800             -38.7000   \n1900-01-01 00:01:00  ...            -36.1895             -38.6300   \n1900-01-01 00:02:00  ...            -36.1270             -38.6000   \n1900-01-01 00:03:00  ...            -36.0400             -38.6315   \n1900-01-01 00:04:00  ...            -35.9800             -38.6000   \n\n                     BLA_4_median  BLA_4_5th_quantile  BLA_5_95th_quantile  \\\nTime                                                                         \n1900-01-01 00:00:00        -38.57             -38.022               -35.22   \n1900-01-01 00:01:00        -38.57             -38.510               -35.22   \n1900-01-01 00:02:00        -38.54             -38.480               -35.19   \n1900-01-01 00:03:00        -38.51             -38.450               -35.16   \n1900-01-01 00:04:00        -38.51             -38.480               -35.19   \n\n                     BLA_5_median  BLA_5_5th_quantile  BLA_6_95th_quantile  \\\nTime                                                                         \n1900-01-01 00:00:00        -35.16             -34.889             -33.3510   \n1900-01-01 00:01:00        -35.10             -35.030             -33.3900   \n1900-01-01 00:02:00        -35.13             -35.030             -33.2600   \n1900-01-01 00:03:00        -35.06             -34.970             -33.3015   \n1900-01-01 00:04:00        -35.10             -35.030             -33.3000   \n\n                     BLA_6_median  BLA_6_5th_quantile  \nTime                                                   \n1900-01-01 00:00:00        -33.20            -33.0800  \n1900-01-01 00:01:00        -33.30            -33.1985  \n1900-01-01 00:02:00        -33.14            -33.0800  \n1900-01-01 00:03:00        -33.17            -33.0800  \n1900-01-01 00:04:00        -33.17            -33.1100  \n\n[5 rows x 142 columns]\n"
     ],
     "output_type": "stream"
    }
   ],
   "source": [
    "# load in cleaned dataset\n",
    "data = pd.read_csv(input_file, index_col=[0], skipinitialspace=True)\n",
    "\n",
    "# add in integer index\n",
    "data = data.reset_index().reset_index().set_index([\"Time\"])\n",
    "print(data.head())"
   ],
   "metadata": {
    "collapsed": false,
    "pycharm": {
     "name": "#%%\n",
     "is_executing": false
    }
   }
  },
  {
   "cell_type": "code",
   "execution_count": 34,
   "outputs": [],
   "source": [
    "# (year set to 1900 since that is the base for datetime objects)\n",
    "# note date ranges are not inclusive\n",
    "train_date_range = [\"1900-01-01\", \"1900-01-08\"]\n",
    "test_date_range = [\"1900-01-08\", \"1900-01-10\"]\n",
    "\n",
    "full_train, test = utils.split_by_day(data, train_date_range, test_date_range)\n",
    "\n",
    "#print(full_train.info())\n",
    "#print(test.info())"
   ],
   "metadata": {
    "collapsed": false,
    "pycharm": {
     "name": "#%%\n",
     "is_executing": false
    }
   }
  },
  {
   "cell_type": "code",
   "execution_count": 35,
   "outputs": [],
   "source": [
    "# split full_train into a train and valdiation set\n",
    "validation_frac = .1\n",
    "train, validation = train_test_split(full_train, test_size=validation_frac)\n",
    "#print(validation.info())\n",
    "#print(train.info())"
   ],
   "metadata": {
    "collapsed": false,
    "pycharm": {
     "name": "#%%\n",
     "is_executing": false
    }
   }
  },
  {
   "cell_type": "code",
   "execution_count": 36,
   "outputs": [],
   "source": [
    "# convert the train and validation dataframes into a set of np arrays that can be more readily used to train models\n",
    "train_X_95th, train_X_median, train_X_5th = utils.split_X_into_quantiles(train, accept_index=True)\n",
    "train_Y_95th, train_Y_median, train_Y_5th = utils.split_Y_into_beams_and_quantiles(train, )\n",
    "\n",
    "validation_X_95th, validation_X_median, validation_X_5th = utils.split_X_into_quantiles(validation, accept_index=True)\n",
    "validation_Y_95th, validation_Y_median, validation_Y_5th = utils.split_Y_into_beams_and_quantiles(validation)"
   ],
   "metadata": {
    "collapsed": false,
    "pycharm": {
     "name": "#%%\n",
     "is_executing": false
    }
   }
  },
  {
   "cell_type": "markdown",
   "source": [
    "### Evaluation Metrics\n",
    "\n",
    "Mean Squared Error (MSE) computed using sklearn.metrics.mean_squared_error"
   ],
   "metadata": {
    "collapsed": false,
    "pycharm": {
     "name": "#%% md\n"
    }
   }
  },
  {
   "cell_type": "code",
   "execution_count": 37,
   "outputs": [],
   "source": [
    "def prop_within_bounds(actual, pred_95th, pred_5th):\n",
    "    # return the proportion of points in actual that fall between the predicted 5th and 95th quantiles\n",
    "    num_points = actual.shape[0]\n",
    "    within_upper = actual > pred_95th\n",
    "    within_lower = actual < pred_5th\n",
    "    within_range = np.logical_and(within_upper, within_lower)\n",
    "    return np.count_nonzero(within_range) / num_points"
   ],
   "metadata": {
    "collapsed": false,
    "pycharm": {
     "name": "#%%\n",
     "is_executing": false
    }
   }
  },
  {
   "cell_type": "markdown",
   "source": [
    "## Baseline 1: BlaConstantModel\n",
    "\n",
    "This model averages the input for each beam over the training period and predicts that value as constant for each beam.\n",
    "\n",
    "This represents the most naive model, since it assumes indpendence from the features and labels, and no change in the \n",
    "labels over time.\n",
    "\n",
    "### Train Baseline 1"
   ],
   "metadata": {
    "collapsed": false,
    "pycharm": {
     "name": "#%% md\n"
    }
   }
  },
  {
   "cell_type": "code",
   "execution_count": 38,
   "outputs": [],
   "source": [
    "baseline_1_95 = bla_constant_model.BlaConstantModel()\n",
    "baseline_1_median = bla_constant_model.BlaConstantModel()\n",
    "baseline_1_5 = bla_constant_model.BlaConstantModel()\n",
    "\n",
    "baseline_1_95.train(train_X_median, train_Y_95th)\n",
    "baseline_1_median.train(train_X_median, train_Y_median)\n",
    "baseline_1_5.train(train_X_median, train_Y_5th)\n",
    "\n",
    "baseline_1_pred_95 = [baseline_1_95.predict(validation_X_median, i) for i in range(6)]\n",
    "baseline_1_pred_median = [baseline_1_median.predict(validation_X_median, i) for i in range(6)]\n",
    "baseline_1_pred_5 = [baseline_1_5.predict(validation_X_median, i) for i in range(6)]\n"
   ],
   "metadata": {
    "collapsed": false,
    "pycharm": {
     "name": "#%%\n",
     "is_executing": false
    }
   }
  },
  {
   "cell_type": "markdown",
   "source": [
    "### Validate Baseline 1"
   ],
   "metadata": {
    "collapsed": false,
    "pycharm": {
     "name": "#%% md\n"
    }
   }
  },
  {
   "cell_type": "code",
   "execution_count": 39,
   "outputs": [
    {
     "name": "stdout",
     "text": [
      "[0.29563492063492064, 0.5, 0.18154761904761904, 0.4662698412698413, 0.18353174603174602, 0.3541666666666667]\n[[0.04297657680959674, 0.04249573580770108, 0.04229091080001955], [0.03228432128906246, 0.03220416945004089, 0.032305414847883476], [0.24817932006401927, 0.24346601643695664, 0.2380120790028731], [0.02800162907117755, 0.028038107969078376, 0.02852089620929389], [0.11915179795203489, 0.11790977423514339, 0.1162519840610098], [0.06486270715972631, 0.06132761951851131, 0.05926721699264974]]\n"
     ],
     "output_type": "stream"
    }
   ],
   "source": [
    "baseline_1_valid_props = []\n",
    "for i in range(6):\n",
    "    p = prop_within_bounds(validation_Y_median[i], baseline_1_pred_95[i], baseline_1_pred_5[i])\n",
    "    baseline_1_valid_props.append(p)\n",
    "    \n",
    "print(baseline_1_valid_props)\n",
    "\n",
    "baseline_1_valid_mses = []\n",
    "for i in range(6):\n",
    "    mse_95 = mean_squared_error(validation_Y_95th[i], baseline_1_pred_95[i])\n",
    "    mse_median = mean_squared_error(validation_Y_median[i], baseline_1_pred_median[i])\n",
    "    mse_5 = mean_squared_error(validation_Y_5th[i], baseline_1_pred_5[i])\n",
    "    baseline_1_valid_mses.append([mse_95, mse_median, mse_5])\n",
    "    \n",
    "print(baseline_1_valid_mses)"
   ],
   "metadata": {
    "collapsed": false,
    "pycharm": {
     "name": "#%%\n",
     "is_executing": false
    }
   }
  },
  {
   "cell_type": "markdown",
   "source": [
    "## Baseline 2: BlaAvgModel\n",
    "This model ignores differences in beams and tries to fit a single model for all beams by averaging the output from all\n",
    "beams into a single \"y\" before fitting.\n",
    "\n",
    "### Train Baseline 2"
   ],
   "metadata": {
    "collapsed": false,
    "pycharm": {
     "name": "#%% md\n"
    }
   }
  },
  {
   "cell_type": "code",
   "execution_count": 40,
   "outputs": [],
   "source": [
    "baseline_2_95 = bla_avg_model.BlaAvgModel()\n",
    "baseline_2_median = bla_avg_model.BlaAvgModel()\n",
    "baseline_2_5 = bla_avg_model.BlaAvgModel()\n",
    "\n",
    "baseline_2_95.train(train_X_median, train_Y_95th)\n",
    "baseline_2_median.train(train_X_median, train_Y_median)\n",
    "baseline_2_5.train(train_X_median, train_Y_5th)\n",
    "\n",
    "baseline_2_pred_95 = baseline_2_95.predict(validation_X_median)\n",
    "baseline_2_pred_median = baseline_2_median.predict(validation_X_median)\n",
    "baseline_2_pred_5 = baseline_2_5.predict(validation_X_median)"
   ],
   "metadata": {
    "collapsed": false,
    "pycharm": {
     "name": "#%%\n",
     "is_executing": false
    }
   }
  },
  {
   "cell_type": "markdown",
   "source": [
    "### Validate Baseline 2"
   ],
   "metadata": {
    "collapsed": false,
    "pycharm": {
     "name": "#%% md\n"
    }
   }
  },
  {
   "cell_type": "code",
   "execution_count": 41,
   "outputs": [
    {
     "name": "stdout",
     "text": [
      "[0.0, 0.002976190476190476, 0.0, 0.0, 0.49107142857142855, 0.0]\n[[17.908584978970893, 17.887450097053435, 17.87296108730482], [0.3708908003354619, 0.3313506433570611, 0.294005333267374], [0.8478163592743483, 0.8235454535140354, 0.8041406438456409], [13.120875592853777, 13.35242021889199, 13.572075628805047], [0.05611916857392629, 0.06046656102494984, 0.0647611110364742], [0.8820692658925832, 0.9008535418823075, 0.9214694182091105]]\n"
     ],
     "output_type": "stream"
    }
   ],
   "source": [
    "baseline_2_valid_props = []\n",
    "for i in range(6):\n",
    "    p = prop_within_bounds(validation_Y_median[i], baseline_2_pred_95, baseline_2_pred_5)\n",
    "    baseline_2_valid_props.append(p)\n",
    "    \n",
    "print(baseline_2_valid_props)\n",
    "\n",
    "baseline_2_valid_mses = []\n",
    "for i in range(6):\n",
    "    mse_95 = mean_squared_error(validation_Y_95th[i], baseline_2_pred_95)\n",
    "    mse_median = mean_squared_error(validation_Y_median[i], baseline_2_pred_median)\n",
    "    mse_5 = mean_squared_error(validation_Y_5th[i], baseline_2_pred_5)\n",
    "    baseline_2_valid_mses.append([mse_95, mse_median, mse_5])\n",
    "    \n",
    "print(baseline_2_valid_mses)"
   ],
   "metadata": {
    "collapsed": false,
    "pycharm": {
     "name": "#%%\n",
     "is_executing": false
    }
   }
  },
  {
   "cell_type": "markdown",
   "source": [
    "## Model 1: Regular Least Squares Regression for Each Beam\n",
    "This model trains a regular least squares model for each beam independtly. Parameters for the least squares model are\n",
    "standard, and an intercept is added.\n",
    "\n",
    "### Train Model 1"
   ],
   "metadata": {
    "collapsed": false,
    "pycharm": {
     "name": "#%% md\n"
    }
   }
  },
  {
   "cell_type": "code",
   "execution_count": 42,
   "outputs": [],
   "source": [
    "model_1_95 = bla_linear_model.BlaLinearModel()\n",
    "model_1_median = bla_linear_model.BlaLinearModel()\n",
    "model_1_5 = bla_linear_model.BlaLinearModel()\n",
    "\n",
    "model_1_95.train(train_X_median, train_Y_95th)\n",
    "model_1_median.train(train_X_median, train_Y_median)\n",
    "model_1_5.train(train_X_median, train_Y_5th)\n",
    "\n",
    "model_1_pred_95 = [model_1_95.predict(validation_X_median, i) for i in range(6)]\n",
    "model_1_pred_median = [model_1_median.predict(validation_X_median, i) for i in range(6)]\n",
    "model_1_pred_5 = [model_1_5.predict(validation_X_median, i) for i in range(6)]"
   ],
   "metadata": {
    "collapsed": false,
    "pycharm": {
     "name": "#%%\n",
     "is_executing": false
    }
   }
  },
  {
   "cell_type": "markdown",
   "source": [
    "### Validate Model 1\n"
   ],
   "metadata": {
    "collapsed": false,
    "pycharm": {
     "name": "#%% md\n"
    }
   }
  },
  {
   "cell_type": "code",
   "execution_count": 53,
   "outputs": [
    {
     "name": "stdout",
     "text": [
      "0.8204417073703527\n0.8355606678091911\n0.9500814103118561\n0.8891197457422311\n0.9751441389701442\n0.6898552459074605\n[0.7767857142857143, 0.9315476190476191, 0.7321428571428571, 0.7916666666666666, 0.8125, 0.5942460317460317]\n[[0.007968462831483381, 0.007623441583320466, 0.007802038600033137], [0.0055223350816327186, 0.005293504793491854, 0.005954430589633759], [0.013987724142431558, 0.012152500723241217, 0.01177437061216488], [0.0031856661707764405, 0.003108799560535043, 0.0032621611619321005], [0.003166795002830785, 0.00293056313871252, 0.0028289609790437], [0.02057199943655961, 0.019017032058222087, 0.01836681503629312]]\n"
     ],
     "output_type": "stream"
    }
   ],
   "source": [
    "model_1_valid_props = []\n",
    "for i in range(6):\n",
    "    p = prop_within_bounds(validation_Y_median[i], model_1_pred_95[i], model_1_pred_5[i])\n",
    "    model_1_valid_props.append(p)\n",
    "    print(model_1_median.models[i].score(validation_X_median, validation_Y_median[i]))\n",
    "    \n",
    "print(model_1_valid_props)\n",
    "\n",
    "model_1_valid_mses = []\n",
    "for i in range(6):\n",
    "    mse_95 = mean_squared_error(validation_Y_95th[i], model_1_pred_95[i])\n",
    "    mse_median = mean_squared_error(validation_Y_median[i], model_1_pred_median[i])\n",
    "    mse_5 = mean_squared_error(validation_Y_5th[i], model_1_pred_5[i])\n",
    "    model_1_valid_mses.append([mse_95, mse_median, mse_5])\n",
    "    \n",
    "print(model_1_valid_mses)"
   ],
   "metadata": {
    "collapsed": false,
    "pycharm": {
     "name": "#%%\n",
     "is_executing": false
    }
   }
  },
  {
   "cell_type": "markdown",
   "source": [
    "## Model 2: Lasso (Linear Regression with L1 Regularization)\n",
    "This model adds a l1 regularization term to the objective function. This has the effect of penalizing nonzero coefficients,\n",
    "which in turn minimizes the number of nonzero coefficients. \n",
    "\n",
    "### Train Model 2"
   ],
   "metadata": {
    "collapsed": false,
    "pycharm": {
     "name": "#%% md\n"
    }
   }
  },
  {
   "cell_type": "code",
   "execution_count": 55,
   "outputs": [],
   "source": [
    "model_2_95 = bla_lasso_model.BlaLassoModel(alpha=1)\n",
    "model_2_median = bla_lasso_model.BlaLassoModel(alpha=1)\n",
    "model_2_5 = bla_lasso_model.BlaLassoModel(alpha=1)\n",
    "\n",
    "model_2_95.train(train_X_median, train_Y_95th)\n",
    "model_2_median.train(train_X_median, train_Y_median)\n",
    "model_2_5.train(train_X_median, train_Y_5th)\n",
    "\n",
    "model_2_pred_95 = [model_2_95.predict(validation_X_median, i) for i in range(6)]\n",
    "model_2_pred_median = [model_2_median.predict(validation_X_median, i) for i in range(6)]\n",
    "model_2_pred_5 = [model_2_5.predict(validation_X_median, i) for i in range(6)]"
   ],
   "metadata": {
    "collapsed": false,
    "pycharm": {
     "name": "#%%\n",
     "is_executing": false
    }
   }
  },
  {
   "cell_type": "markdown",
   "source": [
    "### Validate Model 2"
   ],
   "metadata": {
    "collapsed": false,
    "pycharm": {
     "name": "#%% md\n"
    }
   }
  },
  {
   "cell_type": "code",
   "execution_count": 56,
   "outputs": [
    {
     "name": "stdout",
     "text": [
      "[ 0.00000000e+00  0.00000000e+00 -0.00000000e+00  0.00000000e+00\n  0.00000000e+00  0.00000000e+00  0.00000000e+00  0.00000000e+00\n  0.00000000e+00  0.00000000e+00 -0.00000000e+00 -0.00000000e+00\n  0.00000000e+00  0.00000000e+00 -0.00000000e+00 -0.00000000e+00\n  0.00000000e+00  0.00000000e+00  0.00000000e+00  0.00000000e+00\n -0.00000000e+00 -0.00000000e+00  0.00000000e+00  0.00000000e+00\n  0.00000000e+00 -0.00000000e+00  0.00000000e+00  0.00000000e+00\n -0.00000000e+00 -0.00000000e+00  0.00000000e+00 -0.00000000e+00\n -0.00000000e+00 -0.00000000e+00 -0.00000000e+00 -5.81353376e-02\n  0.00000000e+00 -0.00000000e+00 -0.00000000e+00 -0.00000000e+00\n -0.00000000e+00  3.87670173e-05] [-40.75561136]\n0.5888872562787588\n[ 0.00000000e+00  0.00000000e+00 -0.00000000e+00  0.00000000e+00\n  0.00000000e+00  0.00000000e+00  0.00000000e+00  0.00000000e+00\n  0.00000000e+00  0.00000000e+00 -0.00000000e+00 -0.00000000e+00\n  0.00000000e+00  0.00000000e+00 -0.00000000e+00 -0.00000000e+00\n  0.00000000e+00  0.00000000e+00  0.00000000e+00  0.00000000e+00\n -0.00000000e+00 -0.00000000e+00  0.00000000e+00  0.00000000e+00\n  0.00000000e+00 -0.00000000e+00 -0.00000000e+00  0.00000000e+00\n -0.00000000e+00  0.00000000e+00  0.00000000e+00  0.00000000e+00\n  0.00000000e+00  0.00000000e+00 -0.00000000e+00  0.00000000e+00\n -0.00000000e+00  0.00000000e+00  0.00000000e+00 -0.00000000e+00\n -0.00000000e+00  4.94187499e-05] [-35.03619339]\n0.6462356610252666\n[ 0.00000000e+00  0.00000000e+00  0.00000000e+00  0.00000000e+00\n  0.00000000e+00  0.00000000e+00  0.00000000e+00  0.00000000e+00\n -0.00000000e+00  0.00000000e+00  0.00000000e+00  0.00000000e+00\n  0.00000000e+00  0.00000000e+00  0.00000000e+00  0.00000000e+00\n  0.00000000e+00  0.00000000e+00 -0.00000000e+00 -0.00000000e+00\n  0.00000000e+00  0.00000000e+00 -0.00000000e+00 -0.00000000e+00\n  0.00000000e+00  0.00000000e+00 -0.00000000e+00 -0.00000000e+00\n -0.00000000e+00 -0.00000000e+00  0.00000000e+00  0.00000000e+00\n  0.00000000e+00 -0.00000000e+00 -0.00000000e+00 -6.45105085e-03\n  0.00000000e+00  0.00000000e+00  0.00000000e+00 -0.00000000e+00\n -1.87574431e-02  6.42357388e-05] [-39.97503223]\n0.14147019271402794\n[ 0.0000000e+00  0.0000000e+00 -0.0000000e+00  0.0000000e+00\n  0.0000000e+00  0.0000000e+00  0.0000000e+00  0.0000000e+00\n  0.0000000e+00  0.0000000e+00 -0.0000000e+00 -0.0000000e+00\n  0.0000000e+00  0.0000000e+00 -0.0000000e+00 -0.0000000e+00\n  0.0000000e+00  0.0000000e+00  0.0000000e+00  0.0000000e+00\n -0.0000000e+00 -0.0000000e+00  0.0000000e+00  0.0000000e+00\n  0.0000000e+00 -0.0000000e+00 -0.0000000e+00 -0.0000000e+00\n -0.0000000e+00 -0.0000000e+00  0.0000000e+00  0.0000000e+00\n  0.0000000e+00 -0.0000000e+00 -0.0000000e+00 -0.0000000e+00\n  0.0000000e+00  0.0000000e+00  0.0000000e+00  0.0000000e+00\n -0.0000000e+00  2.9046272e-05] [-38.03108037]\n0.2578685908551167\n[ 0.          0.          0.          0.          0.          0.\n  0.          0.         -0.          0.          0.          0.\n  0.          0.          0.          0.          0.          0.\n -0.         -0.          0.          0.         -0.         -0.\n  0.          0.         -0.         -0.          0.          0.\n  0.          0.          0.         -0.          0.          0.\n  0.         -0.         -0.         -0.         -0.          0.00011402] [-34.91012625]\n0.9448797853661544\n[ 0.00000000e+00  0.00000000e+00 -0.00000000e+00  0.00000000e+00\n  0.00000000e+00  0.00000000e+00  0.00000000e+00  0.00000000e+00\n  0.00000000e+00  0.00000000e+00 -0.00000000e+00 -0.00000000e+00\n  0.00000000e+00  0.00000000e+00 -0.00000000e+00 -0.00000000e+00\n  0.00000000e+00  0.00000000e+00  0.00000000e+00  0.00000000e+00\n -0.00000000e+00 -0.00000000e+00  0.00000000e+00  0.00000000e+00\n  0.00000000e+00 -0.00000000e+00  0.00000000e+00 -0.00000000e+00\n -0.00000000e+00 -0.00000000e+00  0.00000000e+00  0.00000000e+00\n -0.00000000e+00 -0.00000000e+00 -0.00000000e+00 -2.18813327e-02\n  0.00000000e+00 -0.00000000e+00 -0.00000000e+00 -0.00000000e+00\n -5.02377927e-02  4.37314890e-05] [-46.63067216]\n0.4793509913172451\n[0.5505952380952381, 0.8194444444444444, 0.30257936507936506, 0.5853174603174603, 0.6537698412698413, 0.45535714285714285]\n[[0.017665864751751047, 0.01745446528822697, 0.01757399181480985], [0.011190808364436615, 0.011388110126574074, 0.011846554314213846], [0.213016818628832, 0.2090059869308551, 0.204510095005766], [0.02069379842342116, 0.020807472115326738, 0.021318686596489868], [0.006679973690611842, 0.006498799981615745, 0.006376945721972274], [0.03394407149654939, 0.031924444178240814, 0.030965272740594203]]\n"
     ],
     "output_type": "stream"
    }
   ],
   "source": [
    "model_2_valid_props = []\n",
    "for i in range(6):\n",
    "    p = prop_within_bounds(validation_Y_median[i], model_2_pred_95[i], model_2_pred_5[i])\n",
    "    model_2_valid_props.append(p)\n",
    "    print(model_2_median.models[i].coef_, model_2_median.models[i].intercept_)\n",
    "    print(model_2_median.models[i].score(validation_X_median, validation_Y_median[i]))\n",
    "    \n",
    "print(model_2_valid_props)\n",
    "\n",
    "model_2_valid_mses = []\n",
    "for i in range(6):\n",
    "    mse_95 = mean_squared_error(validation_Y_95th[i], model_2_pred_95[i])\n",
    "    mse_median = mean_squared_error(validation_Y_median[i], model_2_pred_median[i])\n",
    "    mse_5 = mean_squared_error(validation_Y_5th[i], model_2_pred_5[i])\n",
    "    model_2_valid_mses.append([mse_95, mse_median, mse_5])\n",
    "    \n",
    "print(model_2_valid_mses)"
   ],
   "metadata": {
    "collapsed": false,
    "pycharm": {
     "name": "#%%\n",
     "is_executing": false
    }
   }
  },
  {
   "cell_type": "code",
   "execution_count": 46,
   "outputs": [
    {
     "traceback": [
      "\u001b[1;31m---------------------------------------------------------------------------\u001b[0m",
      "\u001b[1;31mNameError\u001b[0m                                 Traceback (most recent call last)",
      "\u001b[1;32m<ipython-input-46-76c2aada324a>\u001b[0m in \u001b[0;36m<module>\u001b[1;34m\u001b[0m\n\u001b[1;32m----> 1\u001b[1;33m \u001b[0mscatter_indices\u001b[0m \u001b[1;33m=\u001b[0m \u001b[0mlist\u001b[0m\u001b[1;33m(\u001b[0m\u001b[0mrange\u001b[0m\u001b[1;33m(\u001b[0m\u001b[0mlen\u001b[0m\u001b[1;33m(\u001b[0m\u001b[0mbaseline_pred_95\u001b[0m\u001b[1;33m)\u001b[0m\u001b[1;33m)\u001b[0m\u001b[1;33m)\u001b[0m\u001b[1;33m\u001b[0m\u001b[0m\n\u001b[0m\u001b[0;32m      2\u001b[0m \u001b[1;31m#plt.plot(pred_95, color=\"Blue\")\u001b[0m\u001b[1;33m\u001b[0m\u001b[1;33m\u001b[0m\u001b[0m\n\u001b[0;32m      3\u001b[0m \u001b[0mplt\u001b[0m\u001b[1;33m.\u001b[0m\u001b[0mscatter\u001b[0m\u001b[1;33m(\u001b[0m\u001b[0mscatter_indices\u001b[0m\u001b[1;33m,\u001b[0m \u001b[0mbaseline_pred_95\u001b[0m\u001b[1;33m,\u001b[0m \u001b[0mlabel\u001b[0m\u001b[1;33m=\u001b[0m\u001b[1;34m\"95th\"\u001b[0m\u001b[1;33m)\u001b[0m\u001b[1;33m\u001b[0m\u001b[0m\n\u001b[0;32m      4\u001b[0m \u001b[0mplt\u001b[0m\u001b[1;33m.\u001b[0m\u001b[0mscatter\u001b[0m\u001b[1;33m(\u001b[0m\u001b[0mscatter_indices\u001b[0m\u001b[1;33m,\u001b[0m \u001b[0mbaseline_pred_5\u001b[0m\u001b[1;33m,\u001b[0m \u001b[0mc\u001b[0m\u001b[1;33m=\u001b[0m\u001b[1;34m\"Red\"\u001b[0m\u001b[1;33m,\u001b[0m \u001b[0mlabel\u001b[0m\u001b[1;33m=\u001b[0m\u001b[1;34m\"5th\"\u001b[0m\u001b[1;33m)\u001b[0m\u001b[1;33m\u001b[0m\u001b[0m\n\u001b[0;32m      5\u001b[0m \u001b[0mplt\u001b[0m\u001b[1;33m.\u001b[0m\u001b[0mscatter\u001b[0m\u001b[1;33m(\u001b[0m\u001b[0mscatter_indices\u001b[0m\u001b[1;33m,\u001b[0m \u001b[0mvalidation_Y_median\u001b[0m\u001b[1;33m[\u001b[0m\u001b[1;36m0\u001b[0m\u001b[1;33m]\u001b[0m\u001b[1;33m,\u001b[0m \u001b[0mc\u001b[0m\u001b[1;33m=\u001b[0m\u001b[1;34m\"Yellow\"\u001b[0m\u001b[1;33m,\u001b[0m \u001b[0mlabel\u001b[0m\u001b[1;33m=\u001b[0m\u001b[1;34m\"median\"\u001b[0m\u001b[1;33m)\u001b[0m\u001b[1;33m\u001b[0m\u001b[0m\n",
      "\u001b[1;31mNameError\u001b[0m: name 'baseline_pred_95' is not defined"
     ],
     "ename": "NameError",
     "evalue": "name 'baseline_pred_95' is not defined",
     "output_type": "error"
    }
   ],
   "source": [
    "scatter_indices = list(range(len(baseline_pred_95)))\n",
    "#plt.plot(pred_95, color=\"Blue\")\n",
    "plt.scatter(scatter_indices, baseline_pred_95, label=\"95th\")\n",
    "plt.scatter(scatter_indices, baseline_pred_5, c=\"Red\", label=\"5th\")\n",
    "plt.scatter(scatter_indices, validation_Y_median[0], c=\"Yellow\", label=\"median\")\n",
    "plt.scatter(scatter_indices, validation_Y_median[4], c=\"Green\", label=\"median\")\n",
    "plt.scatter(scatter_indices, validation_Y_median[1], c=\"Purple\", label=\"median\")\n",
    "plt.scatter(scatter_indices, validation_Y_median[2], c=\"Orange\", label=\"median\")\n",
    "plt.show()"
   ],
   "metadata": {
    "collapsed": false,
    "pycharm": {
     "name": "#%%\n",
     "is_executing": false
    }
   }
  },
  {
   "cell_type": "code",
   "execution_count": null,
   "outputs": [],
   "source": [
    "plt.plot(baseline_pred_5, color=\"Red\")\n",
    "plt.show()\n",
    "\n"
   ],
   "metadata": {
    "collapsed": false,
    "pycharm": {
     "name": "#%%\n",
     "is_executing": false
    }
   }
  },
  {
   "cell_type": "code",
   "execution_count": null,
   "outputs": [],
   "source": [
    "# evaluate models:\n",
    "# split test set into a set of np arrays that can be more readily used to generate model predictions\n",
    "test_X_95th, test_X_median, test_X_5th = utils.split_X_into_quantiles(test)\n",
    "test_Y_95th, test_Y_median, test_Y_5th = utils.split_Y_into_beams_and_quantiles(test)"
   ],
   "metadata": {
    "collapsed": false,
    "pycharm": {
     "name": "#%%\n",
     "is_executing": false
    }
   }
  }
 ],
 "metadata": {
  "kernelspec": {
   "display_name": "Python 3",
   "language": "python",
   "name": "python3"
  },
  "language_info": {
   "codemirror_mode": {
    "name": "ipython",
    "version": 2
   },
   "file_extension": ".py",
   "mimetype": "text/x-python",
   "name": "python",
   "nbconvert_exporter": "python",
   "pygments_lexer": "ipython2",
   "version": "2.7.6"
  },
  "pycharm": {
   "stem_cell": {
    "cell_type": "raw",
    "source": [],
    "metadata": {
     "collapsed": false
    }
   }
  }
 },
 "nbformat": 4,
 "nbformat_minor": 0
}