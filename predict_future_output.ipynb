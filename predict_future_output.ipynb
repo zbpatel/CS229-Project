{
 "cells": [
  {
   "cell_type": "markdown",
   "metadata": {
    "collapsed": true,
    "pycharm": {
     "name": "#%% md\n"
    }
   },
   "source": [
    "# predict_future_output \n",
    "\n",
    "## Goal: predict future outputs of the various electron gun beams\n"
   ]
  },
  {
   "cell_type": "code",
   "execution_count": 1,
   "outputs": [],
   "source": [
    "input_file = \"dataset1_clean.csv\""
   ],
   "metadata": {
    "collapsed": false,
    "pycharm": {
     "name": "#%% \n",
     "is_executing": false
    }
   }
  },
  {
   "cell_type": "code",
   "execution_count": 2,
   "outputs": [],
   "source": [
    "# imports:\n",
    "import pandas as pd\n",
    "import matplotlib.pyplot as plt\n",
    "import numpy as np\n",
    "from sklearn.metrics import mean_squared_error\n",
    "from sklearn.model_selection import train_test_split\n",
    "from sklearn.decomposition import PCA\n",
    "# import utils and other models\n",
    "import utils\n",
    "import bla_avg_model\n",
    "import bla_constant_model\n",
    "import bla_linear_model\n",
    "import bla_lasso_model"
   ],
   "metadata": {
    "collapsed": false,
    "pycharm": {
     "name": "#%%\n",
     "is_executing": false
    }
   }
  },
  {
   "cell_type": "code",
   "execution_count": 3,
   "outputs": [
    {
     "name": "stdout",
     "text": [
      "                     index  DAC_S0_95th_quantile  DAC_S0_median  \\\nTime                                                              \n1900-01-01 00:00:00      0                   2.0            2.0   \n1900-01-01 00:01:00      1                   2.0            2.0   \n1900-01-01 00:02:00      2                   2.0            2.0   \n1900-01-01 00:03:00      3                   2.0            2.0   \n1900-01-01 00:04:00      4                   2.0            2.0   \n\n                     DAC_S0_5th_quantile  SO_(volts)_95th_quantile  \\\nTime                                                                 \n1900-01-01 00:00:00                  2.0                       2.0   \n1900-01-01 00:01:00                  2.0                       2.0   \n1900-01-01 00:02:00                  2.0                       2.0   \n1900-01-01 00:03:00                  2.0                       2.0   \n1900-01-01 00:04:00                  2.0                       2.0   \n\n                     SO_(volts)_median  SO_(volts)_5th_quantile  \\\nTime                                                              \n1900-01-01 00:00:00                2.0                      2.0   \n1900-01-01 00:01:00                2.0                      2.0   \n1900-01-01 00:02:00                2.0                      2.0   \n1900-01-01 00:03:00                2.0                      2.0   \n1900-01-01 00:04:00                2.0                      2.0   \n\n                     DAC_S1_95th_quantile  DAC_S1_median  DAC_S1_5th_quantile  \\\nTime                                                                            \n1900-01-01 00:00:00                 0.499          0.499                0.499   \n1900-01-01 00:01:00                 0.499          0.499                0.499   \n1900-01-01 00:02:00                 0.499          0.499                0.499   \n1900-01-01 00:03:00                 0.499          0.499                0.499   \n1900-01-01 00:04:00                 0.499          0.499                0.499   \n\n                     ...  BLA_3_5th_quantile  BLA_4_95th_quantile  \\\nTime                 ...                                            \n1900-01-01 00:00:00  ...            -35.1800             -38.7000   \n1900-01-01 00:01:00  ...            -36.1895             -38.6300   \n1900-01-01 00:02:00  ...            -36.1270             -38.6000   \n1900-01-01 00:03:00  ...            -36.0400             -38.6315   \n1900-01-01 00:04:00  ...            -35.9800             -38.6000   \n\n                     BLA_4_median  BLA_4_5th_quantile  BLA_5_95th_quantile  \\\nTime                                                                         \n1900-01-01 00:00:00        -38.57             -38.022               -35.22   \n1900-01-01 00:01:00        -38.57             -38.510               -35.22   \n1900-01-01 00:02:00        -38.54             -38.480               -35.19   \n1900-01-01 00:03:00        -38.51             -38.450               -35.16   \n1900-01-01 00:04:00        -38.51             -38.480               -35.19   \n\n                     BLA_5_median  BLA_5_5th_quantile  BLA_6_95th_quantile  \\\nTime                                                                         \n1900-01-01 00:00:00        -35.16             -34.889             -33.3510   \n1900-01-01 00:01:00        -35.10             -35.030             -33.3900   \n1900-01-01 00:02:00        -35.13             -35.030             -33.2600   \n1900-01-01 00:03:00        -35.06             -34.970             -33.3015   \n1900-01-01 00:04:00        -35.10             -35.030             -33.3000   \n\n                     BLA_6_median  BLA_6_5th_quantile  \nTime                                                   \n1900-01-01 00:00:00        -33.20            -33.0800  \n1900-01-01 00:01:00        -33.30            -33.1985  \n1900-01-01 00:02:00        -33.14            -33.0800  \n1900-01-01 00:03:00        -33.17            -33.0800  \n1900-01-01 00:04:00        -33.17            -33.1100  \n\n[5 rows x 142 columns]\n"
     ],
     "output_type": "stream"
    }
   ],
   "source": [
    "# load in cleaned dataset\n",
    "data = pd.read_csv(input_file, index_col=[0], skipinitialspace=True)\n",
    "\n",
    "# add in integer index\n",
    "data = data.reset_index().reset_index().set_index([\"Time\"])\n",
    "print(data.head())"
   ],
   "metadata": {
    "collapsed": false,
    "pycharm": {
     "name": "#%%\n",
     "is_executing": false
    }
   }
  },
  {
   "cell_type": "code",
   "execution_count": 4,
   "outputs": [],
   "source": [
    "# (year set to 1900 since that is the base for datetime objects)\n",
    "# note date ranges are not inclusive\n",
    "train_date_range = [\"1900-01-01\", \"1900-01-08\"]\n",
    "test_date_range = [\"1900-01-08\", \"1900-01-10\"]\n",
    "\n",
    "full_train, test = utils.split_by_day(data, train_date_range, test_date_range)\n",
    "\n",
    "#print(full_train.info())\n",
    "#print(test.info())"
   ],
   "metadata": {
    "collapsed": false,
    "pycharm": {
     "name": "#%%\n",
     "is_executing": false
    }
   }
  },
  {
   "cell_type": "code",
   "execution_count": 5,
   "outputs": [],
   "source": [
    "# split full_train into a train and valdiation set\n",
    "validation_frac = .1\n",
    "train, validation = train_test_split(full_train, test_size=validation_frac)\n",
    "#print(validation.info())\n",
    "#print(train.info())"
   ],
   "metadata": {
    "collapsed": false,
    "pycharm": {
     "name": "#%%\n",
     "is_executing": false
    }
   }
  },
  {
   "cell_type": "code",
   "execution_count": 6,
   "outputs": [],
   "source": [
    "# convert the train and validation dataframes into a set of np arrays that can be more readily used to train models\n",
    "train_X_95th, train_X_median, train_X_5th = utils.split_X_into_quantiles(train, accept_index=True)\n",
    "train_Y_95th, train_Y_median, train_Y_5th = utils.split_Y_into_beams_and_quantiles(train, )\n",
    "\n",
    "validation_X_95th, validation_X_median, validation_X_5th = utils.split_X_into_quantiles(validation, accept_index=True)\n",
    "validation_Y_95th, validation_Y_median, validation_Y_5th = utils.split_Y_into_beams_and_quantiles(validation)"
   ],
   "metadata": {
    "collapsed": false,
    "pycharm": {
     "name": "#%%\n",
     "is_executing": false
    }
   }
  },
  {
   "cell_type": "markdown",
   "source": [
    "### Evaluation Metrics\n",
    "\n",
    "Mean Squared Error (MSE) computed using sklearn.metrics.mean_squared_error"
   ],
   "metadata": {
    "collapsed": false,
    "pycharm": {
     "name": "#%% md\n"
    }
   }
  },
  {
   "cell_type": "code",
   "execution_count": 7,
   "outputs": [],
   "source": [
    "def prop_within_bounds(actual, pred_95th, pred_5th):\n",
    "    # return the proportion of points in actual that fall between the predicted 5th and 95th quantiles\n",
    "    num_points = actual.shape[0]\n",
    "    within_upper = actual > pred_95th\n",
    "    within_lower = actual < pred_5th\n",
    "    within_range = np.logical_and(within_upper, within_lower)\n",
    "    return np.count_nonzero(within_range) / num_points"
   ],
   "metadata": {
    "collapsed": false,
    "pycharm": {
     "name": "#%%\n",
     "is_executing": false
    }
   }
  },
  {
   "cell_type": "code",
   "execution_count": 8,
   "outputs": [],
   "source": [
    "def plot_single_test_mse(mses, probs, title):\n",
    "    beams = list(range(1, 7))\n",
    "    mse_95 = [mse[0] for mse in mses]\n",
    "    mse_median = [mse[1] for mse in mses]\n",
    "    mse_5 = [mse[2] for mse in mses]\n",
    "    \n",
    "    # See: https://matplotlib.org/gallery/api/two_scales.html\n",
    "    fig, ax1 = plt.subplots()\n",
    "    ax1.set_xlabel('Beam (BLA#)')\n",
    "    ax1.set_ylabel('Mean Squared Error', color=\"Red\")\n",
    "    ax1.plot(beams, mse_median, 'o', color=\"Red\")\n",
    "    ax1.tick_params(axis='y', labelcolor=\"Red\")\n",
    "    ax1.set_title(title)\n",
    "    \n",
    "    ax2 = ax1.twinx()\n",
    "    \n",
    "    ax2.set_ylabel('Proportion of Samples within 5-95 range', color=\"Blue\")\n",
    "    ax2.plot(beams, probs, 'o', color=\"Blue\")\n",
    "    ax2.tick_params(axis='y', labelcolor=\"Blue\")\n",
    "    ax2.set_ylim((0, 1))\n",
    "    \n",
    "    fig.tight_layout()\n",
    "    plt.show()"
   ],
   "metadata": {
    "collapsed": false,
    "pycharm": {
     "name": "#%%\n",
     "is_executing": false
    }
   }
  },
  {
   "cell_type": "markdown",
   "source": [
    "## Baseline 1: BlaConstantModel\n",
    "\n",
    "This model averages the input for each beam over the training period and predicts that value as constant for each beam.\n",
    "\n",
    "This represents the most naive model, since it assumes indpendence from the features and labels, and no change in the \n",
    "labels over time.\n",
    "\n",
    "### Train Baseline 1"
   ],
   "metadata": {
    "collapsed": false,
    "pycharm": {
     "name": "#%% md\n"
    }
   }
  },
  {
   "cell_type": "code",
   "execution_count": 9,
   "outputs": [],
   "source": [
    "baseline_1_95 = bla_constant_model.BlaConstantModel()\n",
    "baseline_1_median = bla_constant_model.BlaConstantModel()\n",
    "baseline_1_5 = bla_constant_model.BlaConstantModel()\n",
    "\n",
    "baseline_1_95.train(train_X_median, train_Y_95th)\n",
    "baseline_1_median.train(train_X_median, train_Y_median)\n",
    "baseline_1_5.train(train_X_median, train_Y_5th)\n",
    "\n",
    "baseline_1_pred_95 = [baseline_1_95.predict(validation_X_median, i) for i in range(6)]\n",
    "baseline_1_pred_median = [baseline_1_median.predict(validation_X_median, i) for i in range(6)]\n",
    "baseline_1_pred_5 = [baseline_1_5.predict(validation_X_median, i) for i in range(6)]\n"
   ],
   "metadata": {
    "collapsed": false,
    "pycharm": {
     "name": "#%%\n",
     "is_executing": false
    }
   }
  },
  {
   "cell_type": "markdown",
   "source": [
    "### Validate Baseline 1"
   ],
   "metadata": {
    "collapsed": false,
    "pycharm": {
     "name": "#%% md\n"
    }
   }
  },
  {
   "cell_type": "code",
   "execution_count": 10,
   "outputs": [
    {
     "name": "stdout",
     "text": [
      "[0.30456349206349204, 0.498015873015873, 0.17559523809523808, 0.44543650793650796, 0.1875, 0.37202380952380953]\n[[0.04245452300948678, 0.04162106729108527, 0.04147491664407876], [0.03209213029749671, 0.03142353916074882, 0.03155583052803947], [0.26960116110097515, 0.2642658944906552, 0.25920467174609846], [0.029267750765246982, 0.02846044405023367, 0.028371323893824553], [0.11985529057687967, 0.11808436889468066, 0.11775065138880612], [0.0638961255313746, 0.060582924020874236, 0.05866753512445516]]\n"
     ],
     "output_type": "stream"
    }
   ],
   "source": [
    "baseline_1_valid_props = []\n",
    "for i in range(6):\n",
    "    p = prop_within_bounds(validation_Y_median[i], baseline_1_pred_95[i], baseline_1_pred_5[i])\n",
    "    baseline_1_valid_props.append(p)\n",
    "    \n",
    "print(baseline_1_valid_props)\n",
    "\n",
    "baseline_1_valid_mses = []\n",
    "for i in range(6):\n",
    "    mse_95 = mean_squared_error(validation_Y_95th[i], baseline_1_pred_95[i])\n",
    "    mse_median = mean_squared_error(validation_Y_median[i], baseline_1_pred_median[i])\n",
    "    mse_5 = mean_squared_error(validation_Y_5th[i], baseline_1_pred_5[i])\n",
    "    baseline_1_valid_mses.append([mse_95, mse_median, mse_5])\n",
    "    \n",
    "print(baseline_1_valid_mses)"
   ],
   "metadata": {
    "collapsed": false,
    "pycharm": {
     "name": "#%%\n",
     "is_executing": false
    }
   }
  },
  {
   "cell_type": "code",
   "execution_count": 11,
   "outputs": [
    {
     "data": {
      "text/plain": "<Figure size 432x288 with 2 Axes>",
      "image/png": "[encoded data removed]"
     },
     "metadata": {
      "needs_background": "light"
     },
     "output_type": "display_data"
    }
   ],
   "source": [
    "plot_single_test_mse(baseline_1_valid_mses, baseline_1_valid_props, \"Baseline 1: BlaConstantModel\")"
   ],
   "metadata": {
    "collapsed": false,
    "pycharm": {
     "name": "#%%\n",
     "is_executing": false
    }
   }
  },
  {
   "cell_type": "markdown",
   "source": [
    "## Baseline 2: BlaAvgModel\n",
    "This model ignores differences in beams and tries to fit a single model for all beams by averaging the output from all\n",
    "beams into a single \"y\" before fitting.\n",
    "\n",
    "### Train Baseline 2"
   ],
   "metadata": {
    "collapsed": false,
    "pycharm": {
     "name": "#%% md\n"
    }
   }
  },
  {
   "cell_type": "code",
   "execution_count": 12,
   "outputs": [],
   "source": [
    "baseline_2_95 = bla_avg_model.BlaAvgModel()\n",
    "baseline_2_median = bla_avg_model.BlaAvgModel()\n",
    "baseline_2_5 = bla_avg_model.BlaAvgModel()\n",
    "\n",
    "baseline_2_95.train(train_X_median, train_Y_95th)\n",
    "baseline_2_median.train(train_X_median, train_Y_median)\n",
    "baseline_2_5.train(train_X_median, train_Y_5th)\n",
    "\n",
    "baseline_2_pred_95 = baseline_2_95.predict(validation_X_median)\n",
    "baseline_2_pred_median = baseline_2_median.predict(validation_X_median)\n",
    "baseline_2_pred_5 = baseline_2_5.predict(validation_X_median)"
   ],
   "metadata": {
    "collapsed": false,
    "pycharm": {
     "name": "#%%\n",
     "is_executing": false
    }
   }
  },
  {
   "cell_type": "markdown",
   "source": [
    "### Validate Baseline 2"
   ],
   "metadata": {
    "collapsed": false,
    "pycharm": {
     "name": "#%% md\n"
    }
   }
  },
  {
   "cell_type": "code",
   "execution_count": 13,
   "outputs": [
    {
     "name": "stdout",
     "text": [
      "[0.0, 0.001984126984126984, 0.0, 0.0, 0.4751984126984127, 0.0]\n[[17.94122108121442, 17.923711036868358, 17.902940451881435], [0.3666488186208944, 0.32765771481748734, 0.28837861968281575], [0.863417050277435, 0.8385345258291204, 0.8184678414446253], [13.154606625818724, 13.384280903935094, 13.605719156742488], [0.05684638257268575, 0.06083571607881281, 0.06547999911253083], [0.8893476943905664, 0.9080191230458328, 0.9225798980226455]]\n"
     ],
     "output_type": "stream"
    }
   ],
   "source": [
    "baseline_2_valid_props = []\n",
    "for i in range(6):\n",
    "    p = prop_within_bounds(validation_Y_median[i], baseline_2_pred_95, baseline_2_pred_5)\n",
    "    baseline_2_valid_props.append(p)\n",
    "    \n",
    "print(baseline_2_valid_props)\n",
    "\n",
    "baseline_2_valid_mses = []\n",
    "for i in range(6):\n",
    "    mse_95 = mean_squared_error(validation_Y_95th[i], baseline_2_pred_95)\n",
    "    mse_median = mean_squared_error(validation_Y_median[i], baseline_2_pred_median)\n",
    "    mse_5 = mean_squared_error(validation_Y_5th[i], baseline_2_pred_5)\n",
    "    baseline_2_valid_mses.append([mse_95, mse_median, mse_5])\n",
    "    \n",
    "print(baseline_2_valid_mses)"
   ],
   "metadata": {
    "collapsed": false,
    "pycharm": {
     "name": "#%%\n",
     "is_executing": false
    }
   }
  },
  {
   "cell_type": "code",
   "execution_count": 14,
   "outputs": [
    {
     "data": {
      "text/plain": "<Figure size 432x288 with 2 Axes>",
      "image/png": "[encoded data removed]"
     },
     "metadata": {
      "needs_background": "light"
     },
     "output_type": "display_data"
    }
   ],
   "source": [
    "plot_single_test_mse(baseline_2_valid_mses, baseline_2_valid_props, \"Baseline 2: BlaAvgModel\")"
   ],
   "metadata": {
    "collapsed": false,
    "pycharm": {
     "name": "#%%\n",
     "is_executing": false
    }
   }
  },
  {
   "cell_type": "markdown",
   "source": [
    "## Model 1: Regular Least Squares Regression for Each Beam\n",
    "This model trains a regular least squares model for each beam independtly. Parameters for the least squares model are\n",
    "standard, and an intercept is added.\n",
    "\n",
    "### Train Model 1"
   ],
   "metadata": {
    "collapsed": false,
    "pycharm": {
     "name": "#%% md\n"
    }
   }
  },
  {
   "cell_type": "code",
   "execution_count": 15,
   "outputs": [],
   "source": [
    "model_1_95 = bla_linear_model.BlaLinearModel()\n",
    "model_1_median = bla_linear_model.BlaLinearModel()\n",
    "model_1_5 = bla_linear_model.BlaLinearModel()\n",
    "\n",
    "model_1_95.train(train_X_median, train_Y_95th)\n",
    "model_1_median.train(train_X_median, train_Y_median)\n",
    "model_1_5.train(train_X_median, train_Y_5th)\n",
    "\n",
    "model_1_pred_95 = [model_1_95.predict(validation_X_median, i) for i in range(6)]\n",
    "model_1_pred_median = [model_1_median.predict(validation_X_median, i) for i in range(6)]\n",
    "model_1_pred_5 = [model_1_5.predict(validation_X_median, i) for i in range(6)]"
   ],
   "metadata": {
    "collapsed": false,
    "pycharm": {
     "name": "#%%\n",
     "is_executing": false
    }
   }
  },
  {
   "cell_type": "markdown",
   "source": [
    "### Validate Model 1\n"
   ],
   "metadata": {
    "collapsed": false,
    "pycharm": {
     "name": "#%% md\n"
    }
   }
  },
  {
   "cell_type": "code",
   "execution_count": 16,
   "outputs": [
    {
     "name": "stdout",
     "text": [
      "0.8181795211386911\n0.827241925281234\n0.9532337407185812\n0.8872118653940038\n0.9744355894497458\n0.693275627690665\n[0.7698412698412699, 0.9255952380952381, 0.7470238095238095, 0.7509920634920635, 0.8045634920634921, 0.5863095238095238]\n[[0.007860981224111014, 0.007533497647705936, 0.007806739348057088], [0.005666978178580184, 0.005426269196367627, 0.006309557660438183], [0.014626180286519769, 0.012358204445914336, 0.012144149184415838], [0.0033471164185337227, 0.0032091294248332604, 0.003229270002345278], [0.00338765905386192, 0.0030149984398348323, 0.003110811621841869], [0.02016941555978482, 0.018549033944698628, 0.017700811907873617]]\n"
     ],
     "output_type": "stream"
    }
   ],
   "source": [
    "model_1_valid_props = []\n",
    "for i in range(6):\n",
    "    p = prop_within_bounds(validation_Y_median[i], model_1_pred_95[i], model_1_pred_5[i])\n",
    "    model_1_valid_props.append(p)\n",
    "    print(model_1_median.models[i].score(validation_X_median, validation_Y_median[i]))\n",
    "    \n",
    "print(model_1_valid_props)\n",
    "\n",
    "model_1_valid_mses = []\n",
    "for i in range(6):\n",
    "    mse_95 = mean_squared_error(validation_Y_95th[i], model_1_pred_95[i])\n",
    "    mse_median = mean_squared_error(validation_Y_median[i], model_1_pred_median[i])\n",
    "    mse_5 = mean_squared_error(validation_Y_5th[i], model_1_pred_5[i])\n",
    "    model_1_valid_mses.append([mse_95, mse_median, mse_5])\n",
    "    \n",
    "print(model_1_valid_mses)"
   ],
   "metadata": {
    "collapsed": false,
    "pycharm": {
     "name": "#%%\n",
     "is_executing": false
    }
   }
  },
  {
   "cell_type": "code",
   "execution_count": 17,
   "outputs": [
    {
     "data": {
      "text/plain": "<Figure size 432x288 with 2 Axes>",
      "image/png": "[encoded data removed]"
     },
     "metadata": {
      "needs_background": "light"
     },
     "output_type": "display_data"
    }
   ],
   "source": [
    "plot_single_test_mse(model_1_valid_mses, model_1_valid_props, \"Model 1: Linear\")"
   ],
   "metadata": {
    "collapsed": false,
    "pycharm": {
     "name": "#%%\n",
     "is_executing": false
    }
   }
  },
  {
   "cell_type": "markdown",
   "source": [
    "## Model 2: Lasso (Linear Regression with L1 Regularization)\n",
    "This model adds a l1 regularization term to the objective function. This has the effect of penalizing nonzero coefficients,\n",
    "which in turn minimizes the number of nonzero coefficients. \n",
    "\n",
    "### Train Model 2"
   ],
   "metadata": {
    "collapsed": false,
    "pycharm": {
     "name": "#%% md\n"
    }
   }
  },
  {
   "cell_type": "code",
   "execution_count": 18,
   "outputs": [],
   "source": [
    "model_2_95 = bla_lasso_model.BlaLassoModel(alpha=1)\n",
    "model_2_median = bla_lasso_model.BlaLassoModel(alpha=1)\n",
    "model_2_5 = bla_lasso_model.BlaLassoModel(alpha=1)\n",
    "\n",
    "model_2_95.train(train_X_median, train_Y_95th)\n",
    "model_2_median.train(train_X_median, train_Y_median)\n",
    "model_2_5.train(train_X_median, train_Y_5th)\n",
    "\n",
    "model_2_pred_95 = [model_2_95.predict(validation_X_median, i) for i in range(6)]\n",
    "model_2_pred_median = [model_2_median.predict(validation_X_median, i) for i in range(6)]\n",
    "model_2_pred_5 = [model_2_5.predict(validation_X_median, i) for i in range(6)]"
   ],
   "metadata": {
    "collapsed": false,
    "pycharm": {
     "name": "#%%\n",
     "is_executing": false
    }
   }
  },
  {
   "cell_type": "markdown",
   "source": [
    "### Validate Model 2"
   ],
   "metadata": {
    "collapsed": false,
    "pycharm": {
     "name": "#%% md\n"
    }
   }
  },
  {
   "cell_type": "code",
   "execution_count": 19,
   "outputs": [
    {
     "name": "stdout",
     "text": [
      "[0.3115079365079365, 0.8283730158730159, 0.26587301587301587, 0.5634920634920635, 0.6468253968253969, 0.4236111111111111]\n[[0.03871993840535931, 0.03796806827895438, 0.03758122605700853], [0.01154962699014436, 0.011415920505618548, 0.01208235684124185], [0.2436782640761842, 0.23897594414904175, 0.234166894376327], [0.022409077778951254, 0.02176517619755074, 0.021588929090232616], [0.007378968292477645, 0.006856814970724178, 0.006864312756117084], [0.05723374027422613, 0.054352662515898445, 0.05289960857780515]]\n"
     ],
     "output_type": "stream"
    }
   ],
   "source": [
    "model_2_valid_props = []\n",
    "for i in range(6):\n",
    "    p = prop_within_bounds(validation_Y_median[i], model_2_pred_95[i], model_2_pred_5[i])\n",
    "    model_2_valid_props.append(p)\n",
    "    #print(model_2_median.models[i].coef_, model_2_median.models[i].intercept_)\n",
    "    #print(model_2_median.models[i].score(validation_X_median, validation_Y_median[i]))\n",
    "    \n",
    "print(model_2_valid_props)\n",
    "\n",
    "model_2_valid_mses = []\n",
    "for i in range(6):\n",
    "    mse_95 = mean_squared_error(validation_Y_95th[i], model_2_pred_95[i])\n",
    "    mse_median = mean_squared_error(validation_Y_median[i], model_2_pred_median[i])\n",
    "    mse_5 = mean_squared_error(validation_Y_5th[i], model_2_pred_5[i])\n",
    "    model_2_valid_mses.append([mse_95, mse_median, mse_5])\n",
    "    \n",
    "print(model_2_valid_mses)"
   ],
   "metadata": {
    "collapsed": false,
    "pycharm": {
     "name": "#%%\n",
     "is_executing": false
    }
   }
  },
  {
   "cell_type": "code",
   "execution_count": 20,
   "outputs": [
    {
     "data": {
      "text/plain": "<Figure size 432x288 with 2 Axes>",
      "image/png": "[encoded data removed]"
     },
     "metadata": {
      "needs_background": "light"
     },
     "output_type": "display_data"
    }
   ],
   "source": [
    "plot_single_test_mse(model_2_valid_mses, model_2_valid_props, \"Model 2: Lasso\")"
   ],
   "metadata": {
    "collapsed": false,
    "pycharm": {
     "name": "#%%\n",
     "is_executing": false
    }
   }
  },
  {
   "cell_type": "code",
   "execution_count": 21,
   "outputs": [],
   "source": [
    "# evaluate models:\n",
    "# split test set into a set of np arrays that can be more readily used to generate model predictions\n",
    "test_X_95th, test_X_median, test_X_5th = utils.split_X_into_quantiles(test)\n",
    "test_Y_95th, test_Y_median, test_Y_5th = utils.split_Y_into_beams_and_quantiles(test)"
   ],
   "metadata": {
    "collapsed": false,
    "pycharm": {
     "name": "#%%\n",
     "is_executing": false
    }
   }
  }
 ],
 "metadata": {
  "kernelspec": {
   "display_name": "Python 3",
   "language": "python",
   "name": "python3"
  },
  "language_info": {
   "codemirror_mode": {
    "name": "ipython",
    "version": 2
   },
   "file_extension": ".py",
   "mimetype": "text/x-python",
   "name": "python",
   "nbconvert_exporter": "python",
   "pygments_lexer": "ipython2",
   "version": "2.7.6"
  },
  "pycharm": {
   "stem_cell": {
    "cell_type": "raw",
    "source": [],
    "metadata": {
     "collapsed": false
    }
   }
  }
 },
 "nbformat": 4,
 "nbformat_minor": 0
}