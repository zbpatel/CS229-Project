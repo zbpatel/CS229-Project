{
 "cells": [
  {
   "cell_type": "markdown",
   "metadata": {
    "collapsed": true,
    "pycharm": {
     "name": "#%% md\n"
    }
   },
   "source": [
    "# predict_future_output \n",
    "\n",
    "## Goal: given the output history of a gun, predict a range on the future of it's inputs\n"
   ]
  },
  {
   "cell_type": "code",
   "execution_count": 1,
   "outputs": [],
   "source": [
    "input_file = \"dataset1_clean.csv\""
   ],
   "metadata": {
    "collapsed": false,
    "pycharm": {
     "name": "#%% \n",
     "is_executing": false
    }
   }
  },
  {
   "cell_type": "code",
   "execution_count": 24,
   "outputs": [],
   "source": [
    "# imports:\n",
    "import pandas as pd\n",
    "import matplotlib.pyplot as plt\n",
    "import numpy as np\n",
    "from sklearn.metrics import mean_squared_error\n",
    "from sklearn.model_selection import train_test_split\n",
    "from sklearn.decomposition import PCA\n",
    "# import utils and other models\n",
    "import utils\n",
    "import bla_avg_model"
   ],
   "metadata": {
    "collapsed": false,
    "pycharm": {
     "name": "#%%\n",
     "is_executing": false
    }
   }
  },
  {
   "cell_type": "code",
   "execution_count": 3,
   "outputs": [
    {
     "name": "stdout",
     "text": [
      "                     DAC_S0_95th_quantile  DAC_S0_median  DAC_S0_5th_quantile  \\\nTime                                                                            \n1900-01-01 00:00:00                   2.0            2.0                  2.0   \n1900-01-01 00:01:00                   2.0            2.0                  2.0   \n1900-01-01 00:02:00                   2.0            2.0                  2.0   \n1900-01-01 00:03:00                   2.0            2.0                  2.0   \n1900-01-01 00:04:00                   2.0            2.0                  2.0   \n\n                     SO_(volts)_95th_quantile  SO_(volts)_median  \\\nTime                                                               \n1900-01-01 00:00:00                       2.0                2.0   \n1900-01-01 00:01:00                       2.0                2.0   \n1900-01-01 00:02:00                       2.0                2.0   \n1900-01-01 00:03:00                       2.0                2.0   \n1900-01-01 00:04:00                       2.0                2.0   \n\n                     SO_(volts)_5th_quantile  DAC_S1_95th_quantile  \\\nTime                                                                 \n1900-01-01 00:00:00                      2.0                 0.499   \n1900-01-01 00:01:00                      2.0                 0.499   \n1900-01-01 00:02:00                      2.0                 0.499   \n1900-01-01 00:03:00                      2.0                 0.499   \n1900-01-01 00:04:00                      2.0                 0.499   \n\n                     DAC_S1_median  DAC_S1_5th_quantile  \\\nTime                                                      \n1900-01-01 00:00:00          0.499                0.499   \n1900-01-01 00:01:00          0.499                0.499   \n1900-01-01 00:02:00          0.499                0.499   \n1900-01-01 00:03:00          0.499                0.499   \n1900-01-01 00:04:00          0.499                0.499   \n\n                     S1_(volts)_95th_quantile  ...  BLA_3_5th_quantile  \\\nTime                                           ...                       \n1900-01-01 00:00:00                       0.5  ...            -35.1800   \n1900-01-01 00:01:00                       0.5  ...            -36.1895   \n1900-01-01 00:02:00                       0.5  ...            -36.1270   \n1900-01-01 00:03:00                       0.5  ...            -36.0400   \n1900-01-01 00:04:00                       0.5  ...            -35.9800   \n\n                     BLA_4_95th_quantile  BLA_4_median  BLA_4_5th_quantile  \\\nTime                                                                         \n1900-01-01 00:00:00             -38.7000        -38.57             -38.022   \n1900-01-01 00:01:00             -38.6300        -38.57             -38.510   \n1900-01-01 00:02:00             -38.6000        -38.54             -38.480   \n1900-01-01 00:03:00             -38.6315        -38.51             -38.450   \n1900-01-01 00:04:00             -38.6000        -38.51             -38.480   \n\n                     BLA_5_95th_quantile  BLA_5_median  BLA_5_5th_quantile  \\\nTime                                                                         \n1900-01-01 00:00:00               -35.22        -35.16             -34.889   \n1900-01-01 00:01:00               -35.22        -35.10             -35.030   \n1900-01-01 00:02:00               -35.19        -35.13             -35.030   \n1900-01-01 00:03:00               -35.16        -35.06             -34.970   \n1900-01-01 00:04:00               -35.19        -35.10             -35.030   \n\n                     BLA_6_95th_quantile  BLA_6_median  BLA_6_5th_quantile  \nTime                                                                        \n1900-01-01 00:00:00             -33.3510        -33.20            -33.0800  \n1900-01-01 00:01:00             -33.3900        -33.30            -33.1985  \n1900-01-01 00:02:00             -33.2600        -33.14            -33.0800  \n1900-01-01 00:03:00             -33.3015        -33.17            -33.0800  \n1900-01-01 00:04:00             -33.3000        -33.17            -33.1100  \n\n[5 rows x 141 columns]\n"
     ],
     "output_type": "stream"
    }
   ],
   "source": [
    "# load in cleaned dataset\n",
    "data = pd.read_csv(input_file, index_col=[0], skipinitialspace=True)\n",
    "print(data.head())"
   ],
   "metadata": {
    "collapsed": false,
    "pycharm": {
     "name": "#%%\n",
     "is_executing": false
    }
   }
  },
  {
   "cell_type": "code",
   "execution_count": 4,
   "outputs": [
    {
     "name": "stdout",
     "text": [
      "DAC_S0_95th_quantile         2.0000\nDAC_S0_median                2.0000\nDAC_S0_5th_quantile          2.0000\nSO_(volts)_95th_quantile     2.0000\nSO_(volts)_median            2.0000\n                             ...   \nBLA_5_median               -33.4500\nBLA_5_5th_quantile         -33.3900\nBLA_6_95th_quantile        -33.3315\nBLA_6_median               -33.2000\nBLA_6_5th_quantile         -33.1100\nName: 1900-01-09 23:59:00, Length: 141, dtype: float64\n"
     ],
     "output_type": "stream"
    }
   ],
   "source": [
    "print(data.iloc[-1])"
   ],
   "metadata": {
    "collapsed": false,
    "pycharm": {
     "name": "#%%\n",
     "is_executing": false
    }
   }
  },
  {
   "cell_type": "code",
   "execution_count": 5,
   "outputs": [
    {
     "name": "stdout",
     "text": [
      "<class 'pandas.core.frame.DataFrame'>\nIndex: 10080 entries, 1900-01-01 00:00:00 to 1900-01-07 23:59:00\nColumns: 141 entries, DAC_S0_95th_quantile to BLA_6_5th_quantile\ndtypes: float64(141)\nmemory usage: 10.9+ MB\nNone\n<class 'pandas.core.frame.DataFrame'>\nIndex: 2841 entries, 1900-01-08 00:00:00 to 1900-01-09 23:59:00\nColumns: 141 entries, DAC_S0_95th_quantile to BLA_6_5th_quantile\ndtypes: float64(141)\nmemory usage: 3.1+ MB\nNone\n"
     ],
     "output_type": "stream"
    }
   ],
   "source": [
    "# (year set to 1900 since that is the base for datetime objects)\n",
    "# note date ranges are not inclusive\n",
    "train_date_range = [\"1900-01-01\", \"1900-01-08\"]\n",
    "test_date_range = [\"1900-01-08\", \"1900-01-10\"]\n",
    "\n",
    "full_train, test = utils.split_by_day(data, train_date_range, test_date_range)\n",
    "\n",
    "print(full_train.info())\n",
    "print(test.info())"
   ],
   "metadata": {
    "collapsed": false,
    "pycharm": {
     "name": "#%%\n",
     "is_executing": false
    }
   }
  },
  {
   "cell_type": "code",
   "execution_count": 6,
   "outputs": [
    {
     "name": "stdout",
     "text": [
      "<class 'pandas.core.frame.DataFrame'>\nIndex: 1008 entries, 1900-01-01 02:30:00 to 1900-01-02 15:13:00\nColumns: 141 entries, DAC_S0_95th_quantile to BLA_6_5th_quantile\ndtypes: float64(141)\nmemory usage: 1.1+ MB\nNone\n<class 'pandas.core.frame.DataFrame'>\nIndex: 9072 entries, 1900-01-05 19:12:00 to 1900-01-01 23:04:00\nColumns: 141 entries, DAC_S0_95th_quantile to BLA_6_5th_quantile\ndtypes: float64(141)\nmemory usage: 9.8+ MB\nNone\n"
     ],
     "output_type": "stream"
    }
   ],
   "source": [
    "# split full_train into a train and valdiation set\n",
    "validation_frac = .1\n",
    "train, validation = train_test_split(full_train, test_size=validation_frac)\n",
    "print(validation.info())\n",
    "print(train.info())"
   ],
   "metadata": {
    "collapsed": false,
    "pycharm": {
     "name": "#%%\n",
     "is_executing": false
    }
   }
  },
  {
   "cell_type": "code",
   "execution_count": 6,
   "outputs": [],
   "source": [],
   "metadata": {
    "collapsed": false,
    "pycharm": {
     "name": "#%%\n",
     "is_executing": false
    }
   }
  },
  {
   "cell_type": "code",
   "execution_count": 7,
   "outputs": [],
   "source": [
    "# convert the train and validation dataframes into a set of np arrays that can be more readily used to train models\n",
    "train_X_95th, train_X_median, train_X_5th = utils.split_X_into_quantiles(train)\n",
    "train_Y_95th, train_Y_median, train_Y_5th = utils.split_Y_into_beams_and_quantiles(train)\n",
    "\n",
    "validation_X_95th, validation_X_median, validation_X_5th = utils.split_X_into_quantiles(validation)\n",
    "validation_Y_95th, validation_Y_median, validation_Y_5th = utils.split_Y_into_beams_and_quantiles(validation)"
   ],
   "metadata": {
    "collapsed": false,
    "pycharm": {
     "name": "#%%\n",
     "is_executing": false
    }
   }
  },
  {
   "cell_type": "code",
   "execution_count": 8,
   "outputs": [
    {
     "name": "stdout",
     "text": [
      "(9072, 41)\n"
     ],
     "output_type": "stream"
    }
   ],
   "source": [
    "print(train_X_median.shape)"
   ],
   "metadata": {
    "collapsed": false,
    "pycharm": {
     "name": "#%%\n",
     "is_executing": false
    }
   }
  },
  {
   "cell_type": "code",
   "execution_count": 9,
   "outputs": [
    {
     "name": "stdout",
     "text": [
      "Index(['DAC_S0_95th_quantile', 'DAC_S0_median', 'DAC_S0_5th_quantile',\n       'SO_(volts)_95th_quantile', 'SO_(volts)_median',\n       'SO_(volts)_5th_quantile', 'DAC_S1_95th_quantile', 'DAC_S1_median',\n       'DAC_S1_5th_quantile', 'S1_(volts)_95th_quantile',\n       ...\n       'BLA_3_5th_quantile', 'BLA_4_95th_quantile', 'BLA_4_median',\n       'BLA_4_5th_quantile', 'BLA_5_95th_quantile', 'BLA_5_median',\n       'BLA_5_5th_quantile', 'BLA_6_95th_quantile', 'BLA_6_median',\n       'BLA_6_5th_quantile'],\n      dtype='object', length=141)\n"
     ],
     "output_type": "stream"
    }
   ],
   "source": [
    "print(train.columns)"
   ],
   "metadata": {
    "collapsed": false,
    "pycharm": {
     "name": "#%%\n",
     "is_executing": false
    }
   }
  },
  {
   "cell_type": "code",
   "execution_count": 10,
   "outputs": [],
   "source": [
    "# defining some evaluation metrics\n",
    "def prop_within_bounds(actual, pred_95th, pred_5th):\n",
    "    # return the proportion of points in actual that fall between the predicted 5th and 95th quantiles\n",
    "    num_points = actual.shape[0]\n",
    "    within_upper = actual > pred_95th\n",
    "    within_lower = actual < pred_5th\n",
    "    within_range = np.logical_and(within_upper, within_lower)\n",
    "    #print(within_range)\n",
    "    \n",
    "    return np.count_nonzero(within_range) / num_points"
   ],
   "metadata": {
    "collapsed": false,
    "pycharm": {
     "name": "#%%\n",
     "is_executing": false
    }
   }
  },
  {
   "cell_type": "code",
   "execution_count": 11,
   "outputs": [
    {
     "name": "stdout",
     "text": [
      "6\n6\n6\n"
     ],
     "output_type": "stream"
    }
   ],
   "source": [
    "# Train baseline model: BlaAvgModel\n",
    "# this model ignores differences in beams and tries to fit a single model to every beam by averaging the output from all\n",
    "# beams before fitting a model\n",
    "model_95 = bla_avg_model.BlaAvgModel()\n",
    "model_median = bla_avg_model.BlaAvgModel()\n",
    "model_5 = bla_avg_model.BlaAvgModel()\n",
    "\n",
    "model_95.train(train_X_median, train_Y_95th)\n",
    "model_median.train(train_X_median, train_Y_median)\n",
    "model_5.train(train_X_median, train_Y_5th)\n",
    "\n",
    "pred_95 = model_95.predict(validation_X_median)\n",
    "pred_median = model_median.predict(validation_X_median)\n",
    "pred_5 = model_5.predict(validation_X_median)"
   ],
   "metadata": {
    "collapsed": false,
    "pycharm": {
     "name": "#%%\n",
     "is_executing": false
    }
   }
  },
  {
   "cell_type": "code",
   "execution_count": 12,
   "outputs": [
    {
     "name": "stdout",
     "text": [
      "[0.0, 0.0, 0.0, 0.0, 0.4037698412698413, 0.0]\n"
     ],
     "output_type": "stream"
    }
   ],
   "source": [
    "props = []\n",
    "for i in range(6):\n",
    "    p = prop_within_bounds(validation_Y_median[i], pred_95, pred_5)\n",
    "    props.append(p)\n",
    "    \n",
    "print(props)"
   ],
   "metadata": {
    "collapsed": false,
    "pycharm": {
     "name": "#%%\n",
     "is_executing": false
    }
   }
  },
  {
   "cell_type": "code",
   "execution_count": 13,
   "outputs": [
    {
     "name": "stdout",
     "text": [
      "(1008, 1)\n(1008, 1)\n(1008, 1)\n"
     ],
     "output_type": "stream"
    }
   ],
   "source": [
    "print(validation_Y_median[0].shape)\n",
    "print(pred_95.shape)\n",
    "#print(pred_95)\n",
    "print(pred_5.shape)"
   ],
   "metadata": {
    "collapsed": false,
    "pycharm": {
     "name": "#%%\n",
     "is_executing": false
    }
   }
  },
  {
   "cell_type": "code",
   "execution_count": 22,
   "outputs": [
    {
     "data": {
      "text/plain": "<Figure size 432x288 with 1 Axes>",
      "image/png": "[encoded data removed]"
     },
     "metadata": {
      "needs_background": "light"
     },
     "output_type": "display_data"
    }
   ],
   "source": [
    "scatter_indices = list(range(len(pred_95)))\n",
    "#plt.plot(pred_95, color=\"Blue\")\n",
    "plt.scatter(scatter_indices, pred_95, label=\"95th\")\n",
    "plt.scatter(scatter_indices, pred_5, c=\"Red\", label=\"5th\")\n",
    "plt.scatter(scatter_indices, validation_Y_median[0], c=\"Yellow\", label=\"median\")\n",
    "plt.scatter(scatter_indices, validation_Y_median[4], c=\"Green\", label=\"median\")\n",
    "plt.scatter(scatter_indices, validation_Y_median[1], c=\"Purple\", label=\"median\")\n",
    "plt.scatter(scatter_indices, validation_Y_median[2], c=\"Orange\", label=\"median\")\n",
    "plt.show()"
   ],
   "metadata": {
    "collapsed": false,
    "pycharm": {
     "name": "#%%\n",
     "is_executing": false
    }
   }
  },
  {
   "cell_type": "code",
   "execution_count": 15,
   "outputs": [
    {
     "data": {
      "text/plain": "<Figure size 432x288 with 1 Axes>",
      "image/png": "[encoded data removed]"
     },
     "metadata": {
      "needs_background": "light"
     },
     "output_type": "display_data"
    }
   ],
   "source": [
    "plt.plot(pred_5, color=\"Red\")\n",
    "plt.show()\n",
    "\n"
   ],
   "metadata": {
    "collapsed": false,
    "pycharm": {
     "name": "#%%\n",
     "is_executing": false
    }
   }
  },
  {
   "cell_type": "code",
   "execution_count": 16,
   "outputs": [],
   "source": [
    "# evaluate models:\n",
    "# split test set into a set of np arrays that can be more readily used to generate model predictions\n",
    "test_X_95th, test_X_median, test_X_5th = utils.split_X_into_quantiles(test)\n",
    "test_Y_95th, test_Y_median, test_Y_5th = utils.split_Y_into_beams_and_quantiles(test)"
   ],
   "metadata": {
    "collapsed": false,
    "pycharm": {
     "name": "#%%\n",
     "is_executing": false
    }
   }
  }
 ],
 "metadata": {
  "kernelspec": {
   "display_name": "Python 3",
   "language": "python",
   "name": "python3"
  },
  "language_info": {
   "codemirror_mode": {
    "name": "ipython",
    "version": 2
   },
   "file_extension": ".py",
   "mimetype": "text/x-python",
   "name": "python",
   "nbconvert_exporter": "python",
   "pygments_lexer": "ipython2",
   "version": "2.7.6"
  },
  "pycharm": {
   "stem_cell": {
    "cell_type": "raw",
    "source": [],
    "metadata": {
     "collapsed": false
    }
   }
  }
 },
 "nbformat": 4,
 "nbformat_minor": 0
}