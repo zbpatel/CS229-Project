{
 "cells": [
  {
   "cell_type": "markdown",
   "metadata": {
    "collapsed": true,
    "pycharm": {
     "name": "#%% md\n"
    }
   },
   "source": [
    "# predict_future_output \n",
    "\n",
    "## Goal: predict future outputs of the various electron gun beams\n"
   ]
  },
  {
   "cell_type": "code",
   "execution_count": 1,
   "outputs": [],
   "source": [
    "input_file = \"dataset1_clean.csv\""
   ],
   "metadata": {
    "collapsed": false,
    "pycharm": {
     "name": "#%% \n",
     "is_executing": false
    }
   }
  },
  {
   "cell_type": "code",
   "execution_count": 2,
   "outputs": [],
   "source": [
    "# imports:\n",
    "import pandas as pd\n",
    "import matplotlib.pyplot as plt\n",
    "import numpy as np\n",
    "import time\n",
    "# import helpers from sklearn\n",
    "from sklearn.metrics import mean_squared_error\n",
    "from sklearn.model_selection import train_test_split\n",
    "from sklearn.decomposition import PCA\n",
    "\n",
    "# import utils and other models\n",
    "import utils\n",
    "import bla_avg_model\n",
    "import bla_constant_model\n",
    "import bla_linear_model\n",
    "import bla_lasso_model\n",
    "import bla_kernel_lr_model\n"
   ],
   "metadata": {
    "collapsed": false,
    "pycharm": {
     "name": "#%%\n",
     "is_executing": false
    }
   }
  },
  {
   "cell_type": "code",
   "execution_count": 3,
   "outputs": [],
   "source": [
    "# load in cleaned dataset\n",
    "data = pd.read_csv(input_file, index_col=[0], skipinitialspace=True)\n",
    "\n",
    "# add in integer index\n",
    "data = data.reset_index().reset_index().set_index([\"Time\"])\n",
    "#print(data.head())"
   ],
   "metadata": {
    "collapsed": false,
    "pycharm": {
     "name": "#%%\n",
     "is_executing": false
    }
   }
  },
  {
   "cell_type": "code",
   "execution_count": 4,
   "outputs": [],
   "source": [
    "# (year set to 1900 since that is the base for datetime objects)\n",
    "# note date ranges are not inclusive\n",
    "train_date_range = [\"1900-01-01\", \"1900-01-08\"]\n",
    "test_date_range = [\"1900-01-08\", \"1900-01-10\"]\n",
    "\n",
    "full_train, test = utils.split_by_day(data, train_date_range, test_date_range)\n",
    "\n",
    "#print(full_train.info())\n",
    "#print(test.info())"
   ],
   "metadata": {
    "collapsed": false,
    "pycharm": {
     "name": "#%%\n",
     "is_executing": false
    }
   }
  },
  {
   "cell_type": "code",
   "execution_count": 5,
   "outputs": [],
   "source": [
    "# split full_train into a train and valdiation set\n",
    "validation_frac = .1\n",
    "train, validation = train_test_split(full_train, test_size=validation_frac)\n",
    "#print(validation.info())\n",
    "#print(train.info())"
   ],
   "metadata": {
    "collapsed": false,
    "pycharm": {
     "name": "#%%\n",
     "is_executing": false
    }
   }
  },
  {
   "cell_type": "code",
   "execution_count": 6,
   "outputs": [],
   "source": [
    "# convert the train and validation dataframes into a set of np arrays that can be more readily used to train models\n",
    "train_X_95th, train_X_median, train_X_5th = utils.split_X_into_quantiles(train, accept_index=True)\n",
    "train_Y_95th, train_Y_median, train_Y_5th = utils.split_Y_into_beams_and_quantiles(train)\n",
    "\n",
    "validation_X_95th, validation_X_median, validation_X_5th = utils.split_X_into_quantiles(validation, accept_index=True)\n",
    "validation_Y_95th, validation_Y_median, validation_Y_5th = utils.split_Y_into_beams_and_quantiles(validation)"
   ],
   "metadata": {
    "collapsed": false,
    "pycharm": {
     "name": "#%%\n",
     "is_executing": false
    }
   }
  },
  {
   "cell_type": "code",
   "execution_count": 7,
   "outputs": [],
   "source": [
    "# Create versions of our training set wihtout an index column, and then conduct PCA to get dimension reduced versions\n",
    "# of our dataset\n",
    "\n",
    "# create training and validation X sets without the index column\n",
    "train_X_95th_ni, train_X_median_ni, train_X_5th_ni = utils.split_X_into_quantiles(train, accept_index=False)\n",
    "validation_X_95th_ni, validation_X_median_ni, validation_X_5th_ni = utils.split_X_into_quantiles(validation, accept_index=False)\n",
    "\n",
    "# compute the PCA, using n=10 (learned from EDA.ipynb)\n",
    "model_pca = PCA(n_components=10)\n",
    "model_pca.fit(train_X_median_ni)\n",
    "\n",
    "# apply PCA to the train and test median sets\n",
    "train_X_median_ni = model_pca.transform(train_X_median_ni)\n",
    "validation_X_median_ni = model_pca.transform(validation_X_median_ni)"
   ],
   "metadata": {
    "collapsed": false,
    "pycharm": {
     "name": "#%%\n",
     "is_executing": false
    }
   }
  },
  {
   "cell_type": "markdown",
   "source": [
    "### Evaluation Metrics\n",
    "\n",
    "Mean Squared Error (MSE) computed using sklearn.metrics.mean_squared_error"
   ],
   "metadata": {
    "collapsed": false,
    "pycharm": {
     "name": "#%% md\n"
    }
   }
  },
  {
   "cell_type": "code",
   "execution_count": 8,
   "outputs": [],
   "source": [
    "def prop_within_bounds(actual, pred_95th, pred_5th):\n",
    "    # return the proportion of points in actual that fall between the predicted 5th and 95th quantiles\n",
    "    num_points = actual.shape[0]\n",
    "    within_upper = actual > pred_95th\n",
    "    within_lower = actual < pred_5th\n",
    "    within_range = np.logical_and(within_upper, within_lower)\n",
    "    return np.count_nonzero(within_range) / num_points"
   ],
   "metadata": {
    "collapsed": false,
    "pycharm": {
     "name": "#%%\n",
     "is_executing": false
    }
   }
  },
  {
   "cell_type": "code",
   "execution_count": 9,
   "outputs": [],
   "source": [
    "def plot_single_test_mse(mses, probs, title):\n",
    "    beams = list(range(1, 7))\n",
    "    mse_95 = [mse[0] for mse in mses]\n",
    "    mse_median = [mse[1] for mse in mses]\n",
    "    mse_5 = [mse[2] for mse in mses]\n",
    "    \n",
    "    # See: https://matplotlib.org/gallery/api/two_scales.html\n",
    "    fig, ax1 = plt.subplots()\n",
    "    ax1.set_xlabel('Beam (BLA#)')\n",
    "    ax1.set_ylabel('Mean Squared Error', color=\"Red\")\n",
    "    ax1.plot(beams, mse_median, 'o', color=\"Red\")\n",
    "    ax1.tick_params(axis='y', labelcolor=\"Red\")\n",
    "    ax1.set_title(title)\n",
    "    \n",
    "    ax2 = ax1.twinx()\n",
    "    \n",
    "    ax2.set_ylabel('Proportion of Samples within 5-95 range', color=\"Blue\")\n",
    "    ax2.plot(beams, probs, 'o', color=\"Blue\")\n",
    "    ax2.tick_params(axis='y', labelcolor=\"Blue\")\n",
    "    ax2.set_ylim((0, 1))\n",
    "    \n",
    "    fig.tight_layout()\n",
    "    plt.show()"
   ],
   "metadata": {
    "collapsed": false,
    "pycharm": {
     "name": "#%%\n",
     "is_executing": false
    }
   }
  },
  {
   "cell_type": "markdown",
   "source": [
    "## Baseline 1: BlaConstantModel\n",
    "\n",
    "This model averages the input for each beam over the training period and predicts that value as constant for each beam.\n",
    "\n",
    "This represents the most naive model, since it assumes independence from the features and labels, and no change in the \n",
    "labels over time.\n",
    "\n",
    "### Train Baseline 1"
   ],
   "metadata": {
    "collapsed": false,
    "pycharm": {
     "name": "#%% md\n"
    }
   }
  },
  {
   "cell_type": "code",
   "execution_count": 10,
   "outputs": [],
   "source": [
    "baseline_1_95 = bla_constant_model.BlaConstantModel()\n",
    "baseline_1_median = bla_constant_model.BlaConstantModel()\n",
    "baseline_1_5 = bla_constant_model.BlaConstantModel()\n",
    "\n",
    "baseline_1_95.train(train_X_median, train_Y_95th)\n",
    "baseline_1_median.train(train_X_median, train_Y_median)\n",
    "baseline_1_5.train(train_X_median, train_Y_5th)\n",
    "\n",
    "baseline_1_pred_95 = [baseline_1_95.predict(validation_X_median, i) for i in range(6)]\n",
    "baseline_1_pred_median = [baseline_1_median.predict(validation_X_median, i) for i in range(6)]\n",
    "baseline_1_pred_5 = [baseline_1_5.predict(validation_X_median, i) for i in range(6)]\n"
   ],
   "metadata": {
    "collapsed": false,
    "pycharm": {
     "name": "#%%\n",
     "is_executing": false
    }
   }
  },
  {
   "cell_type": "markdown",
   "source": [
    "### Validate Baseline 1"
   ],
   "metadata": {
    "collapsed": false,
    "pycharm": {
     "name": "#%% md\n"
    }
   }
  },
  {
   "cell_type": "code",
   "execution_count": 11,
   "outputs": [
    {
     "name": "stdout",
     "text": [
      "[0.29365079365079366, 0.48908730158730157, 0.16865079365079366, 0.4593253968253968, 0.17956349206349206, 0.3551587301587302]\n[[0.04100153235135709, 0.03968943797697977, 0.03916979369385192], [0.03325351905556117, 0.032737996051186706, 0.03259403536950327], [0.20583481665052353, 0.2019187127101355, 0.19648217369521676], [0.02463575687789598, 0.024557669615056645, 0.02440021989144159], [0.12226538748008765, 0.12042371554217239, 0.11951890142433746], [0.06707509619073034, 0.06411105191481811, 0.06235707981190152]]\n"
     ],
     "output_type": "stream"
    }
   ],
   "source": [
    "baseline_1_valid_props = []\n",
    "for i in range(6):\n",
    "    p = prop_within_bounds(validation_Y_median[i], baseline_1_pred_95[i], baseline_1_pred_5[i])\n",
    "    baseline_1_valid_props.append(p)\n",
    "    \n",
    "print(baseline_1_valid_props)\n",
    "\n",
    "baseline_1_valid_mses = []\n",
    "for i in range(6):\n",
    "    mse_95 = mean_squared_error(validation_Y_95th[i], baseline_1_pred_95[i])\n",
    "    mse_median = mean_squared_error(validation_Y_median[i], baseline_1_pred_median[i])\n",
    "    mse_5 = mean_squared_error(validation_Y_5th[i], baseline_1_pred_5[i])\n",
    "    baseline_1_valid_mses.append([mse_95, mse_median, mse_5])\n",
    "    \n",
    "print(baseline_1_valid_mses)"
   ],
   "metadata": {
    "collapsed": false,
    "pycharm": {
     "name": "#%%\n",
     "is_executing": false
    }
   }
  },
  {
   "cell_type": "code",
   "execution_count": 12,
   "outputs": [
    {
     "data": {
      "text/plain": "<Figure size 432x288 with 2 Axes>",
      "image/png": "[encoded data removed]"
     },
     "metadata": {
      "needs_background": "light"
     },
     "output_type": "display_data"
    }
   ],
   "source": [
    "plot_single_test_mse(baseline_1_valid_mses, baseline_1_valid_props, \"Baseline 1: BlaConstantModel\")"
   ],
   "metadata": {
    "collapsed": false,
    "pycharm": {
     "name": "#%%\n",
     "is_executing": false
    }
   }
  },
  {
   "cell_type": "markdown",
   "source": [
    "## Baseline 2: BlaAvgModel\n",
    "This model ignores differences in beams and tries to fit a single model for all beams by averaging the output from all\n",
    "beams into a single \"y\" before fitting.\n",
    "\n",
    "### Train Baseline 2"
   ],
   "metadata": {
    "collapsed": false,
    "pycharm": {
     "name": "#%% md\n"
    }
   }
  },
  {
   "cell_type": "code",
   "execution_count": 13,
   "outputs": [],
   "source": [
    "baseline_2_95 = bla_avg_model.BlaAvgModel()\n",
    "baseline_2_median = bla_avg_model.BlaAvgModel()\n",
    "baseline_2_5 = bla_avg_model.BlaAvgModel()\n",
    "\n",
    "baseline_2_95.train(train_X_median, train_Y_95th)\n",
    "baseline_2_median.train(train_X_median, train_Y_median)\n",
    "baseline_2_5.train(train_X_median, train_Y_5th)\n",
    "\n",
    "baseline_2_pred_95 = baseline_2_95.predict(validation_X_median)\n",
    "baseline_2_pred_median = baseline_2_median.predict(validation_X_median)\n",
    "baseline_2_pred_5 = baseline_2_5.predict(validation_X_median)"
   ],
   "metadata": {
    "collapsed": false,
    "pycharm": {
     "name": "#%%\n",
     "is_executing": false
    }
   }
  },
  {
   "cell_type": "markdown",
   "source": [
    "### Validate Baseline 2"
   ],
   "metadata": {
    "collapsed": false,
    "pycharm": {
     "name": "#%% md\n"
    }
   }
  },
  {
   "cell_type": "code",
   "execution_count": 14,
   "outputs": [
    {
     "name": "stdout",
     "text": [
      "[0.0, 0.003968253968253968, 0.0, 0.0, 0.48412698412698413, 0.0]\n[[17.917874281388542, 17.903196499356756, 17.885447725913064], [0.37534328449633714, 0.33397472133337247, 0.2932857104094249], [0.8108442811206608, 0.7865492445614963, 0.7666409783534232], [13.127652546261425, 13.347176724113346, 13.566118391137895], [0.06090368360365173, 0.06584660454145273, 0.0716879553119346], [0.8651965258850474, 0.8894318047463784, 0.9098997823957509]]\n"
     ],
     "output_type": "stream"
    }
   ],
   "source": [
    "baseline_2_valid_props = []\n",
    "for i in range(6):\n",
    "    p = prop_within_bounds(validation_Y_median[i], baseline_2_pred_95, baseline_2_pred_5)\n",
    "    baseline_2_valid_props.append(p)\n",
    "    \n",
    "print(baseline_2_valid_props)\n",
    "\n",
    "baseline_2_valid_mses = []\n",
    "for i in range(6):\n",
    "    mse_95 = mean_squared_error(validation_Y_95th[i], baseline_2_pred_95)\n",
    "    mse_median = mean_squared_error(validation_Y_median[i], baseline_2_pred_median)\n",
    "    mse_5 = mean_squared_error(validation_Y_5th[i], baseline_2_pred_5)\n",
    "    baseline_2_valid_mses.append([mse_95, mse_median, mse_5])\n",
    "    \n",
    "print(baseline_2_valid_mses)"
   ],
   "metadata": {
    "collapsed": false,
    "pycharm": {
     "name": "#%%\n",
     "is_executing": false
    }
   }
  },
  {
   "cell_type": "code",
   "execution_count": 15,
   "outputs": [
    {
     "data": {
      "text/plain": "<Figure size 432x288 with 2 Axes>",
      "image/png": "[encoded data removed]"
     },
     "metadata": {
      "needs_background": "light"
     },
     "output_type": "display_data"
    }
   ],
   "source": [
    "plot_single_test_mse(baseline_2_valid_mses, baseline_2_valid_props, \"Baseline 2: BlaAvgModel\")"
   ],
   "metadata": {
    "collapsed": false,
    "pycharm": {
     "name": "#%%\n",
     "is_executing": false
    }
   }
  },
  {
   "cell_type": "markdown",
   "source": [
    "## Model 1: Regular Least Squares Regression for Each Beam\n",
    "This model trains a regular least squares model for each beam independently. Parameters for the least squares model are\n",
    "standard, and an intercept is added.\n",
    "\n",
    "### Train Model 1"
   ],
   "metadata": {
    "collapsed": false,
    "pycharm": {
     "name": "#%% md\n"
    }
   }
  },
  {
   "cell_type": "code",
   "execution_count": 16,
   "outputs": [],
   "source": [
    "model_1_95 = bla_linear_model.BlaLinearModel()\n",
    "model_1_median = bla_linear_model.BlaLinearModel()\n",
    "model_1_5 = bla_linear_model.BlaLinearModel()\n",
    "\n",
    "model_1_95.train(train_X_median, train_Y_95th)\n",
    "model_1_median.train(train_X_median, train_Y_median)\n",
    "model_1_5.train(train_X_median, train_Y_5th)\n",
    "\n",
    "model_1_pred_95 = [model_1_95.predict(validation_X_median, i) for i in range(6)]\n",
    "model_1_pred_median = [model_1_median.predict(validation_X_median, i) for i in range(6)]\n",
    "model_1_pred_5 = [model_1_5.predict(validation_X_median, i) for i in range(6)]"
   ],
   "metadata": {
    "collapsed": false,
    "pycharm": {
     "name": "#%%\n",
     "is_executing": false
    }
   }
  },
  {
   "cell_type": "markdown",
   "source": [
    "### Validate Model 1\n"
   ],
   "metadata": {
    "collapsed": false,
    "pycharm": {
     "name": "#%% md\n"
    }
   }
  },
  {
   "cell_type": "code",
   "execution_count": 17,
   "outputs": [
    {
     "name": "stdout",
     "text": [
      "0.8227085812535988\n0.8378943626482579\n0.9386695927483518\n0.8734356839730648\n0.9747853907749309\n0.6818791957487826\n[0.7619047619047619, 0.9384920634920635, 0.7103174603174603, 0.7787698412698413, 0.7946428571428571, 0.5327380952380952]\n[[0.007560184390305111, 0.007019389428110622, 0.00706686507199357], [0.005483954821513822, 0.005303238484332246, 0.006256751984466539], [0.0138936848616692, 0.012381112939426262, 0.012796541801777984], [0.0031482122383472305, 0.0031079554362998508, 0.003502997476806049], [0.003243011846337352, 0.003032645462881817, 0.0031023025964507377], [0.02230699716068331, 0.02039076545016328, 0.019932934713628715]]\n"
     ],
     "output_type": "stream"
    }
   ],
   "source": [
    "model_1_valid_props = []\n",
    "for i in range(6):\n",
    "    p = prop_within_bounds(validation_Y_median[i], model_1_pred_95[i], model_1_pred_5[i])\n",
    "    model_1_valid_props.append(p)\n",
    "    print(model_1_median.models[i].score(validation_X_median, validation_Y_median[i]))\n",
    "    \n",
    "print(model_1_valid_props)\n",
    "\n",
    "model_1_valid_mses = []\n",
    "for i in range(6):\n",
    "    mse_95 = mean_squared_error(validation_Y_95th[i], model_1_pred_95[i])\n",
    "    mse_median = mean_squared_error(validation_Y_median[i], model_1_pred_median[i])\n",
    "    mse_5 = mean_squared_error(validation_Y_5th[i], model_1_pred_5[i])\n",
    "    model_1_valid_mses.append([mse_95, mse_median, mse_5])\n",
    "    \n",
    "print(model_1_valid_mses)"
   ],
   "metadata": {
    "collapsed": false,
    "pycharm": {
     "name": "#%%\n",
     "is_executing": false
    }
   }
  },
  {
   "cell_type": "code",
   "execution_count": 18,
   "outputs": [
    {
     "data": {
      "text/plain": "<Figure size 432x288 with 2 Axes>",
      "image/png": "[encoded data removed]"
     },
     "metadata": {
      "needs_background": "light"
     },
     "output_type": "display_data"
    }
   ],
   "source": [
    "plot_single_test_mse(model_1_valid_mses, model_1_valid_props, \"Model 1: Linear\")"
   ],
   "metadata": {
    "collapsed": false,
    "pycharm": {
     "name": "#%%\n",
     "is_executing": false
    }
   }
  },
  {
   "cell_type": "markdown",
   "source": [
    "## Model 2: Lasso (Linear Regression with L1 Regularization)\n",
    "This model adds a l1 regularization term to the objective function. This has the effect of penalizing nonzero coefficients,\n",
    "which in turn minimizes the number of nonzero coefficients. \n",
    "\n",
    "### Train Model 2"
   ],
   "metadata": {
    "collapsed": false,
    "pycharm": {
     "name": "#%% md\n"
    }
   }
  },
  {
   "cell_type": "code",
   "execution_count": 19,
   "outputs": [],
   "source": [
    "model_2_95 = bla_lasso_model.BlaLassoModel(alpha=1)\n",
    "model_2_median = bla_lasso_model.BlaLassoModel(alpha=1)\n",
    "model_2_5 = bla_lasso_model.BlaLassoModel(alpha=1)\n",
    "\n",
    "model_2_95.train(train_X_median, train_Y_95th)\n",
    "model_2_median.train(train_X_median, train_Y_median)\n",
    "model_2_5.train(train_X_median, train_Y_5th)\n",
    "\n",
    "model_2_pred_95 = [model_2_95.predict(validation_X_median, i) for i in range(6)]\n",
    "model_2_pred_median = [model_2_median.predict(validation_X_median, i) for i in range(6)]\n",
    "model_2_pred_5 = [model_2_5.predict(validation_X_median, i) for i in range(6)]"
   ],
   "metadata": {
    "collapsed": false,
    "pycharm": {
     "name": "#%%\n",
     "is_executing": false
    }
   }
  },
  {
   "cell_type": "markdown",
   "source": [
    "### Validate Model 2"
   ],
   "metadata": {
    "collapsed": false,
    "pycharm": {
     "name": "#%% md\n"
    }
   }
  },
  {
   "cell_type": "code",
   "execution_count": 20,
   "outputs": [
    {
     "name": "stdout",
     "text": [
      "[0.2847222222222222, 0.8313492063492064, 0.26091269841269843, 0.5565476190476191, 0.6448412698412699, 0.37797619047619047]\n[[0.03920736079361383, 0.037673001356192844, 0.03693204189000806], [0.010751400212577589, 0.010716847237964748, 0.011388254755700673], [0.18067994907994095, 0.17673336499552458, 0.17163894724144657], [0.017564070035203317, 0.017554642289619508, 0.01750941759485527], [0.006995986213659089, 0.006724806238604388, 0.006759773756171536], [0.06198821014899883, 0.059211778498514084, 0.05768817474907205]]\n"
     ],
     "output_type": "stream"
    }
   ],
   "source": [
    "model_2_valid_props = []\n",
    "for i in range(6):\n",
    "    p = prop_within_bounds(validation_Y_median[i], model_2_pred_95[i], model_2_pred_5[i])\n",
    "    model_2_valid_props.append(p)\n",
    "    #print(model_2_median.models[i].coef_, model_2_median.models[i].intercept_)\n",
    "    #print(model_2_median.models[i].score(validation_X_median, validation_Y_median[i]))\n",
    "    \n",
    "print(model_2_valid_props)\n",
    "\n",
    "model_2_valid_mses = []\n",
    "for i in range(6):\n",
    "    mse_95 = mean_squared_error(validation_Y_95th[i], model_2_pred_95[i])\n",
    "    mse_median = mean_squared_error(validation_Y_median[i], model_2_pred_median[i])\n",
    "    mse_5 = mean_squared_error(validation_Y_5th[i], model_2_pred_5[i])\n",
    "    model_2_valid_mses.append([mse_95, mse_median, mse_5])\n",
    "    \n",
    "print(model_2_valid_mses)"
   ],
   "metadata": {
    "collapsed": false,
    "pycharm": {
     "name": "#%%\n",
     "is_executing": false
    }
   }
  },
  {
   "cell_type": "code",
   "execution_count": 21,
   "outputs": [
    {
     "data": {
      "text/plain": "<Figure size 432x288 with 2 Axes>",
      "image/png": "[encoded data removed]"
     },
     "metadata": {
      "needs_background": "light"
     },
     "output_type": "display_data"
    }
   ],
   "source": [
    "plot_single_test_mse(model_2_valid_mses, model_2_valid_props, \"Model 2: Lasso\")"
   ],
   "metadata": {
    "collapsed": false,
    "pycharm": {
     "name": "#%%\n",
     "is_executing": false
    }
   }
  },
  {
   "cell_type": "markdown",
   "source": [
    "## Model 3: Kernelized Linear Regression (l2 reg)\n",
    "\n",
    "### Train Model 3"
   ],
   "metadata": {
    "collapsed": false,
    "pycharm": {
     "name": "#%% md\n",
     "is_executing": false
    }
   }
  },
  {
   "cell_type": "code",
   "execution_count": 22,
   "outputs": [],
   "source": [
    "# Configure the kernel:\n",
    "model_3_kernel = 'polynomial'\n",
    "model_3_poly_degree = 3"
   ],
   "metadata": {
    "collapsed": false,
    "pycharm": {
     "name": "#%% \n",
     "is_executing": false
    }
   }
  },
  {
   "cell_type": "code",
   "source": [
    "model_3_95 = bla_kernel_lr_model.BlaKernelLRModel(kernel=model_3_kernel, degree=model_3_poly_degree, alpha=1)\n",
    "model_3_median = bla_kernel_lr_model.BlaKernelLRModel(kernel=model_3_kernel, degree=model_3_poly_degree, alpha=1)\n",
    "model_3_5 = bla_kernel_lr_model.BlaKernelLRModel(kernel=model_3_kernel, degree=model_3_poly_degree, alpha=1)\n",
    "\n",
    "m1_start = time.time()\n",
    "model_3_95.train(train_X_median_ni, train_Y_95th)\n",
    "m2_start = time.time()\n",
    "print(\"Finished Training Model 3 95th in %d seconds\" % (m2_start - m1_start))\n",
    "\n",
    "model_3_median.train(train_X_median_ni, train_Y_median)\n",
    "m3_start = time.time()\n",
    "print(\"Finished Training Model 3 median in %d seconds\" % (m3_start - m2_start))\n",
    "\n",
    "model_3_5.train(train_X_median_ni, train_Y_5th)\n",
    "m3_finish = time.time()\n",
    "print(\"Finished Training Model 3 5th in %d seconds\" % (m3_finish - m3_start))\n",
    "\n",
    "model_3_train_times = [m2_start - m1_start, m3_start - m2_start, m3_finish - m3_start]"
   ],
   "metadata": {
    "collapsed": false,
    "pycharm": {
     "name": "#%%\n",
     "is_executing": false
    }
   },
   "execution_count": 23,
   "outputs": [
    {
     "name": "stdout",
     "text": [
      "Finished Training Model 3 95th in 58 seconds\n",
      "Finished Training Model 3 median in 59 seconds\n",
      "Finished Training Model 3 5th in 57 seconds\n"
     ],
     "output_type": "stream"
    }
   ]
  },
  {
   "cell_type": "code",
   "source": [
    "# split predictions into another cell because train time is so long\n",
    "model_3_pred_95 = [model_3_95.predict(validation_X_median_ni, i) for i in range(6)]\n",
    "model_3_pred_median = [model_3_median.predict(validation_X_median_ni, i) for i in range(6)]\n",
    "model_3_pred_5 = [model_3_5.predict(validation_X_median_ni, i) for i in range(6)]"
   ],
   "metadata": {
    "collapsed": false,
    "pycharm": {
     "name": "#%%\n",
     "is_executing": false
    }
   },
   "execution_count": 24,
   "outputs": []
  },
  {
   "cell_type": "markdown",
   "source": [
    "### Validate Model 3"
   ],
   "metadata": {
    "collapsed": false,
    "pycharm": {
     "name": "#%% md\n",
     "is_executing": true
    }
   }
  },
  {
   "cell_type": "code",
   "source": [
    "model_3_valid_props = []\n",
    "for i in range(6):\n",
    "    p = prop_within_bounds(validation_Y_median[i], model_3_pred_95[i], model_3_pred_5[i])\n",
    "    model_3_valid_props.append(p)\n",
    "    #print(model_2_median.models[i].coef_, model_2_median.models[i].intercept_)\n",
    "    #print(model_2_median.models[i].score(validation_X_median, validation_Y_median[i]))\n",
    "    \n",
    "print(model_3_valid_props)\n",
    "\n",
    "model_3_valid_mses = []\n",
    "for i in range(6):\n",
    "    mse_95 = mean_squared_error(validation_Y_95th[i], model_3_pred_95[i])\n",
    "    mse_median = mean_squared_error(validation_Y_median[i], model_3_pred_median[i])\n",
    "    mse_5 = mean_squared_error(validation_Y_5th[i], model_3_pred_5[i])\n",
    "    model_3_valid_mses.append([mse_95, mse_median, mse_5])\n",
    "    \n",
    "print(model_3_valid_mses)"
   ],
   "metadata": {
    "collapsed": false,
    "pycharm": {
     "name": "#%%\n",
     "is_executing": false
    }
   },
   "execution_count": 25,
   "outputs": [
    {
     "name": "stdout",
     "text": [
      "[0.8323412698412699, 0.9186507936507936, 0.7946428571428571, 0.7648809523809523, 0.7242063492063492, 0.6944444444444444]\n[[0.006048477744485764, 0.005508707637744517, 0.005791718840072239], [0.005914636226695065, 0.005706985866851017, 0.006710669453988443], [0.009752735448774147, 0.008690150625108837, 0.008936156467909141], [0.003238318638674653, 0.0031548528562226797, 0.003435824549169629], [0.004737382213025883, 0.004456089981894705, 0.00467413299558432], [0.012662538019824846, 0.011423016737231912, 0.011393573482579735]]\n"
     ],
     "output_type": "stream"
    }
   ]
  },
  {
   "cell_type": "code",
   "source": [
    "plot_single_test_mse(model_3_valid_mses, model_3_valid_props, \"Model 3: KLR (l2 reg)\")"
   ],
   "metadata": {
    "collapsed": false,
    "pycharm": {
     "name": "#%%\n",
     "is_executing": false
    }
   },
   "execution_count": 26,
   "outputs": [
    {
     "data": {
      "text/plain": "<Figure size 432x288 with 2 Axes>",
      "image/png": "[encoded data removed]"
     },
     "metadata": {
      "needs_background": "light"
     },
     "output_type": "display_data"
    }
   ]
  },
  {
   "cell_type": "markdown",
   "source": [
    "## Model 4: Kernelized Linear Regression (with L2 reg)\n",
    "\n",
    "### Train Model 4"
   ],
   "metadata": {
    "collapsed": false,
    "pycharm": {
     "name": "#%% md\n"
    }
   }
  },
  {
   "cell_type": "code",
   "execution_count": 27,
   "outputs": [],
   "source": [
    "# Configure the kernel:\n",
    "model_4_kernel = 'polynomial'\n",
    "model_4_poly_degree = 5"
   ],
   "metadata": {
    "collapsed": false,
    "pycharm": {
     "name": "#%% \n",
     "is_executing": false
    }
   }
  },
  {
   "cell_type": "code",
   "execution_count": 28,
   "outputs": [
    {
     "name": "stdout",
     "text": [
      "Finished Training Model 4 95th in 57 seconds\n",
      "Finished Training Model 4 median in 57 seconds\n",
      "Finished Training Model 4 5th in 57 seconds\n"
     ],
     "output_type": "stream"
    }
   ],
   "source": [
    "model_4_95 = bla_kernel_lr_model.BlaKernelLRModel(kernel=model_4_kernel, degree=model_4_poly_degree, alpha=1)\n",
    "model_4_median = bla_kernel_lr_model.BlaKernelLRModel(kernel=model_4_kernel, degree=model_4_poly_degree, alpha=1)\n",
    "model_4_5 = bla_kernel_lr_model.BlaKernelLRModel(kernel=model_4_kernel, degree=model_4_poly_degree, alpha=1)\n",
    "\n",
    "m1_start = time.time()\n",
    "model_4_95.train(train_X_median_ni, train_Y_95th)\n",
    "m2_start = time.time()\n",
    "print(\"Finished Training Model 4 95th in %d seconds\" % (m2_start - m1_start))\n",
    "\n",
    "model_4_median.train(train_X_median_ni, train_Y_median)\n",
    "m3_start = time.time()\n",
    "print(\"Finished Training Model 4 median in %d seconds\" % (m3_start - m2_start))\n",
    "\n",
    "model_4_5.train(train_X_median_ni, train_Y_5th)\n",
    "m3_finish = time.time()\n",
    "print(\"Finished Training Model 4 5th in %d seconds\" % (m3_finish - m3_start))\n",
    "\n",
    "model_3_train_times = [m2_start - m1_start, m3_start - m2_start, m3_finish - m3_start]"
   ],
   "metadata": {
    "collapsed": false,
    "pycharm": {
     "name": "#%%\n",
     "is_executing": false
    }
   }
  },
  {
   "cell_type": "code",
   "execution_count": 29,
   "outputs": [],
   "source": [
    "# split predictions into another cell because train time is so long\n",
    "model_4_pred_95 = [model_4_95.predict(validation_X_median_ni, i) for i in range(6)]\n",
    "model_4_pred_median = [model_4_median.predict(validation_X_median_ni, i) for i in range(6)]\n",
    "model_4_pred_5 = [model_4_5.predict(validation_X_median_ni, i) for i in range(6)]"
   ],
   "metadata": {
    "collapsed": false,
    "pycharm": {
     "name": "#%%\n",
     "is_executing": false
    }
   }
  },
  {
   "cell_type": "markdown",
   "source": [
    "### Validate Model 4"
   ],
   "metadata": {
    "collapsed": false
   }
  },
  {
   "cell_type": "code",
   "execution_count": 30,
   "outputs": [
    {
     "name": "stdout",
     "text": [
      "[0.878968253968254, 0.9444444444444444, 0.8680555555555556, 0.7579365079365079, 0.7708333333333334, 0.8075396825396826]\n[[0.004765157340138933, 0.004126005154053491, 0.004393706738405868], [0.005424751011077886, 0.0048378407814388775, 0.005808608241998534], [0.006657356084386204, 0.005726157973401295, 0.005901476412357419], [0.0036772296583498934, 0.0035779040509737355, 0.003992150099384987], [0.004054320565912785, 0.0038222871374747674, 0.004020691118985948], [0.008781189450798798, 0.007228703175934476, 0.007145307491227]]\n"
     ],
     "output_type": "stream"
    }
   ],
   "source": [
    "model_4_valid_props = []\n",
    "for i in range(6):\n",
    "    p = prop_within_bounds(validation_Y_median[i], model_4_pred_95[i], model_4_pred_5[i])\n",
    "    model_4_valid_props.append(p)\n",
    "    #print(model_2_median.models[i].coef_, model_2_median.models[i].intercept_)\n",
    "    #print(model_2_median.models[i].score(validation_X_median, validation_Y_median[i]))\n",
    "    \n",
    "print(model_4_valid_props)\n",
    "\n",
    "model_4_valid_mses = []\n",
    "for i in range(6):\n",
    "    mse_95 = mean_squared_error(validation_Y_95th[i], model_4_pred_95[i])\n",
    "    mse_median = mean_squared_error(validation_Y_median[i], model_4_pred_median[i])\n",
    "    mse_5 = mean_squared_error(validation_Y_5th[i], model_4_pred_5[i])\n",
    "    model_4_valid_mses.append([mse_95, mse_median, mse_5])\n",
    "    \n",
    "print(model_4_valid_mses)"
   ],
   "metadata": {
    "collapsed": false,
    "pycharm": {
     "name": "#%%\n",
     "is_executing": false
    }
   }
  },
  {
   "cell_type": "code",
   "execution_count": 31,
   "outputs": [
    {
     "data": {
      "text/plain": "<Figure size 432x288 with 2 Axes>",
      "image/png": "[encoded data removed]"
     },
     "metadata": {
      "needs_background": "light"
     },
     "output_type": "display_data"
    }
   ],
   "source": [
    "plot_single_test_mse(model_4_valid_mses, model_4_valid_props, \"Model 4: KLR (l2 reg)\")"
   ],
   "metadata": {
    "collapsed": false,
    "pycharm": {
     "name": "#%%\n",
     "is_executing": false
    }
   }
  },
  {
   "cell_type": "markdown",
   "source": [
    "## Evaluate Models on Test Set\n",
    "\n",
    "### Configure Test Set"
   ],
   "metadata": {
    "collapsed": false,
    "pycharm": {
     "name": "#%% md\n",
     "is_executing": true
    }
   }
  },
  {
   "cell_type": "code",
   "execution_count": 32,
   "outputs": [],
   "source": [
    "# split test set into a set of np arrays that can be more readily used to generate model predictions\n",
    "test_X_95th, test_X_median, test_X_5th = utils.split_X_into_quantiles(test, accept_index=True)\n",
    "test_Y_95th, test_Y_median, test_Y_5th = utils.split_Y_into_beams_and_quantiles(test)\n"
   ],
   "metadata": {
    "collapsed": false,
    "pycharm": {
     "name": "#%%\n",
     "is_executing": false
    }
   }
  },
  {
   "cell_type": "code",
   "execution_count": 33,
   "outputs": [],
   "source": [
    "test_X_95th_ni, test_X_median_ni, test_X_5th_ni = utils.split_X_into_quantiles(test, accept_index=False)\n",
    "\n",
    "# apply PCA to the test X set\n",
    "test_X_median_ni = model_pca.transform(test_X_median_ni)"
   ],
   "metadata": {
    "collapsed": false,
    "pycharm": {
     "name": "#%% create a test set without an index column and run PCA on it for our kernelized ridge regression models\n",
     "is_executing": false
    }
   }
  },
  {
   "cell_type": "markdown",
   "source": [
    "### Generate Test Predictions for Each Model"
   ],
   "metadata": {
    "collapsed": false,
    "pycharm": {
     "name": "#%% md\n"
    }
   }
  },
  {
   "cell_type": "markdown",
   "source": [
    "#### Baseline 1"
   ],
   "metadata": {
    "collapsed": false,
    "pycharm": {
     "name": "#%% md\n"
    }
   }
  },
  {
   "cell_type": "code",
   "execution_count": 34,
   "outputs": [
    {
     "name": "stdout",
     "text": [
      "[0.030975008799718408, 0.609644491376276, 0.0, 0.11967617036254839, 0.0, 0.5550862372404083]\n[[0.12527417124839252, 0.1266963405681428, 0.12503246296320836], [0.01935091887690805, 0.01993675723862415, 0.02090218396419326], [0.303134609886603, 0.30334697917956394, 0.30081447131313366], [0.05250169385387371, 0.052152420033826086, 0.05179024404579341], [0.5226409435027969, 0.5183990846882985, 0.5161632541438678], [0.02518892034953603, 0.02275800105600423, 0.02206681751683322]]\n"
     ],
     "output_type": "stream"
    }
   ],
   "source": [
    "baseline_1_test_95 = [baseline_1_95.predict(test_X_median, i) for i in range(6)]\n",
    "baseline_1_test_median = [baseline_1_median.predict(test_X_median, i) for i in range(6)]\n",
    "baseline_1_test_5 = [baseline_1_5.predict(test_X_median, i) for i in range(6)]\n",
    "\n",
    "baseline_1_test_props = []\n",
    "for i in range(6):\n",
    "    p = prop_within_bounds(test_Y_median[i], baseline_1_test_95[i], baseline_1_test_5[i])\n",
    "    baseline_1_test_props.append(p)\n",
    "    \n",
    "print(baseline_1_test_props)\n",
    "\n",
    "baseline_1_test_mses = []\n",
    "for i in range(6):\n",
    "    mse_95 = mean_squared_error(test_Y_95th[i], baseline_1_test_95[i])\n",
    "    mse_median = mean_squared_error(test_Y_median[i], baseline_1_test_median[i])\n",
    "    mse_5 = mean_squared_error(test_Y_5th[i], baseline_1_test_5[i])\n",
    "    baseline_1_test_mses.append([mse_95, mse_median, mse_5])\n",
    "    \n",
    "print(baseline_1_test_mses)"
   ],
   "metadata": {
    "collapsed": false,
    "pycharm": {
     "name": "#%%\n",
     "is_executing": false
    }
   }
  },
  {
   "cell_type": "markdown",
   "source": [
    "#### Baseline 2"
   ],
   "metadata": {
    "collapsed": false,
    "pycharm": {
     "name": "#%% md\n"
    }
   }
  },
  {
   "cell_type": "code",
   "execution_count": 35,
   "outputs": [
    {
     "name": "stdout",
     "text": [
      "[0.0, 0.0, 0.0, 0.0, 0.08870116156282999, 0.00035198873636043646]\n[[17.21923278593234, 17.298685199784195, 17.29554926022147], [0.9728204919391563, 0.8944363456795417, 0.8274254245111027], [0.53669600348948, 0.49895064754036594, 0.48471437443605153], [14.62628491389653, 14.812291867730542, 15.041241544397108], [0.06029970045933533, 0.05084163440139371, 0.04149764586577775], [0.3506123963479451, 0.36498135164785594, 0.37317615511903274]]\n"
     ],
     "output_type": "stream"
    }
   ],
   "source": [
    "baseline_2_test_95 = baseline_2_95.predict(test_X_median)\n",
    "baseline_2_test_median = baseline_2_median.predict(test_X_median)\n",
    "baseline_2_test_5 = baseline_2_5.predict(test_X_median)\n",
    "\n",
    "baseline_2_test_props = []\n",
    "for i in range(6):\n",
    "    p = prop_within_bounds(test_Y_median[i], baseline_2_test_95, baseline_2_test_5)\n",
    "    baseline_2_test_props.append(p)\n",
    "    \n",
    "print(baseline_2_test_props)\n",
    "\n",
    "baseline_2_test_mses = []\n",
    "for i in range(6):\n",
    "    mse_95 = mean_squared_error(test_Y_95th[i], baseline_2_test_95)\n",
    "    mse_median = mean_squared_error(test_Y_median[i], baseline_2_test_median)\n",
    "    mse_5 = mean_squared_error(test_Y_5th[i], baseline_2_test_5)\n",
    "    baseline_2_test_mses.append([mse_95, mse_median, mse_5])\n",
    "    \n",
    "print(baseline_2_test_mses)"
   ],
   "metadata": {
    "collapsed": false,
    "pycharm": {
     "name": "#%%\n",
     "is_executing": false
    }
   }
  },
  {
   "cell_type": "markdown",
   "source": [
    "#### Model 1"
   ],
   "metadata": {
    "collapsed": false,
    "pycharm": {
     "name": "#%% md\n"
    }
   }
  },
  {
   "cell_type": "code",
   "execution_count": 36,
   "outputs": [
    {
     "name": "stdout",
     "text": [
      "[0.18373812038014783, 0.4720168954593453, 0.17423442449841606, 0.24463217177050334, 0.5279831045406547, 0.08518127419922562]\n[[0.04729801419703223, 0.04860920996009702, 0.04772353849956562], [0.036207957305906834, 0.03151604623958629, 0.0348676467683971], [0.05504785097450638, 0.04755759270045126, 0.04373951229388772], [0.016748847587680478, 0.016746202276332035, 0.01642021306794204], [0.007070447472310835, 0.006505690757557603, 0.006703217145709906], [0.08572229112310899, 0.08549638576259297, 0.08590374752978261]]\n"
     ],
     "output_type": "stream"
    }
   ],
   "source": [
    "model_1_test_95 = [model_1_95.predict(test_X_median, i) for i in range(6)]\n",
    "model_1_test_median = [model_1_median.predict(test_X_median, i) for i in range(6)]\n",
    "model_1_test_5 = [model_1_5.predict(test_X_median, i) for i in range(6)]\n",
    "\n",
    "model_1_test_props = []\n",
    "for i in range(6):\n",
    "    p = prop_within_bounds(test_Y_median[i], model_1_test_95[i], model_1_test_5[i])\n",
    "    model_1_test_props.append(p)\n",
    "    \n",
    "print(model_1_test_props)\n",
    "\n",
    "model_1_test_mses = []\n",
    "for i in range(6):\n",
    "    mse_95 = mean_squared_error(test_Y_95th[i], model_1_test_95[i])\n",
    "    mse_median = mean_squared_error(test_Y_median[i], model_1_test_median[i])\n",
    "    mse_5 = mean_squared_error(test_Y_5th[i], model_1_test_5[i])\n",
    "    model_1_test_mses.append([mse_95, mse_median, mse_5])\n",
    "    \n",
    "print(model_1_test_mses)"
   ],
   "metadata": {
    "collapsed": false,
    "pycharm": {
     "name": "#%%\n",
     "is_executing": false
    }
   }
  },
  {
   "cell_type": "markdown",
   "source": [
    "#### Model 2"
   ],
   "metadata": {
    "collapsed": false
   }
  },
  {
   "cell_type": "code",
   "execution_count": 37,
   "outputs": [
    {
     "name": "stdout",
     "text": [
      "[0.14783526927138332, 0.22844068989792327, 0.28511087645195354, 0.5022879267863428, 0.5994368180218232, 0.38085181274199226]\n[[0.054391311496128025, 0.054866609687591064, 0.05222629006612415], [0.11381424895052603, 0.1145226163729687, 0.1152289694942447], [0.04317473831361818, 0.041835910822385906, 0.04240071085485167], [0.00763328503994929, 0.007502666948604865, 0.0074949019124690265], [0.00645594685139476, 0.006236924036895681, 0.006475223222082982], [0.02860896081661459, 0.027024271158166812, 0.02739176443669365]]",
      "\n"
     ],
     "output_type": "stream"
    }
   ],
   "source": [
    "model_2_test_95 = [model_2_95.predict(test_X_median, i) for i in range(6)]\n",
    "model_2_test_median = [model_2_median.predict(test_X_median, i) for i in range(6)]\n",
    "model_2_test_5 = [model_2_5.predict(test_X_median, i) for i in range(6)]\n",
    "\n",
    "model_2_test_props = []\n",
    "for i in range(6):\n",
    "    p = prop_within_bounds(test_Y_median[i], model_2_test_95[i], model_2_test_5[i])\n",
    "    model_2_test_props.append(p)\n",
    "    # note to reader - the last item in each cofficient vector is the time index\n",
    "    #print(model_2_median.models[i].coef_, model_2_median.models[i].intercept_)\n",
    "    #print(model_2_median.models[i].score(validation_X_median, validation_Y_median[i]))\n",
    "    \n",
    "print(model_2_test_props)\n",
    "\n",
    "model_2_test_mses = []\n",
    "for i in range(6):\n",
    "    mse_95 = mean_squared_error(test_Y_95th[i], model_2_test_95[i])\n",
    "    mse_median = mean_squared_error(test_Y_median[i], model_2_test_median[i])\n",
    "    mse_5 = mean_squared_error(test_Y_5th[i], model_2_test_5[i])\n",
    "    model_2_test_mses.append([mse_95, mse_median, mse_5])\n",
    "    \n",
    "print(model_2_test_mses)"
   ],
   "metadata": {
    "collapsed": false,
    "pycharm": {
     "name": "#%%\n",
     "is_executing": false
    }
   }
  },
  {
   "cell_type": "markdown",
   "source": [
    "#### Model 3"
   ],
   "metadata": {
    "collapsed": false
   }
  },
  {
   "cell_type": "code",
   "execution_count": 38,
   "outputs": [
    {
     "name": "stdout",
     "text": [
      "[0.1823301654347061, 0.4625131995776135, 0.3139739528335093, 0.32101372756071805, 0.036606828581485396, 0.26117564237944385]\n[[0.07998174405709835, 0.07989436237289385, 0.07999547523581604], [0.04389338068068553, 0.04450788550327294, 0.04714375761882697], [0.07708357988993086, 0.07491214472831087, 0.07205621010504848], [0.014116012871421188, 0.014221547729189599, 0.014089048722484418], [0.15468197066621472, 0.15183965477247602, 0.14429304098921655], [0.17369504834368785, 0.1805333752296377, 0.17970308430837598]]\n"
     ],
     "output_type": "stream"
    }
   ],
   "source": [
    "# split predictions into another cell because train time is so long\n",
    "model_3_test_95 = [model_3_95.predict(test_X_median_ni, i) for i in range(6)]\n",
    "model_3_test_median = [model_3_median.predict(test_X_median_ni, i) for i in range(6)]\n",
    "model_3_test_5 = [model_3_5.predict(test_X_median_ni, i) for i in range(6)]\n",
    "\n",
    "model_3_test_props = []\n",
    "for i in range(6):\n",
    "    p = prop_within_bounds(test_Y_median[i], model_3_test_95[i], model_3_test_5[i])\n",
    "    model_3_test_props.append(p)\n",
    "    #print(model_2_median.models[i].coef_, model_2_median.models[i].intercept_)\n",
    "    #print(model_2_median.models[i].score(validation_X_median, validation_Y_median[i]))\n",
    "    \n",
    "print(model_3_test_props)\n",
    "\n",
    "model_3_test_mses = []\n",
    "for i in range(6):\n",
    "    mse_95 = mean_squared_error(test_Y_95th[i], model_3_test_95[i])\n",
    "    mse_median = mean_squared_error(test_Y_median[i], model_3_test_median[i])\n",
    "    mse_5 = mean_squared_error(test_Y_5th[i], model_3_test_5[i])\n",
    "    model_3_test_mses.append([mse_95, mse_median, mse_5])\n",
    "    \n",
    "print(model_3_test_mses)"
   ],
   "metadata": {
    "collapsed": false,
    "pycharm": {
     "name": "#%%\n",
     "is_executing": false
    }
   }
  },
  {
   "cell_type": "markdown",
   "source": [
    "#### Model 4"
   ],
   "metadata": {
    "collapsed": false,
    "pycharm": {
     "name": "#%% md\n",
     "is_executing": true
    }
   }
  },
  {
   "cell_type": "code",
   "execution_count": 39,
   "outputs": [
    {
     "name": "stdout",
     "text": [
      "[0.07743752199929602, 0.37873988032382966, 0.1999296022527279, 0.1640267511439634, 0.12953185498064063, 0.2692713833157339]\n[[0.10596638455118658, 0.09533800020703015, 0.09402545528350263], [0.2258337116235931, 0.1867995768855628, 0.19277166005934918], [0.2558380020965447, 0.23705679632117813, 0.18866412034733415], [0.11665569924163485, 0.11815732164712286, 0.11435383699333419], [0.20088401401000786, 0.20058169899384984, 0.18013744446652472], [0.14287620958151082, 0.1593199879904814, 0.15749409332284717]]\n"
     ],
     "output_type": "stream"
    }
   ],
   "source": [
    "model_4_test_95 = [model_4_95.predict(test_X_median_ni, i) for i in range(6)]\n",
    "model_4_test_median = [model_4_median.predict(test_X_median_ni, i) for i in range(6)]\n",
    "model_4_test_5 = [model_4_5.predict(test_X_median_ni, i) for i in range(6)]\n",
    "\n",
    "model_4_test_props = []\n",
    "for i in range(6):\n",
    "    p = prop_within_bounds(test_Y_median[i], model_4_test_95[i], model_4_test_5[i])\n",
    "    model_4_test_props.append(p)\n",
    "    #print(model_2_median.models[i].coef_, model_2_median.models[i].intercept_)\n",
    "    #print(model_2_median.models[i].score(validation_X_median, validation_Y_median[i]))\n",
    "    \n",
    "print(model_4_test_props)\n",
    "\n",
    "model_4_test_mses = []\n",
    "for i in range(6):\n",
    "    mse_95 = mean_squared_error(test_Y_95th[i], model_4_test_95[i])\n",
    "    mse_median = mean_squared_error(test_Y_median[i], model_4_test_median[i])\n",
    "    mse_5 = mean_squared_error(test_Y_5th[i], model_4_test_5[i])\n",
    "    model_4_test_mses.append([mse_95, mse_median, mse_5])\n",
    "    \n",
    "print(model_4_test_mses)"
   ],
   "metadata": {
    "collapsed": false,
    "pycharm": {
     "name": "#%%\n",
     "is_executing": false
    }
   }
  },
  {
   "cell_type": "code",
   "execution_count": 40,
   "outputs": [],
   "source": [
    "# compute training MSEs\n",
    "# 95th percentile mses\n",
    "baseline_1_test_95_mse = [mse[0] for mse in baseline_1_test_mses]\n",
    "baseline_2_test_95_mse = [mse[0] for mse in baseline_2_test_mses]\n",
    "model_1_test_95_mse = [mse[0] for mse in model_1_test_mses]\n",
    "model_2_test_95_mse = [mse[0] for mse in model_2_test_mses]\n",
    "model_3_test_95_mse = [mse[0] for mse in model_3_test_mses]\n",
    "model_4_test_95_mse = [mse[0] for mse in model_4_test_mses]\n",
    "\n",
    "# median mses\n",
    "baseline_1_test_median_mse = [mse[1] for mse in baseline_1_test_mses]\n",
    "baseline_2_test_median_mse = [mse[1] for mse in baseline_2_test_mses]\n",
    "model_1_test_median_mse = [mse[1] for mse in model_1_test_mses]\n",
    "model_2_test_median_mse = [mse[1] for mse in model_2_test_mses]\n",
    "model_3_test_median_mse = [mse[1] for mse in model_3_test_mses]\n",
    "model_4_test_median_mse = [mse[1] for mse in model_4_test_mses]\n",
    "\n",
    "# 5th percentile mses\n",
    "baseline_1_test_5_mse = [mse[2] for mse in baseline_1_test_mses]\n",
    "baseline_2_test_5_mse = [mse[2] for mse in baseline_2_test_mses]\n",
    "model_1_test_5_mse = [mse[2] for mse in model_1_test_mses]\n",
    "model_2_test_5_mse = [mse[2] for mse in model_2_test_mses]\n",
    "model_3_test_5_mse = [mse[2] for mse in model_3_test_mses]\n",
    "model_4_test_5_mse = [mse[2] for mse in model_4_test_mses]"
   ],
   "metadata": {
    "collapsed": false,
    "pycharm": {
     "name": "#%%\n",
     "is_executing": false
    }
   }
  },
  {
   "cell_type": "code",
   "execution_count": 41,
   "outputs": [],
   "source": [
    "# compute validation MSEs\n",
    "# 95th percentile mses\n",
    "baseline_1_valid_95_mse = [mse[0] for mse in baseline_1_valid_mses]\n",
    "baseline_2_valid_95_mse = [mse[0] for mse in baseline_2_valid_mses]\n",
    "model_1_valid_95_mse = [mse[0] for mse in model_1_valid_mses]\n",
    "model_2_valid_95_mse = [mse[0] for mse in model_2_valid_mses]\n",
    "model_3_valid_95_mse = [mse[0] for mse in model_3_valid_mses]\n",
    "model_4_valid_95_mse = [mse[0] for mse in model_4_valid_mses]\n",
    "\n",
    "# median mses\n",
    "baseline_1_valid_median_mse = [mse[1] for mse in baseline_1_valid_mses]\n",
    "baseline_2_valid_median_mse = [mse[1] for mse in baseline_2_valid_mses]\n",
    "model_1_valid_median_mse = [mse[1] for mse in model_1_valid_mses]\n",
    "model_2_valid_median_mse = [mse[1] for mse in model_2_valid_mses]\n",
    "model_3_valid_median_mse = [mse[1] for mse in model_3_valid_mses]\n",
    "model_4_valid_median_mse = [mse[1] for mse in model_4_valid_mses]\n",
    "\n",
    "# 5th percentile mses\n",
    "baseline_1_valid_5_mse = [mse[2] for mse in baseline_1_valid_mses]\n",
    "baseline_2_valid_5_mse = [mse[2] for mse in baseline_2_valid_mses]\n",
    "model_1_valid_5_mse = [mse[2] for mse in model_1_valid_mses]\n",
    "model_2_valid_5_mse = [mse[2] for mse in model_2_valid_mses]\n",
    "model_3_valid_5_mse = [mse[2] for mse in model_3_valid_mses]\n",
    "model_4_valid_5_mse = [mse[2] for mse in model_4_valid_mses]"
   ],
   "metadata": {
    "collapsed": false,
    "pycharm": {
     "name": "#%%\n",
     "is_executing": false
    }
   }
  },
  {
   "cell_type": "code",
   "execution_count": 42,
   "outputs": [
    {
     "data": {
      "text/plain": "<Figure size 864x288 with 3 Axes>",
      "image/png": "[encoded data removed]"
     },
     "metadata": {
      "needs_background": "light"
     },
     "output_type": "display_data"
    }
   ],
   "source": [
    "beams = list(range(1, 7))\n",
    "\n",
    "fig, (ax1, ax2, ax3) = plt.subplots(1, 3, figsize=(12, 4))\n",
    "ax1.set_xlabel('Beam Output (BLA#)')\n",
    "ax1.set_ylabel('Mean Squared Error (log)')\n",
    "\n",
    "# plot test mses\n",
    "ax1.plot(beams, baseline_1_test_95_mse, 'o-', color=\"Red\", label=\"Baseline 1\")\n",
    "ax1.plot(beams, baseline_2_test_95_mse, 'o-', color=\"Orange\", label=\"Baseline 2\")\n",
    "ax1.plot(beams, model_1_test_95_mse, 'o-', color=\"Yellow\", label=\"Model 1\")\n",
    "ax1.plot(beams, model_2_test_95_mse, 'o-', color=\"Green\", label=\"Model 2\")\n",
    "ax1.plot(beams, model_3_test_95_mse, 'o-', color=\"Blue\", label=\"Model 3\")\n",
    "ax1.plot(beams, model_4_test_95_mse, 'o-', color=\"Purple\", label=\"Model 4\")\n",
    "\n",
    "# plot validation mses\n",
    "ax1.plot(beams, baseline_1_valid_95_mse, 'x-', color=\"Red\", label=\"Baseline 1\")\n",
    "ax1.plot(beams, baseline_2_valid_95_mse, 'x-', color=\"Orange\", label=\"Baseline 2\")\n",
    "ax1.plot(beams, model_1_valid_95_mse, 'x-', color=\"Yellow\", label=\"Model 1\")\n",
    "ax1.plot(beams, model_2_valid_95_mse, 'x-', color=\"Green\", label=\"Model 2\")\n",
    "ax1.plot(beams, model_3_valid_95_mse, 'x-', color=\"Blue\", label=\"Model 3\")\n",
    "ax1.plot(beams, model_4_valid_95_mse, 'x-', color=\"Purple\", label=\"Model 4\")\n",
    "ax1.set_yscale(\"log\")\n",
    "\n",
    "ax1.set_title(\"MSE in 95th Percentile Predictions\")\n",
    "\n",
    "ax2.set_xlabel('Beam Output (BLA#)')\n",
    "ax2.set_ylabel('Mean Squared Error (log)')\n",
    "\n",
    "# plot test mses\n",
    "ax2.plot(beams, baseline_1_test_median_mse, 'o-', color=\"Red\", label=\"Baseline 1\")\n",
    "ax2.plot(beams, baseline_2_test_median_mse, 'o-', color=\"Orange\", label=\"Baseline 2\")\n",
    "ax2.plot(beams, model_1_test_median_mse, 'o-', color=\"Yellow\", label=\"Model 1\")\n",
    "ax2.plot(beams, model_2_test_median_mse, 'o-', color=\"Green\", label=\"Model 2\")\n",
    "ax2.plot(beams, model_3_test_median_mse, 'o-', color=\"Blue\", label=\"Model 3\")\n",
    "ax2.plot(beams, model_4_test_median_mse, 'o-', color=\"Purple\", label=\"Model 4\")\n",
    "\n",
    "# plot validation mses\n",
    "ax2.plot(beams, baseline_1_valid_median_mse, 'x-', color=\"Red\", label=\"Baseline 1\")\n",
    "ax2.plot(beams, baseline_2_valid_median_mse, 'x-', color=\"Orange\", label=\"Baseline 2\")\n",
    "ax2.plot(beams, model_1_valid_median_mse, 'x-', color=\"Yellow\", label=\"Model 1\")\n",
    "ax2.plot(beams, model_2_valid_median_mse, 'x-', color=\"Green\", label=\"Model 2\")\n",
    "ax2.plot(beams, model_3_valid_median_mse, 'x-', color=\"Blue\", label=\"Model 3\")\n",
    "ax2.plot(beams, model_4_valid_median_mse, 'x-', color=\"Purple\", label=\"Model 4\")\n",
    "\n",
    "ax2.set_yscale(\"log\")\n",
    "ax2.set_title(\"MSE in Median Predictions\")\n",
    "\n",
    "ax3.set_xlabel('Beam Output (BLA#)')\n",
    "ax3.set_ylabel('Mean Squared Error (log)')\n",
    "\n",
    "# plot test mses\n",
    "ax3.plot(beams, baseline_1_test_5_mse, 'o-', color=\"Red\", label=\"Baseline 1\")\n",
    "ax3.plot(beams, baseline_2_test_5_mse, 'o-', color=\"Orange\", label=\"Baseline 2\")\n",
    "ax3.plot(beams, model_1_test_5_mse, 'o-', color=\"Yellow\", label=\"Model 1\")\n",
    "ax3.plot(beams, model_2_test_5_mse, 'o-', color=\"Green\", label=\"Model 2\")\n",
    "ax3.plot(beams, model_3_test_5_mse, 'o-', color=\"Blue\", label=\"Model 3\")\n",
    "ax3.plot(beams, model_4_test_5_mse, 'o-', color=\"Purple\", label=\"Model 4\")\n",
    "\n",
    "# plot validation mses\n",
    "ax3.plot(beams, baseline_1_valid_5_mse, 'x-', color=\"Red\", label=\"Baseline 1\")\n",
    "ax3.plot(beams, baseline_2_valid_5_mse, 'x-', color=\"Orange\", label=\"Baseline 2\")\n",
    "ax3.plot(beams, model_1_valid_5_mse, 'x-', color=\"Yellow\", label=\"Model 1\")\n",
    "ax3.plot(beams, model_2_valid_5_mse, 'x-', color=\"Green\", label=\"Model 2\")\n",
    "ax3.plot(beams, model_3_valid_5_mse, 'x-', color=\"Blue\", label=\"Model 3\")\n",
    "ax3.plot(beams, model_4_valid_5_mse, 'x-', color=\"Purple\", label=\"Model 4\")\n",
    "\n",
    "ax3.set_yscale(\"log\")\n",
    "ax3.set_title(\"MSE in 5th Percentile Predictions\")\n",
    "\n",
    "handles, labels = ax3.get_legend_handles_labels()\n",
    "fig.legend(handles, labels, bbox_to_anchor=(1.0, 1.0), loc='upper left')\n",
    "fig.suptitle(\"Mean Squared Error for Test Predictions\", y = 1.05)\n",
    "fig.tight_layout()\n",
    "plt.show()"
   ],
   "metadata": {
    "collapsed": false,
    "pycharm": {
     "name": "#%%\n",
     "is_executing": false
    }
   }
  }
 ],
 "metadata": {
  "kernelspec": {
   "display_name": "Python 3",
   "language": "python",
   "name": "python3"
  },
  "language_info": {
   "codemirror_mode": {
    "name": "ipython",
    "version": 2
   },
   "file_extension": ".py",
   "mimetype": "text/x-python",
   "name": "python",
   "nbconvert_exporter": "python",
   "pygments_lexer": "ipython2",
   "version": "2.7.6"
  },
  "pycharm": {
   "stem_cell": {
    "cell_type": "raw",
    "source": [],
    "metadata": {
     "collapsed": false
    }
   }
  }
 },
 "nbformat": 4,
 "nbformat_minor": 0
}