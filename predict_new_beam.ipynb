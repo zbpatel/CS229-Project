{
 "cells": [
  {
   "cell_type": "markdown",
   "metadata": {
    "collapsed": true,
    "pycharm": {
     "name": "#%% md\n"
    }
   },
   "source": [
    "# predict_net_beam\n",
    "\n",
    "## Starter code for running an experiment on the data\n"
   ]
  },
  {
   "cell_type": "code",
   "execution_count": 1,
   "outputs": [],
   "source": [
    "input_file = \"dataset1_clean.csv\""
   ],
   "metadata": {
    "collapsed": false,
    "pycharm": {
     "name": "#%% \n",
     "is_executing": false
    }
   }
  },
  {
   "cell_type": "code",
   "execution_count": 2,
   "outputs": [],
   "source": [
    "# imports:\n",
    "import pandas as pd\n",
    "import matplotlib.pyplot as plt\n",
    "import numpy as np\n",
    "from sklearn.metrics import mean_squared_error\n",
    "# import utils and other models\n",
    "import utils\n",
    "import bla_avg_model"
   ],
   "metadata": {
    "collapsed": false,
    "pycharm": {
     "name": "#%%\n",
     "is_executing": false
    }
   }
  },
  {
   "cell_type": "code",
   "execution_count": 3,
   "outputs": [],
   "source": [
    "# load in cleaned dataset\n",
    "data = pd.read_csv(input_file, index_col=[0], skipinitialspace=True)\n",
    "#print(data.head())"
   ],
   "metadata": {
    "collapsed": false,
    "pycharm": {
     "name": "#%%\n",
     "is_executing": false
    }
   }
  },
  {
   "cell_type": "code",
   "execution_count": 4,
   "outputs": [],
   "source": [
    "# split the dataset into a form ready for analysis in this script\n",
    "X_95th, X_mean, X_5th = utils.split_X_into_quantiles(data)\n",
    "Y_95th, Y_mean, Y_5th = utils.split_Y_into_beams_and_quantiles(data)"
   ],
   "metadata": {
    "collapsed": false,
    "pycharm": {
     "name": "#%%\n",
     "is_executing": false
    }
   }
  },
  {
   "cell_type": "code",
   "execution_count": 5,
   "outputs": [
    {
     "name": "stdout",
     "text": [
      "5\n5\n5\n5\n5\n5\n[25.747299826000283, 0.5884172575426321, 1.0139390708071847, 19.467317027908653, 0.10221632142126563, 1.152294300079512]\n"
     ],
     "output_type": "stream"
    }
   ],
   "source": [
    "model_errs = []\n",
    "models = []\n",
    "saved_preds = []\n",
    "# train 6 models, using 1 beam each time as a validation beam\n",
    "for bla in range(0, 6):\n",
    "    # train a bla_avg_model\n",
    "    model = bla_avg_model.BlaAvgModel()\n",
    "    model_ys = [Y_mean[i] for i in range(0, 6) if i != bla]\n",
    "    \n",
    "    model.train(X_mean, model_ys)\n",
    "    models.append(model)\n",
    "    \n",
    "    test_y = Y_mean[bla]\n",
    "    preds = model.predict(X_mean)\n",
    "    saved_preds.append(preds)\n",
    "    \n",
    "    err = mean_squared_error(test_y, preds)\n",
    "    model_errs.append(err)\n",
    "    \n",
    "    \n",
    "print(model_errs)   \n",
    "    "
   ],
   "metadata": {
    "collapsed": false,
    "pycharm": {
     "name": "#%%\n",
     "is_executing": false
    }
   }
  },
  {
   "cell_type": "code",
   "execution_count": 6,
   "outputs": [
    {
     "data": {
      "text/plain": "<Figure size 432x288 with 1 Axes>",
      "image/png": "[encoded data removed]"
     },
     "metadata": {
      "needs_background": "light"
     },
     "output_type": "display_data"
    }
   ],
   "source": [
    "# graph the coefficients of our models\n",
    "model_coefs = [model.model.coef_[0] for model in models]\n",
    "indices = list(range(len(model_coefs[0])))\n",
    "\n",
    "plt.yscale(\"log\")\n",
    "plt.plot(x=indices, y=model_coefs[0])\n",
    "\n",
    "plt.show()"
   ],
   "metadata": {
    "collapsed": false,
    "pycharm": {
     "name": "#%%\n",
     "is_executing": false
    }
   }
  },
  {
   "cell_type": "code",
   "execution_count": 7,
   "outputs": [
    {
     "name": "stdout",
     "text": [
      "[-1.84726154e+09 -8.82652780e+02 -1.01893557e+10  1.77470798e+10\n -1.58742466e+10  8.22257831e+09  1.32002784e+09 -1.04994371e+10\n  1.42431195e+10  1.24341011e+01 -1.52184424e+10 -1.74471780e+10\n  1.00788836e+09  3.45303749e+08  3.84164460e+08 -2.91745736e+08\n -1.99711762e+10  5.97863843e+10 -5.75421362e+09 -5.75421362e+09\n -5.20036487e+10  4.69900952e+10 -8.63788652e+10 -2.28321585e+02\n -4.05498935e+09 -3.75006173e+10  5.09549303e+09 -9.61282689e+06\n -1.08432284e+02  9.34726541e-03  2.64174964e+00  1.46645824e+00\n  1.04898597e+00  2.22701196e+00  1.58712150e-01  3.26317196e-04\n -1.62857350e-01 -7.83517864e-02 -6.37428913e-02 -7.76502702e-03\n -1.80370646e-02]\n"
     ],
     "output_type": "stream"
    }
   ],
   "source": [
    "print(model_coefs[0])\n",
    "\n"
   ],
   "metadata": {
    "collapsed": false,
    "pycharm": {
     "name": "#%%\n",
     "is_executing": false
    }
   }
  },
  {
   "cell_type": "code",
   "execution_count": 8,
   "outputs": [
    {
     "data": {
      "text/plain": "<Figure size 432x288 with 1 Axes>",
      "image/png": "[encoded data removed]"
     },
     "metadata": {
      "needs_background": "light"
     },
     "output_type": "display_data"
    }
   ],
   "source": [
    "plt.plot(indices, indices)\n",
    "plt.show()"
   ],
   "metadata": {
    "collapsed": false,
    "pycharm": {
     "name": "#%%\n",
     "is_executing": false
    }
   }
  },
  {
   "cell_type": "code",
   "execution_count": 9,
   "outputs": [
    {
     "name": "stdout",
     "text": [
      "[0, 1, 2, 3, 4, 5, 6, 7, 8, 9, 10, 11, 12, 13, 14, 15, 16, 17, 18, 19, 20, 21, 22, 23, 24, 25, 26, 27, 28, 29, 30, 31, 32, 33, 34, 35, 36, 37, 38, 39, 40]\n[-1.84726154e+09 -8.82652780e+02 -1.01893557e+10  1.77470798e+10\n -1.58742466e+10  8.22257831e+09  1.32002784e+09 -1.04994371e+10\n  1.42431195e+10  1.24341011e+01 -1.52184424e+10 -1.74471780e+10\n  1.00788836e+09  3.45303749e+08  3.84164460e+08 -2.91745736e+08\n -1.99711762e+10  5.97863843e+10 -5.75421362e+09 -5.75421362e+09\n -5.20036487e+10  4.69900952e+10 -8.63788652e+10 -2.28321585e+02\n -4.05498935e+09 -3.75006173e+10  5.09549303e+09 -9.61282689e+06\n -1.08432284e+02  9.34726541e-03  2.64174964e+00  1.46645824e+00\n  1.04898597e+00  2.22701196e+00  1.58712150e-01  3.26317196e-04\n -1.62857350e-01 -7.83517864e-02 -6.37428913e-02 -7.76502702e-03\n -1.80370646e-02]\n"
     ],
     "output_type": "stream"
    }
   ],
   "source": [
    "print(list(range(len(model_coefs[0]))))\n",
    "print(model_coefs[0])\n",
    "\n"
   ],
   "metadata": {
    "collapsed": false,
    "pycharm": {
     "name": "#%%\n",
     "is_executing": false
    }
   }
  },
  {
   "cell_type": "code",
   "execution_count": 10,
   "outputs": [
    {
     "data": {
      "text/plain": "<Figure size 432x288 with 1 Axes>",
      "image/png": "[encoded data removed]"
     },
     "metadata": {
      "needs_background": "light"
     },
     "output_type": "display_data"
    }
   ],
   "source": [
    "plt.yscale(\"linear\")\n",
    "plt.plot(saved_preds[0])\n",
    "plt.show()\n"
   ],
   "metadata": {
    "collapsed": false,
    "pycharm": {
     "name": "#%%\n",
     "is_executing": false
    }
   }
  },
  {
   "cell_type": "code",
   "execution_count": 11,
   "outputs": [
    {
     "name": "stdout",
     "text": [
      "[[-30.03666667]\n [-29.96      ]\n [-29.96711864]\n [-29.96416667]\n [-29.98372881]\n [-29.9725    ]\n [-29.99847458]\n [-30.01716667]\n [-29.92576271]\n [-29.951     ]]\n"
     ],
     "output_type": "stream"
    },
    {
     "data": {
      "text/plain": "[<matplotlib.lines.Line2D at 0x236b67a6710>]"
     },
     "metadata": {},
     "output_type": "execute_result",
     "execution_count": 11
    },
    {
     "data": {
      "text/plain": "<Figure size 432x288 with 1 Axes>",
      "image/png": "[encoded data removed]"
     },
     "metadata": {
      "needs_background": "light"
     },
     "output_type": "display_data"
    }
   ],
   "source": [
    "print(Y_mean[0][:10])\n",
    "plt.plot(Y_mean[0], color=\"Red\")\n"
   ],
   "metadata": {
    "collapsed": false,
    "pycharm": {
     "name": "#%%\n",
     "is_executing": false
    }
   }
  },
  {
   "cell_type": "code",
   "execution_count": 12,
   "outputs": [
    {
     "data": {
      "text/plain": "<Figure size 432x288 with 1 Axes>",
      "image/png": "[encoded data removed]"
     },
     "metadata": {
      "needs_background": "light"
     },
     "output_type": "display_data"
    }
   ],
   "source": [
    "plt.plot(saved_preds[0], color=\"Blue\")\n",
    "plt.show()"
   ],
   "metadata": {
    "collapsed": false,
    "pycharm": {
     "name": "#%%\n",
     "is_executing": false
    }
   }
  },
  {
   "cell_type": "code",
   "execution_count": 13,
   "outputs": [
    {
     "name": "stdout",
     "text": [
      "[[-35.77966309]\n [-35.94033813]\n [-35.91033936]\n ...\n [-34.81112671]\n [-34.80819702]\n [-34.8140564 ]]\n"
     ],
     "output_type": "stream"
    }
   ],
   "source": [
    "print(saved_preds[0])"
   ],
   "metadata": {
    "collapsed": false,
    "pycharm": {
     "name": "#%%\n",
     "is_executing": false
    }
   }
  }
 ],
 "metadata": {
  "kernelspec": {
   "display_name": "Python 3",
   "language": "python",
   "name": "python3"
  },
  "language_info": {
   "codemirror_mode": {
    "name": "ipython",
    "version": 2
   },
   "file_extension": ".py",
   "mimetype": "text/x-python",
   "name": "python",
   "nbconvert_exporter": "python",
   "pygments_lexer": "ipython2",
   "version": "2.7.6"
  },
  "pycharm": {
   "stem_cell": {
    "cell_type": "raw",
    "source": [],
    "metadata": {
     "collapsed": false
    }
   }
  }
 },
 "nbformat": 4,
 "nbformat_minor": 0
}