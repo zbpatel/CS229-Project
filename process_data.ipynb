{
 "cells": [
  {
   "cell_type": "markdown",
   "metadata": {
    "collapsed": true,
    "pycharm": {
     "name": "#%% md\n"
    }
   },
   "source": [
    "# process_data.ipynb\n",
    "\n",
    "## Input a raw data csv, and prepare it for analysis\n",
    "\n",
    "Cleaning steps:\n",
    "- Handle a few cases where the first and last rows contain 'bad' values\n",
    "- Convert hours:minutes time column into a datetime index\n",
    "\n",
    "Processing steps:\n",
    "- Resample data from ~1 record / second to 1 record / hour granularity, taking 95th, 50th (median) and 5th quantiles"
   ]
  },
  {
   "cell_type": "code",
   "execution_count": 1,
   "outputs": [],
   "source": [
    "# Imports:\n",
    "import pandas as pd"
   ],
   "metadata": {
    "collapsed": false,
    "pycharm": {
     "name": "#%%\n",
     "is_executing": false
    }
   }
  },
  {
   "cell_type": "code",
   "execution_count": 2,
   "outputs": [],
   "source": [
    "# input and output file names\n",
    "input_file = \"dataset1.csv\"\n",
    "output_file = \"dataset1_clean.csv\""
   ],
   "metadata": {
    "collapsed": false,
    "pycharm": {
     "name": "#%%\n",
     "is_executing": false
    }
   }
  },
  {
   "cell_type": "code",
   "execution_count": 3,
   "outputs": [
    {
     "name": "stderr",
     "text": [
      "C:\\Users\\zpatel\\Miniconda3\\envs\\cs229\\lib\\site-packages\\ipykernel_launcher.py:2: ParserWarning: Falling back to the 'python' engine because the 'c' engine does not support skipfooter; you can avoid this warning by specifying engine='python'.\n  \n"
     ],
     "output_type": "stream"
    }
   ],
   "source": [
    "# when reading full dataset, skip last 2 rows because they are NaN\n",
    "raw_data = pd.read_csv(input_file, skipfooter=2)"
   ],
   "metadata": {
    "collapsed": false,
    "pycharm": {
     "name": "#%%\n",
     "is_executing": false
    }
   }
  },
  {
   "cell_type": "code",
   "execution_count": 4,
   "outputs": [],
   "source": [
    "def add_datetime_index(dataframe, print_status):\n",
    "    # convert Minute:Second time stamps into proper datetime typed Time column.\n",
    "    raw_data.reset_index(inplace=True)\n",
    "    if print_status:\n",
    "        print(\"Reset Index:\\n\", dataframe.head())\n",
    "    \n",
    "    dataframe[\"Time\"] = dataframe[\"Time\"].astype(str).apply(lambda x: x[:-2])\n",
    "    dataframe[\"Hour\"] = dataframe[\"index\"].floordiv(3600).apply(lambda x: str(x) if x >=10 else \"0\" + str(x))\n",
    "    dataframe[\"Day\"] = dataframe[\"Hour\"].astype(int).floordiv(24).apply(lambda x: str(x + 1) if (x + 1) >=10 else \"0\" + str(x + 1))\n",
    "    dataframe[\"Hour\"] = dataframe[\"Hour\"].apply(lambda x: int(x) % 24)\n",
    "    dataframe[\"Time\"] = dataframe[\"Day\"].astype(str) + \":\" + dataframe[\"Hour\"].astype(str) + \":\" + dataframe[\"Time\"].astype(str)\n",
    "    dataframe.set_index(\"index\", inplace=True, drop=True)\n",
    "   \n",
    "    # %M:%S format turns a reading into minutes:seconds and drops the fractional seconds (since sampling period is 2s)\n",
    "    dataframe['Time'] = pd.to_datetime(dataframe['Time'], format=\"%d:%H:%M:%S\", exact=False)\n",
    "    dataframe['Seconds'] = dataframe['Time'].dt.second\n",
    "    \n",
    "    if print_status:\n",
    "        print(\"Converted Time to DateTime:\\n\", dataframe.head())"
   ],
   "metadata": {
    "collapsed": false,
    "pycharm": {
     "name": "#%%\n",
     "is_executing": false
    }
   }
  },
  {
   "cell_type": "code",
   "execution_count": 5,
   "outputs": [
    {
     "name": "stdout",
     "text": [
      "Reset Index:\n    index     Time  DAC S0  SO (volts)  DAC S1  S1 (volts)  DAC S2  S2 (volts)  \\\n0      0  00:00.9       2         2.0   0.499         0.5     0.5         0.5   \n1      1  00:01.9       2         2.0   0.499         0.5     0.5         0.5   \n2      2  00:02.9       2         2.0   0.499         0.5     0.5         0.5   \n3      3  00:03.9       2         2.0   0.499         0.5     0.5         0.5   \n4      4  00:04.9       2         2.0   0.499         0.5     0.5         0.5   \n\n   DAC S3  S3 (volts)  ...  Extractor 3  Extractor 4  Extractor 5  \\\n0     0.5         0.5  ...      -176.38      -225.05      -192.70   \n1     0.5         0.5  ...      -176.35      -225.05      -192.73   \n2     0.5         0.5  ...      -176.41      -225.02      -192.70   \n3     0.5         0.5  ...      -176.41      -224.99      -192.73   \n4     0.5         0.5  ...      -176.35      -225.02      -192.70   \n\n   Extractor 6  BLA 1  BLA 2  BLA 3  BLA 4  BLA 5  BLA 6  \n0      -183.08 -30.06 -35.29 -36.44 -38.54 -35.19 -33.23  \n1      -183.08 -29.99 -35.25 -36.41 -38.57 -35.19 -33.23  \n2      -183.08 -29.93 -35.19 -36.47 -38.54 -35.13 -33.26  \n3      -183.05 -30.03 -35.22 -36.47 -38.51 -35.22 -33.17  \n4      -183.08 -30.03 -35.29 -36.35 -38.51 -35.19 -33.20  \n\n[5 rows x 49 columns]\n",
      "Converted Time to DateTime:\n                      Time  DAC S0  SO (volts)  DAC S1  S1 (volts)  DAC S2  \\\nindex                                                                       \n0     1900-01-01 00:00:00       2         2.0   0.499         0.5     0.5   \n1     1900-01-01 00:00:01       2         2.0   0.499         0.5     0.5   \n2     1900-01-01 00:00:02       2         2.0   0.499         0.5     0.5   \n3     1900-01-01 00:00:03       2         2.0   0.499         0.5     0.5   \n4     1900-01-01 00:00:04       2         2.0   0.499         0.5     0.5   \n\n       S2 (volts)  DAC S3  S3 (volts)  DAC S4  ...  Extractor 6  BLA 1  BLA 2  \\\nindex                                          ...                              \n0             0.5     0.5         0.5   0.501  ...      -183.08 -30.06 -35.29   \n1             0.5     0.5         0.5   0.501  ...      -183.08 -29.99 -35.25   \n2             0.5     0.5         0.5   0.501  ...      -183.08 -29.93 -35.19   \n3             0.5     0.5         0.5   0.501  ...      -183.05 -30.03 -35.22   \n4             0.5     0.5         0.5   0.501  ...      -183.08 -30.03 -35.29   \n\n       BLA 3  BLA 4  BLA 5  BLA 6  Hour  Day  Seconds  \nindex                                                  \n0     -36.44 -38.54 -35.19 -33.23     0   01        0  \n1     -36.41 -38.57 -35.19 -33.23     0   01        1  \n2     -36.47 -38.54 -35.13 -33.26     0   01        2  \n3     -36.47 -38.51 -35.22 -33.17     0   01        3  \n4     -36.35 -38.51 -35.19 -33.20     0   01        4  \n\n[5 rows x 51 columns]\n"
     ],
     "output_type": "stream"
    }
   ],
   "source": [
    "# apply datetime index conversion\n",
    "add_datetime_index(raw_data, print_status=True)"
   ],
   "metadata": {
    "collapsed": false,
    "pycharm": {
     "name": "#%%\n",
     "is_executing": false
    }
   }
  },
  {
   "cell_type": "code",
   "execution_count": 6,
   "outputs": [],
   "source": [
    "# drop any rows containing NaN values\n",
    "# since we will later resample by quartile this should be an acceptable compromise\n",
    "raw_data.dropna(inplace=True)\n"
   ],
   "metadata": {
    "collapsed": false,
    "pycharm": {
     "name": "#%%\n",
     "is_executing": false
    }
   }
  },
  {
   "cell_type": "code",
   "execution_count": 7,
   "outputs": [],
   "source": [
    "# Helper functions for resampling\n",
    "def quant(q):\n",
    "    # spits out a quantile generating function for using \n",
    "    return lambda x: x.quantile(q)"
   ],
   "metadata": {
    "collapsed": false,
    "pycharm": {
     "name": "#%%\n",
     "is_executing": false
    }
   }
  },
  {
   "cell_type": "code",
   "execution_count": 8,
   "outputs": [
    {
     "name": "stdout",
     "text": [
      "Old #rows: 775215, Filtered #rows: 12960\n"
     ],
     "output_type": "stream"
    },
    {
     "data": {
      "text/plain": "                        DAC S0                   SO (volts)                    \\\n                    <lambda_0> median <lambda_1> <lambda_0> median <lambda_1>   \nTime                                                                            \n1900-01-01 00:00:00        2.0    2.0        2.0        2.0    2.0        2.0   \n1900-01-01 00:01:00        2.0    2.0        2.0        2.0    2.0        2.0   \n1900-01-01 00:02:00        2.0    2.0        2.0        2.0    2.0        2.0   \n1900-01-01 00:03:00        2.0    2.0        2.0        2.0    2.0        2.0   \n1900-01-01 00:04:00        2.0    2.0        2.0        2.0    2.0        2.0   \n\n                        DAC S1                   S1 (volts)  ...      BLA 3  \\\n                    <lambda_0> median <lambda_1> <lambda_0>  ... <lambda_1>   \nTime                                                         ...              \n1900-01-01 00:00:00      0.499  0.499      0.499        0.5  ...   -35.1800   \n1900-01-01 00:01:00      0.499  0.499      0.499        0.5  ...   -36.1895   \n1900-01-01 00:02:00      0.499  0.499      0.499        0.5  ...   -36.1270   \n1900-01-01 00:03:00      0.499  0.499      0.499        0.5  ...   -36.0400   \n1900-01-01 00:04:00      0.499  0.499      0.499        0.5  ...   -35.9800   \n\n                         BLA 4                        BLA 5                    \\\n                    <lambda_0> median <lambda_1> <lambda_0> median <lambda_1>   \nTime                                                                            \n1900-01-01 00:00:00   -38.7000 -38.57    -38.022     -35.22 -35.16    -34.889   \n1900-01-01 00:01:00   -38.6300 -38.57    -38.510     -35.22 -35.10    -35.030   \n1900-01-01 00:02:00   -38.6000 -38.54    -38.480     -35.19 -35.13    -35.030   \n1900-01-01 00:03:00   -38.6315 -38.51    -38.450     -35.16 -35.06    -34.970   \n1900-01-01 00:04:00   -38.6000 -38.51    -38.480     -35.19 -35.10    -35.030   \n\n                         BLA 6                    \n                    <lambda_0> median <lambda_1>  \nTime                                              \n1900-01-01 00:00:00   -33.3510 -33.20   -33.0800  \n1900-01-01 00:01:00   -33.3900 -33.30   -33.1985  \n1900-01-01 00:02:00   -33.2600 -33.14   -33.0800  \n1900-01-01 00:03:00   -33.3015 -33.17   -33.0800  \n1900-01-01 00:04:00   -33.3000 -33.17   -33.1100  \n\n[5 rows x 141 columns]",
      "text/html": "<div>\n<style scoped>\n    .dataframe tbody tr th:only-of-type {\n        vertical-align: middle;\n    }\n\n    .dataframe tbody tr th {\n        vertical-align: top;\n    }\n\n    .dataframe thead tr th {\n        text-align: left;\n    }\n\n    .dataframe thead tr:last-of-type th {\n        text-align: right;\n    }\n</style>\n<table border=\"1\" class=\"dataframe\">\n  <thead>\n    <tr>\n      <th></th>\n      <th colspan=\"3\" halign=\"left\">DAC S0</th>\n      <th colspan=\"3\" halign=\"left\">SO (volts)</th>\n      <th colspan=\"3\" halign=\"left\">DAC S1</th>\n      <th>S1 (volts)</th>\n      <th>...</th>\n      <th>BLA 3</th>\n      <th colspan=\"3\" halign=\"left\">BLA 4</th>\n      <th colspan=\"3\" halign=\"left\">BLA 5</th>\n      <th colspan=\"3\" halign=\"left\">BLA 6</th>\n    </tr>\n    <tr>\n      <th></th>\n      <th>&lt;lambda_0&gt;</th>\n      <th>median</th>\n      <th>&lt;lambda_1&gt;</th>\n      <th>&lt;lambda_0&gt;</th>\n      <th>median</th>\n      <th>&lt;lambda_1&gt;</th>\n      <th>&lt;lambda_0&gt;</th>\n      <th>median</th>\n      <th>&lt;lambda_1&gt;</th>\n      <th>&lt;lambda_0&gt;</th>\n      <th>...</th>\n      <th>&lt;lambda_1&gt;</th>\n      <th>&lt;lambda_0&gt;</th>\n      <th>median</th>\n      <th>&lt;lambda_1&gt;</th>\n      <th>&lt;lambda_0&gt;</th>\n      <th>median</th>\n      <th>&lt;lambda_1&gt;</th>\n      <th>&lt;lambda_0&gt;</th>\n      <th>median</th>\n      <th>&lt;lambda_1&gt;</th>\n    </tr>\n    <tr>\n      <th>Time</th>\n      <th></th>\n      <th></th>\n      <th></th>\n      <th></th>\n      <th></th>\n      <th></th>\n      <th></th>\n      <th></th>\n      <th></th>\n      <th></th>\n      <th></th>\n      <th></th>\n      <th></th>\n      <th></th>\n      <th></th>\n      <th></th>\n      <th></th>\n      <th></th>\n      <th></th>\n      <th></th>\n      <th></th>\n    </tr>\n  </thead>\n  <tbody>\n    <tr>\n      <th>1900-01-01 00:00:00</th>\n      <td>2.0</td>\n      <td>2.0</td>\n      <td>2.0</td>\n      <td>2.0</td>\n      <td>2.0</td>\n      <td>2.0</td>\n      <td>0.499</td>\n      <td>0.499</td>\n      <td>0.499</td>\n      <td>0.5</td>\n      <td>...</td>\n      <td>-35.1800</td>\n      <td>-38.7000</td>\n      <td>-38.57</td>\n      <td>-38.022</td>\n      <td>-35.22</td>\n      <td>-35.16</td>\n      <td>-34.889</td>\n      <td>-33.3510</td>\n      <td>-33.20</td>\n      <td>-33.0800</td>\n    </tr>\n    <tr>\n      <th>1900-01-01 00:01:00</th>\n      <td>2.0</td>\n      <td>2.0</td>\n      <td>2.0</td>\n      <td>2.0</td>\n      <td>2.0</td>\n      <td>2.0</td>\n      <td>0.499</td>\n      <td>0.499</td>\n      <td>0.499</td>\n      <td>0.5</td>\n      <td>...</td>\n      <td>-36.1895</td>\n      <td>-38.6300</td>\n      <td>-38.57</td>\n      <td>-38.510</td>\n      <td>-35.22</td>\n      <td>-35.10</td>\n      <td>-35.030</td>\n      <td>-33.3900</td>\n      <td>-33.30</td>\n      <td>-33.1985</td>\n    </tr>\n    <tr>\n      <th>1900-01-01 00:02:00</th>\n      <td>2.0</td>\n      <td>2.0</td>\n      <td>2.0</td>\n      <td>2.0</td>\n      <td>2.0</td>\n      <td>2.0</td>\n      <td>0.499</td>\n      <td>0.499</td>\n      <td>0.499</td>\n      <td>0.5</td>\n      <td>...</td>\n      <td>-36.1270</td>\n      <td>-38.6000</td>\n      <td>-38.54</td>\n      <td>-38.480</td>\n      <td>-35.19</td>\n      <td>-35.13</td>\n      <td>-35.030</td>\n      <td>-33.2600</td>\n      <td>-33.14</td>\n      <td>-33.0800</td>\n    </tr>\n    <tr>\n      <th>1900-01-01 00:03:00</th>\n      <td>2.0</td>\n      <td>2.0</td>\n      <td>2.0</td>\n      <td>2.0</td>\n      <td>2.0</td>\n      <td>2.0</td>\n      <td>0.499</td>\n      <td>0.499</td>\n      <td>0.499</td>\n      <td>0.5</td>\n      <td>...</td>\n      <td>-36.0400</td>\n      <td>-38.6315</td>\n      <td>-38.51</td>\n      <td>-38.450</td>\n      <td>-35.16</td>\n      <td>-35.06</td>\n      <td>-34.970</td>\n      <td>-33.3015</td>\n      <td>-33.17</td>\n      <td>-33.0800</td>\n    </tr>\n    <tr>\n      <th>1900-01-01 00:04:00</th>\n      <td>2.0</td>\n      <td>2.0</td>\n      <td>2.0</td>\n      <td>2.0</td>\n      <td>2.0</td>\n      <td>2.0</td>\n      <td>0.499</td>\n      <td>0.499</td>\n      <td>0.499</td>\n      <td>0.5</td>\n      <td>...</td>\n      <td>-35.9800</td>\n      <td>-38.6000</td>\n      <td>-38.51</td>\n      <td>-38.480</td>\n      <td>-35.19</td>\n      <td>-35.10</td>\n      <td>-35.030</td>\n      <td>-33.3000</td>\n      <td>-33.17</td>\n      <td>-33.1100</td>\n    </tr>\n  </tbody>\n</table>\n<p>5 rows × 141 columns</p>\n</div>"
     },
     "metadata": {},
     "output_type": "execute_result",
     "execution_count": 8
    }
   ],
   "source": [
    "# resample data by hour\n",
    "\n",
    "# first, drop hour, day and seconds columns\n",
    "resampled_data = (\n",
    "    raw_data.drop(columns=[\"Hour\", \"Day\", \"Seconds\"])\n",
    "    .resample(rule=\"min\", on=\"Time\", )\n",
    "    .agg([quant(.05), 'median', quant(.95)])\n",
    "    .rename({\"<lambda_0>\":\"5th quantile\", \"<lambda_1>\": \"95th quantile\"})\n",
    ")\n",
    "\n",
    "print(\"Old #rows: %d, Filtered #rows: %d\" %(len(raw_data), len(resampled_data)))\n",
    "\n",
    "# Check that index was updated properly\n",
    "resampled_data.head()"
   ],
   "metadata": {
    "collapsed": false,
    "pycharm": {
     "name": "#%%\n",
     "is_executing": false
    }
   }
  },
  {
   "cell_type": "code",
   "execution_count": 9,
   "outputs": [
    {
     "data": {
      "text/plain": "                     DAC_S0_95th_quantile  DAC_S0_median  DAC_S0_5th_quantile  \\\nTime                                                                            \n1900-01-01 00:00:00                   2.0            2.0                  2.0   \n1900-01-01 00:01:00                   2.0            2.0                  2.0   \n1900-01-01 00:02:00                   2.0            2.0                  2.0   \n1900-01-01 00:03:00                   2.0            2.0                  2.0   \n1900-01-01 00:04:00                   2.0            2.0                  2.0   \n\n                     SO_(volts)_95th_quantile  SO_(volts)_median  \\\nTime                                                               \n1900-01-01 00:00:00                       2.0                2.0   \n1900-01-01 00:01:00                       2.0                2.0   \n1900-01-01 00:02:00                       2.0                2.0   \n1900-01-01 00:03:00                       2.0                2.0   \n1900-01-01 00:04:00                       2.0                2.0   \n\n                     SO_(volts)_5th_quantile  DAC_S1_95th_quantile  \\\nTime                                                                 \n1900-01-01 00:00:00                      2.0                 0.499   \n1900-01-01 00:01:00                      2.0                 0.499   \n1900-01-01 00:02:00                      2.0                 0.499   \n1900-01-01 00:03:00                      2.0                 0.499   \n1900-01-01 00:04:00                      2.0                 0.499   \n\n                     DAC_S1_median  DAC_S1_5th_quantile  \\\nTime                                                      \n1900-01-01 00:00:00          0.499                0.499   \n1900-01-01 00:01:00          0.499                0.499   \n1900-01-01 00:02:00          0.499                0.499   \n1900-01-01 00:03:00          0.499                0.499   \n1900-01-01 00:04:00          0.499                0.499   \n\n                     S1_(volts)_95th_quantile  ...  BLA_3_5th_quantile  \\\nTime                                           ...                       \n1900-01-01 00:00:00                       0.5  ...            -35.1800   \n1900-01-01 00:01:00                       0.5  ...            -36.1895   \n1900-01-01 00:02:00                       0.5  ...            -36.1270   \n1900-01-01 00:03:00                       0.5  ...            -36.0400   \n1900-01-01 00:04:00                       0.5  ...            -35.9800   \n\n                     BLA_4_95th_quantile  BLA_4_median  BLA_4_5th_quantile  \\\nTime                                                                         \n1900-01-01 00:00:00             -38.7000        -38.57             -38.022   \n1900-01-01 00:01:00             -38.6300        -38.57             -38.510   \n1900-01-01 00:02:00             -38.6000        -38.54             -38.480   \n1900-01-01 00:03:00             -38.6315        -38.51             -38.450   \n1900-01-01 00:04:00             -38.6000        -38.51             -38.480   \n\n                     BLA_5_95th_quantile  BLA_5_median  BLA_5_5th_quantile  \\\nTime                                                                         \n1900-01-01 00:00:00               -35.22        -35.16             -34.889   \n1900-01-01 00:01:00               -35.22        -35.10             -35.030   \n1900-01-01 00:02:00               -35.19        -35.13             -35.030   \n1900-01-01 00:03:00               -35.16        -35.06             -34.970   \n1900-01-01 00:04:00               -35.19        -35.10             -35.030   \n\n                     BLA_6_95th_quantile  BLA_6_median  BLA_6_5th_quantile  \nTime                                                                        \n1900-01-01 00:00:00             -33.3510        -33.20            -33.0800  \n1900-01-01 00:01:00             -33.3900        -33.30            -33.1985  \n1900-01-01 00:02:00             -33.2600        -33.14            -33.0800  \n1900-01-01 00:03:00             -33.3015        -33.17            -33.0800  \n1900-01-01 00:04:00             -33.3000        -33.17            -33.1100  \n\n[5 rows x 141 columns]",
      "text/html": "<div>\n<style scoped>\n    .dataframe tbody tr th:only-of-type {\n        vertical-align: middle;\n    }\n\n    .dataframe tbody tr th {\n        vertical-align: top;\n    }\n\n    .dataframe thead th {\n        text-align: right;\n    }\n</style>\n<table border=\"1\" class=\"dataframe\">\n  <thead>\n    <tr style=\"text-align: right;\">\n      <th></th>\n      <th>DAC_S0_95th_quantile</th>\n      <th>DAC_S0_median</th>\n      <th>DAC_S0_5th_quantile</th>\n      <th>SO_(volts)_95th_quantile</th>\n      <th>SO_(volts)_median</th>\n      <th>SO_(volts)_5th_quantile</th>\n      <th>DAC_S1_95th_quantile</th>\n      <th>DAC_S1_median</th>\n      <th>DAC_S1_5th_quantile</th>\n      <th>S1_(volts)_95th_quantile</th>\n      <th>...</th>\n      <th>BLA_3_5th_quantile</th>\n      <th>BLA_4_95th_quantile</th>\n      <th>BLA_4_median</th>\n      <th>BLA_4_5th_quantile</th>\n      <th>BLA_5_95th_quantile</th>\n      <th>BLA_5_median</th>\n      <th>BLA_5_5th_quantile</th>\n      <th>BLA_6_95th_quantile</th>\n      <th>BLA_6_median</th>\n      <th>BLA_6_5th_quantile</th>\n    </tr>\n    <tr>\n      <th>Time</th>\n      <th></th>\n      <th></th>\n      <th></th>\n      <th></th>\n      <th></th>\n      <th></th>\n      <th></th>\n      <th></th>\n      <th></th>\n      <th></th>\n      <th></th>\n      <th></th>\n      <th></th>\n      <th></th>\n      <th></th>\n      <th></th>\n      <th></th>\n      <th></th>\n      <th></th>\n      <th></th>\n      <th></th>\n    </tr>\n  </thead>\n  <tbody>\n    <tr>\n      <th>1900-01-01 00:00:00</th>\n      <td>2.0</td>\n      <td>2.0</td>\n      <td>2.0</td>\n      <td>2.0</td>\n      <td>2.0</td>\n      <td>2.0</td>\n      <td>0.499</td>\n      <td>0.499</td>\n      <td>0.499</td>\n      <td>0.5</td>\n      <td>...</td>\n      <td>-35.1800</td>\n      <td>-38.7000</td>\n      <td>-38.57</td>\n      <td>-38.022</td>\n      <td>-35.22</td>\n      <td>-35.16</td>\n      <td>-34.889</td>\n      <td>-33.3510</td>\n      <td>-33.20</td>\n      <td>-33.0800</td>\n    </tr>\n    <tr>\n      <th>1900-01-01 00:01:00</th>\n      <td>2.0</td>\n      <td>2.0</td>\n      <td>2.0</td>\n      <td>2.0</td>\n      <td>2.0</td>\n      <td>2.0</td>\n      <td>0.499</td>\n      <td>0.499</td>\n      <td>0.499</td>\n      <td>0.5</td>\n      <td>...</td>\n      <td>-36.1895</td>\n      <td>-38.6300</td>\n      <td>-38.57</td>\n      <td>-38.510</td>\n      <td>-35.22</td>\n      <td>-35.10</td>\n      <td>-35.030</td>\n      <td>-33.3900</td>\n      <td>-33.30</td>\n      <td>-33.1985</td>\n    </tr>\n    <tr>\n      <th>1900-01-01 00:02:00</th>\n      <td>2.0</td>\n      <td>2.0</td>\n      <td>2.0</td>\n      <td>2.0</td>\n      <td>2.0</td>\n      <td>2.0</td>\n      <td>0.499</td>\n      <td>0.499</td>\n      <td>0.499</td>\n      <td>0.5</td>\n      <td>...</td>\n      <td>-36.1270</td>\n      <td>-38.6000</td>\n      <td>-38.54</td>\n      <td>-38.480</td>\n      <td>-35.19</td>\n      <td>-35.13</td>\n      <td>-35.030</td>\n      <td>-33.2600</td>\n      <td>-33.14</td>\n      <td>-33.0800</td>\n    </tr>\n    <tr>\n      <th>1900-01-01 00:03:00</th>\n      <td>2.0</td>\n      <td>2.0</td>\n      <td>2.0</td>\n      <td>2.0</td>\n      <td>2.0</td>\n      <td>2.0</td>\n      <td>0.499</td>\n      <td>0.499</td>\n      <td>0.499</td>\n      <td>0.5</td>\n      <td>...</td>\n      <td>-36.0400</td>\n      <td>-38.6315</td>\n      <td>-38.51</td>\n      <td>-38.450</td>\n      <td>-35.16</td>\n      <td>-35.06</td>\n      <td>-34.970</td>\n      <td>-33.3015</td>\n      <td>-33.17</td>\n      <td>-33.0800</td>\n    </tr>\n    <tr>\n      <th>1900-01-01 00:04:00</th>\n      <td>2.0</td>\n      <td>2.0</td>\n      <td>2.0</td>\n      <td>2.0</td>\n      <td>2.0</td>\n      <td>2.0</td>\n      <td>0.499</td>\n      <td>0.499</td>\n      <td>0.499</td>\n      <td>0.5</td>\n      <td>...</td>\n      <td>-35.9800</td>\n      <td>-38.6000</td>\n      <td>-38.51</td>\n      <td>-38.480</td>\n      <td>-35.19</td>\n      <td>-35.10</td>\n      <td>-35.030</td>\n      <td>-33.3000</td>\n      <td>-33.17</td>\n      <td>-33.1100</td>\n    </tr>\n  </tbody>\n</table>\n<p>5 rows × 141 columns</p>\n</div>"
     },
     "metadata": {},
     "output_type": "execute_result",
     "execution_count": 9
    }
   ],
   "source": [
    "# flatten multi level columns created by groupby\n",
    "resampled_data.columns = list(map('_'.join, resampled_data.columns.values))\n",
    "resampled_data.columns = list(map(lambda x: x.replace(\"<lambda_0>\", \"95th_quantile\"), resampled_data.columns.values))\n",
    "resampled_data.columns = list(map(lambda x: x.replace(\"<lambda_1>\", \"5th_quantile\"), resampled_data.columns.values))\n",
    "resampled_data.columns = list(map(lambda x: x.replace(\" \", \"_\"), resampled_data.columns.values))\n",
    "\n",
    "resampled_data.head()"
   ],
   "metadata": {
    "collapsed": false,
    "pycharm": {
     "name": "#%%\n",
     "is_executing": false
    }
   }
  },
  {
   "cell_type": "code",
   "execution_count": 10,
   "outputs": [],
   "source": [
    "# delete 39 rows that are entirely blank from rows 12900 to 12938\n",
    "resampled_data.dropna(inplace=True)"
   ],
   "metadata": {
    "collapsed": false,
    "pycharm": {
     "name": "#%%\n",
     "is_executing": false
    }
   }
  },
  {
   "cell_type": "code",
   "execution_count": 11,
   "outputs": [],
   "source": [
    "# save new dataframe to disk\n",
    "resampled_data.to_csv(output_file)\n",
    "\n",
    "\n"
   ],
   "metadata": {
    "collapsed": false,
    "pycharm": {
     "name": "#%%\n",
     "is_executing": false
    }
   }
  }
 ],
 "metadata": {
  "kernelspec": {
   "display_name": "Python 3",
   "language": "python",
   "name": "python3"
  },
  "language_info": {
   "codemirror_mode": {
    "name": "ipython",
    "version": 2
   },
   "file_extension": ".py",
   "mimetype": "text/x-python",
   "name": "python",
   "nbconvert_exporter": "python",
   "pygments_lexer": "ipython2",
   "version": "2.7.6"
  },
  "pycharm": {
   "stem_cell": {
    "cell_type": "raw",
    "source": [],
    "metadata": {
     "collapsed": false
    }
   }
  }
 },
 "nbformat": 4,
 "nbformat_minor": 0
}