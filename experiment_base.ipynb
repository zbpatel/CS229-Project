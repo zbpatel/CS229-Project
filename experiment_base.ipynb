{
 "cells": [
  {
   "cell_type": "markdown",
   "metadata": {
    "collapsed": true,
    "pycharm": {
     "name": "#%% md\n"
    }
   },
   "source": [
    "# experiment_base.ipynb\n",
    "\n",
    "## Starter code for running an experiment on the data\n"
   ]
  },
  {
   "cell_type": "code",
   "execution_count": 1,
   "outputs": [],
   "source": [
    "input_file = \"dataset1_clean.csv\""
   ],
   "metadata": {
    "collapsed": false,
    "pycharm": {
     "name": "#%% \n",
     "is_executing": false
    }
   }
  },
  {
   "cell_type": "code",
   "execution_count": 2,
   "outputs": [],
   "source": [
    "# imports:\n",
    "import pandas as pd\n",
    "import matplotlib.pyplot as plt\n",
    "import numpy as np\n",
    "\n",
    "# import helper functions\n",
    "import utils"
   ],
   "metadata": {
    "collapsed": false,
    "pycharm": {
     "name": "#%%\n",
     "is_executing": false
    }
   }
  },
  {
   "cell_type": "code",
   "execution_count": 11,
   "outputs": [
    {
     "name": "stdout",
     "text": [
      "                     DAC_S0_95th_quantile  DAC_S0_mean  DAC_S0_5th_quantile  \\\nTime                                                                          \n1900-01-01 00:00:00                   2.0          2.0                  2.0   \n1900-01-01 00:01:00                   2.0          2.0                  2.0   \n1900-01-01 00:02:00                   2.0          2.0                  2.0   \n1900-01-01 00:03:00                   2.0          2.0                  2.0   \n1900-01-01 00:04:00                   2.0          2.0                  2.0   \n\n                     SO_(volts)_95th_quantile  SO_(volts)_mean  \\\nTime                                                             \n1900-01-01 00:00:00                       2.0              2.0   \n1900-01-01 00:01:00                       2.0              2.0   \n1900-01-01 00:02:00                       2.0              2.0   \n1900-01-01 00:03:00                       2.0              2.0   \n1900-01-01 00:04:00                       2.0              2.0   \n\n                     SO_(volts)_5th_quantile  DAC_S1_95th_quantile  \\\nTime                                                                 \n1900-01-01 00:00:00                      2.0                 0.499   \n1900-01-01 00:01:00                      2.0                 0.499   \n1900-01-01 00:02:00                      2.0                 0.499   \n1900-01-01 00:03:00                      2.0                 0.499   \n1900-01-01 00:04:00                      2.0                 0.499   \n\n                     DAC_S1_mean  DAC_S1_5th_quantile  \\\nTime                                                    \n1900-01-01 00:00:00        0.499                0.499   \n1900-01-01 00:01:00        0.499                0.499   \n1900-01-01 00:02:00        0.499                0.499   \n1900-01-01 00:03:00        0.499                0.499   \n1900-01-01 00:04:00        0.499                0.499   \n\n                     S1_(volts)_95th_quantile  ...  BLA_3_5th_quantile  \\\nTime                                           ...                       \n1900-01-01 00:00:00                       0.5  ...            -35.1800   \n1900-01-01 00:01:00                       0.5  ...            -36.1895   \n1900-01-01 00:02:00                       0.5  ...            -36.1270   \n1900-01-01 00:03:00                       0.5  ...            -36.0400   \n1900-01-01 00:04:00                       0.5  ...            -35.9800   \n\n                     BLA_4_95th_quantile  BLA_4_mean  BLA_4_5th_quantile  \\\nTime                                                                       \n1900-01-01 00:00:00             -38.7000  -38.438276             -38.022   \n1900-01-01 00:01:00             -38.6300  -38.571000             -38.510   \n1900-01-01 00:02:00             -38.6000  -38.531864             -38.480   \n1900-01-01 00:03:00             -38.6315  -38.527500             -38.450   \n1900-01-01 00:04:00             -38.6000  -38.527288             -38.480   \n\n                     BLA_5_95th_quantile  BLA_5_mean  BLA_5_5th_quantile  \\\nTime                                                                       \n1900-01-01 00:00:00               -35.22  -35.116552             -34.889   \n1900-01-01 00:01:00               -35.22  -35.116833             -35.030   \n1900-01-01 00:02:00               -35.19  -35.114746             -35.030   \n1900-01-01 00:03:00               -35.16  -35.069667             -34.970   \n1900-01-01 00:04:00               -35.19  -35.098475             -35.030   \n\n                     BLA_6_95th_quantile  BLA_6_mean  BLA_6_5th_quantile  \nTime                                                                      \n1900-01-01 00:00:00             -33.3510  -33.213218            -33.0800  \n1900-01-01 00:01:00             -33.3900  -33.278333            -33.1985  \n1900-01-01 00:02:00             -33.2600  -33.154915            -33.0800  \n1900-01-01 00:03:00             -33.3015  -33.164333            -33.0800  \n1900-01-01 00:04:00             -33.3000  -33.181864            -33.1100  \n\n[5 rows x 141 columns]\n"
     ],
     "output_type": "stream"
    }
   ],
   "source": [
    "# load in cleaned dataset\n",
    "data = pd.read_csv(input_file, index_col=[0], skipinitialspace=True)\n",
    "print(data.head())"
   ],
   "metadata": {
    "collapsed": false,
    "pycharm": {
     "name": "#%%\n",
     "is_executing": false
    }
   }
  },
  {
   "cell_type": "code",
   "execution_count": 18,
   "outputs": [
    {
     "name": "stdout",
     "text": [
      "['BLA_1_95th_quantile', 'BLA_1_mean', 'BLA_1_5th_quantile']\n"
     ],
     "output_type": "stream"
    }
   ],
   "source": [],
   "metadata": {
    "collapsed": false,
    "pycharm": {
     "name": "#%%\n",
     "is_executing": false
    }
   }
  }
 ],
 "metadata": {
  "kernelspec": {
   "display_name": "Python 3",
   "language": "python",
   "name": "python3"
  },
  "language_info": {
   "codemirror_mode": {
    "name": "ipython",
    "version": 2
   },
   "file_extension": ".py",
   "mimetype": "text/x-python",
   "name": "python",
   "nbconvert_exporter": "python",
   "pygments_lexer": "ipython2",
   "version": "2.7.6"
  },
  "pycharm": {
   "stem_cell": {
    "cell_type": "raw",
    "source": [],
    "metadata": {
     "collapsed": false
    }
   }
  }
 },
 "nbformat": 4,
 "nbformat_minor": 0
}